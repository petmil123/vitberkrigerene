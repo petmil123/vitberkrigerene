{
 "cells": [
  {
   "cell_type": "markdown",
   "metadata": {},
   "source": [
    "# The transformer model for sequence prediction"
   ]
  },
  {
   "cell_type": "markdown",
   "metadata": {},
   "source": [
    "Deep learning is all about *learning* useful *functions* from big *datasets*. These useful functions are called neural networks, and are put together from smaller functions with parameters that are decided through optimization. In opposition to conventional programming, where we tell the computer what to do, nevral networks learns from observational data and figure out its own solution to the given problem. Here we will implement the transformer model, one of the main components in big languagemodels like *ChatGPT*."
   ]
  },
  {
   "cell_type": "markdown",
   "metadata": {},
   "source": [
    "## **1.0** Structure of the datasets and the transformermodel"
   ]
  },
  {
   "cell_type": "markdown",
   "metadata": {},
   "source": [
    "**(1)** Let          $a = 15$, $b = 7$, $c = 47$, $d = 152$\n",
    "\n",
    "then we have   $[1, 5, 7, 4, 7, 1, 5]$, $y =[1, 5, 2]$\n"
   ]
  },
  {
   "cell_type": "markdown",
   "metadata": {},
   "source": [
    "**(2)** Let   \n",
    "\n",
    "$x^{(0)} = [1, 5, 7, 4, 7]$\n",
    "\n",
    "$x^{(1)} = [1, 5, 7, 4, 7, \\hat{z_4}]$\n",
    "\n",
    "$x^{(2)} = [1, 5, 7, 4, 7, \\hat{z_4}, \\hat{z_5}]$\n",
    "\n",
    "$x^{(3)} = [1, 5, 7, 4, 7, \\hat{z_4}, \\hat{z_5}, \\hat{z_6}]$\n",
    "\n",
    "$f_{\\theta}(x^{(0)}) = [\\hat{z_0^{(0)}}, \\hat{z_1^{(0)}}, \\hat{z_2^{(0)}}, \\hat{z_3^{(0)}}, \\hat{z_4^{(0)}}]$\n",
    "\n",
    "$f_{\\theta}(x^{(0)}) = [\\hat{z_0^{(1)}}, \\hat{z_1^{(1)}}, \\hat{z_2^{(1)}}, \\hat{z_3^{(1)}}, \\hat{z_4^{(1)}}, \\hat{z_5^{(1)}}]$\n",
    "\n",
    "$f_{\\theta}(x^{(0)}) = [\\hat{z_0^{(2)}}, \\hat{z_1^{(2)}}, \\hat{z_2^{(2)}}, \\hat{z_3^{(2)}}, \\hat{z_4^{(2)}}, \\hat{z_5^{(2)}}, \\hat{z_6^{(2)}}]$\n",
    "\n",
    "If the optimization is good, the result should be:\n",
    "\n",
    "$\\hat{z_4^{(0)}} = 1, \\hat{z_5^{(1)}} = 5$ og $\\hat{z_6^{(2)}} = 2$"
   ]
  },
  {
   "cell_type": "markdown",
   "metadata": {},
   "source": [
    "**(3)**\n",
    "\n",
    "For the object function to be $\\mathcal{L}(\\theta, \\mathcal{D}) = 0$, the probability distribution must be given by:\n",
    "\n",
    "$\\hat{Y} = onehot(y) = \\begin{bmatrix}\n",
    "0 & 0 & 0 & 0 \\\\\n",
    "0 & 0 & 0 & 1 \\\\\n",
    "0 & 0 & 1 & 0 \\\\\n",
    "0 & 1 & 0 & 0 \\\\\n",
    "1 & 0 & 0 & 0 \\\\\n",
    "\\end{bmatrix}$\n",
    "\n",
    "In this case $\\hat{y}$ will be given by:\n",
    "\n",
    "$\\hat{y} := argmax(\\hat{Y}) = y$\n",
    "\n",
    "Then, $\\mathcal(L) = 0$ will be fulfilled."
   ]
  },
  {
   "cell_type": "markdown",
   "metadata": {},
   "source": [
    "**(4)**\n",
    "\n",
    "The number of parameters is given by:\n",
    "\n",
    "$d(2m + n_{max} + L(4k + 2p))$"
   ]
  },
  {
   "cell_type": "markdown",
   "metadata": {},
   "source": [
    "**(5)**\n",
    "\n",
    "$X = onehot(x) = \\begin{bmatrix}\n",
    "0 \\\\\n",
    "1\n",
    "\\end{bmatrix}, z_0 = W_Ex + [W_P]_{0:n} = \\begin{bmatrix}\n",
    "1 & 0 \\\\\n",
    "0 & \\alpha\n",
    "\\end{bmatrix} \\begin{bmatrix}\n",
    "0 \\\\\n",
    "1\n",
    "\\end{bmatrix} + \\begin{bmatrix}\n",
    "1 \\\\\n",
    "0\n",
    "\\end{bmatrix} = \\begin{bmatrix}\n",
    "0 \\\\\n",
    "\\alpha\n",
    "\\end{bmatrix} + \\begin{bmatrix}\n",
    "1 \\\\\n",
    "0\n",
    "\\end{bmatrix} = \\begin{bmatrix}\n",
    "1 \\\\\n",
    "\\alpha\n",
    "\\end{bmatrix}$\n",
    "\n",
    "$Z = softmax(\\begin{bmatrix}\n",
    "1\n",
    "\\alpha\n",
    "\\end{bmatrix}) = \\begin{bmatrix}\n",
    "\\frac{e^1}{e^1+1^{\\alpha}} \\\\\n",
    "\\frac{e^{\\alpha}}{e^1+e^{\\alpha}}\n",
    "\\end{bmatrix}$\n",
    "\n",
    "$\\hat{z} = 1 \\Rightarrow \\alpha > 1$ (when $\\alpha=1$, undefined)\n"
   ]
  },
  {
   "cell_type": "markdown",
   "metadata": {},
   "source": [
    "## **2.0** Implementing the transformermodel"
   ]
  },
  {
   "cell_type": "markdown",
   "metadata": {},
   "source": [
    "**(1)** \n",
    "\n",
    "1) If the type of layer is identified as `LinearLayer` or `Attention`, `NeuralNetwork` will inherit `step_gd` from the `Layer` class. \n",
    "\n",
    "2) If the type of layer is identified as `EmbedPosition`, `NeuralNetwork` will inherit `step_gd` from the `EmbedPosition` class. \n",
    "\n",
    "3) If the type of layer is identified as `FeedForward`, `NeuralNetwork` will inherit `step_gd` from the `FeedForward` class.\n"
   ]
  },
  {
   "cell_type": "markdown",
   "metadata": {},
   "source": []
  },
  {
   "cell_type": "code",
   "execution_count": 1,
   "metadata": {},
   "outputs": [],
   "source": [
    "from neural_network import *\n",
    "from layers import *\n",
    "from training import trainModel\n",
    "import numpy as np\n",
    "from data_generators import get_train_test_addition, get_train_test_sorting\n",
    "from training import *\n",
    "import pickle\n"
   ]
  },
  {
   "cell_type": "code",
   "execution_count": 2,
   "metadata": {},
   "outputs": [],
   "source": [
    "r = 5\n",
    "m = 2\n",
    "batchSize = 250\n",
    "batches = 10\n",
    "d = 10\n",
    "k = 5\n",
    "p = 15\n",
    "L = 2\n",
    "n_max = 2*r-1\n",
    "sigma = Relu\n",
    "\n",
    "data = get_train_test_sorting(r,m,batchSize, batches)\n"
   ]
  },
  {
   "cell_type": "code",
   "execution_count": 3,
   "metadata": {},
   "outputs": [],
   "source": [
    "embed = EmbedPosition(n_max,m,d)\n",
    "att1 = Attention(d,k)\n",
    "att2 = Attention(d,k)\n",
    "ff1 = FeedForward(d,p)\n",
    "ff2 = FeedForward(d,p)\n",
    "un_embed = LinearLayer(d,m)\n",
    "softmax = Softmax()\n",
    "loss = CrossEntropy()\n",
    "\n",
    "att_ffd_list = []\n",
    "for layer in range(L):\n",
    "    att = Attention(d,k)\n",
    "    ff = FeedForward(d,p)\n",
    "    att_ffd_list.append(att)\n",
    "    att_ffd_list.append(ff)\n",
    "\n",
    "layers = [embed] + att_ffd_list + [un_embed] + [softmax]\n",
    "nn = NeuralNetwork(layers)"
   ]
  },
  {
   "cell_type": "code",
   "execution_count": 4,
   "metadata": {},
   "outputs": [
    {
     "name": "stdout",
     "output_type": "stream",
     "text": [
      "Iterasjon  0  L =  0.6849574875246355  gradient =  0.030905421306378165\n",
      "Iterasjon  1  L =  0.664036909118789  gradient =  0.03026218817139768\n",
      "Iterasjon  2  L =  0.6399281260431599  gradient =  0.02958236339446979\n",
      "Iterasjon  3  L =  0.6121932853687432  gradient =  0.02889143363658224\n",
      "Iterasjon  4  L =  0.5807229747652718  gradient =  0.02821838987643173\n",
      "Iterasjon  5  L =  0.5458112983531043  gradient =  0.0276157038944924\n",
      "Iterasjon  6  L =  0.5087402942955859  gradient =  0.027155300097134127\n",
      "Iterasjon  7  L =  0.472120794742262  gradient =  0.02690813412527733\n",
      "Iterasjon  8  L =  0.4385615873669618  gradient =  0.026918237290555765\n",
      "Iterasjon  9  L =  0.409746794041122  gradient =  0.02718755064586766\n",
      "Iterasjon  10  L =  0.386220733040593  gradient =  0.027673618837087872\n",
      "Iterasjon  11  L =  0.36724159163448933  gradient =  0.028271162221564745\n",
      "Iterasjon  12  L =  0.3514164854259768  gradient =  0.028829074161207297\n",
      "Iterasjon  13  L =  0.3379786835106986  gradient =  0.02947313456085791\n",
      "Iterasjon  14  L =  0.32627869810337906  gradient =  0.030358132378832073\n",
      "Iterasjon  15  L =  0.3159370483681722  gradient =  0.03105196599700324\n",
      "Iterasjon  16  L =  0.30668095708694293  gradient =  0.03158143045425266\n",
      "Iterasjon  17  L =  0.2982603909416982  gradient =  0.03200012535605071\n",
      "Iterasjon  18  L =  0.2905650699034339  gradient =  0.03229963856465122\n",
      "Iterasjon  19  L =  0.28333247151462376  gradient =  0.03239519485625736\n",
      "Iterasjon  20  L =  0.27624881465436485  gradient =  0.03235704772529806\n",
      "Iterasjon  21  L =  0.2689856118364239  gradient =  0.0320672125431353\n",
      "Iterasjon  22  L =  0.2611435658085026  gradient =  0.03175845349459926\n",
      "Iterasjon  23  L =  0.2526359015368428  gradient =  0.03134587898527733\n",
      "Iterasjon  24  L =  0.2434373630544842  gradient =  0.0308592733914843\n",
      "Iterasjon  25  L =  0.23321399415257468  gradient =  0.030055227033797358\n",
      "Iterasjon  26  L =  0.22131778971216026  gradient =  0.028867821777455265\n",
      "Iterasjon  27  L =  0.20732228830868707  gradient =  0.027450214077927502\n",
      "Iterasjon  28  L =  0.19154269372911542  gradient =  0.025725194522689426\n",
      "Iterasjon  29  L =  0.173830356100659  gradient =  0.023736132987369877\n",
      "Iterasjon  30  L =  0.1536644900329996  gradient =  0.021385109175980525\n",
      "Iterasjon  31  L =  0.1258742942216631  gradient =  0.018044016665228566\n",
      "Iterasjon  32  L =  0.0894140381118272  gradient =  0.017159400072375503\n",
      "Iterasjon  33  L =  0.06484574314291659  gradient =  0.016639153619164227\n",
      "Iterasjon  34  L =  0.04504918436043794  gradient =  0.016350662638723618\n",
      "Iterasjon  35  L =  0.03207259375282094  gradient =  0.0161498306348877\n",
      "Iterasjon  36  L =  0.02386293023099747  gradient =  0.016026941863393433\n",
      "Iterasjon  37  L =  0.01830697081547851  gradient =  0.015953424181244943\n",
      "Iterasjon  38  L =  0.014561166068127445  gradient =  0.015901702463936757\n",
      "Iterasjon  39  L =  0.011994088509384314  gradient =  0.015866745408101336\n",
      "Iterasjon  40  L =  0.010117783370064155  gradient =  0.015841520255996232\n",
      "Iterasjon  41  L =  0.008692452088442097  gradient =  0.015822321901590896\n",
      "Iterasjon  42  L =  0.007591978963663796  gradient =  0.01580764208043311\n",
      "Iterasjon  43  L =  0.006706907778422304  gradient =  0.015795908701979253\n",
      "Iterasjon  44  L =  0.005984138843154973  gradient =  0.01578634187626072\n",
      "Iterasjon  45  L =  0.005379583483515816  gradient =  0.015778366780895482\n",
      "Iterasjon  46  L =  0.00486607382164986  gradient =  0.0157716705902061\n",
      "Iterasjon  47  L =  0.004426016140886417  gradient =  0.015765980900836203\n",
      "Iterasjon  48  L =  0.004044301804210075  gradient =  0.015761096595931164\n",
      "Iterasjon  49  L =  0.003711204025384873  gradient =  0.015756860809460517\n",
      "Iterasjon  50  L =  0.0034184877911822608  gradient =  0.01575317309806187\n",
      "Iterasjon  51  L =  0.003159095196062183  gradient =  0.015749934009929096\n",
      "Iterasjon  52  L =  0.0029294698063047665  gradient =  0.015747081420373708\n",
      "Iterasjon  53  L =  0.0027226575102410867  gradient =  0.01574453890542916\n",
      "Iterasjon  54  L =  0.0025395659889513203  gradient =  0.01574228491447209\n",
      "Iterasjon  55  L =  0.002373943314708418  gradient =  0.015740278858576557\n",
      "Iterasjon  56  L =  0.0022251915852071753  gradient =  0.015738477122469223\n",
      "Iterasjon  57  L =  0.0020887776543581037  gradient =  0.0157368428606471\n",
      "Iterasjon  58  L =  0.0019660519326555647  gradient =  0.015735358628817146\n",
      "Iterasjon  59  L =  0.0018510050950143614  gradient =  0.015733999663811053\n",
      "Iterasjon  60  L =  0.0017490541493793289  gradient =  0.015732775497020176\n",
      "Iterasjon  61  L =  0.0016512875147837041  gradient =  0.015731641904829678\n",
      "Iterasjon  62  L =  0.0015677473128204993  gradient =  0.015730622896821884\n",
      "Iterasjon  63  L =  0.0014845348741507457  gradient =  0.015729675656849816\n",
      "Iterasjon  64  L =  0.0014137021251436298  gradient =  0.01572881263572779\n",
      "Iterasjon  65  L =  0.0013428743628649546  gradient =  0.01572801371995443\n",
      "Iterasjon  66  L =  0.0012790455084777926  gradient =  0.015727276405068803\n",
      "Iterasjon  67  L =  0.001219618976094226  gradient =  0.015726600660547343\n",
      "Iterasjon  68  L =  0.001162993236504854  gradient =  0.015725963740298908\n",
      "Iterasjon  69  L =  0.001112209396921344  gradient =  0.015725383742240986\n",
      "Iterasjon  70  L =  0.0010634520574536442  gradient =  0.015724831696413356\n",
      "Iterasjon  71  L =  0.0010186126761956927  gradient =  0.01572432291127074\n",
      "Iterasjon  72  L =  0.000976845878224586  gradient =  0.0157238509842029\n",
      "Iterasjon  73  L =  0.0009373254216451616  gradient =  0.01572341119406512\n",
      "Iterasjon  74  L =  0.0009000155317125637  gradient =  0.015722996654810917\n",
      "Iterasjon  75  L =  0.000866741185995793  gradient =  0.015722607708788822\n",
      "Iterasjon  76  L =  0.0008329642508843757  gradient =  0.015722243767355256\n",
      "Iterasjon  77  L =  0.0008029567191703824  gradient =  0.01572190006858155\n",
      "Iterasjon  78  L =  0.0007730843998784008  gradient =  0.015721577085176346\n",
      "Iterasjon  79  L =  0.0007463480538362115  gradient =  0.015721270778653797\n",
      "Iterasjon  80  L =  0.0007196484872513816  gradient =  0.015720981955950918\n",
      "Iterasjon  81  L =  0.0006944226609870241  gradient =  0.015720708401093034\n",
      "Iterasjon  82  L =  0.0006710223971114628  gradient =  0.01572045070882799\n",
      "Iterasjon  83  L =  0.0006480304185901907  gradient =  0.015720205884796678\n",
      "Iterasjon  84  L =  0.0006268833964324668  gradient =  0.015719974826077066\n",
      "Iterasjon  85  L =  0.0006069485513743019  gradient =  0.015719755542052134\n",
      "Iterasjon  86  L =  0.0005872395010857273  gradient =  0.01571954818729574\n",
      "Iterasjon  87  L =  0.0005701443988596189  gradient =  0.015719347851969864\n",
      "Iterasjon  88  L =  0.0005519514474787089  gradient =  0.01571915834856982\n",
      "Iterasjon  89  L =  0.0005355169218699818  gradient =  0.015718976916773653\n",
      "Iterasjon  90  L =  0.0005193011885401865  gradient =  0.015718803962210256\n",
      "Iterasjon  91  L =  0.00050363332238373  gradient =  0.015718638557731427\n",
      "Iterasjon  92  L =  0.0004890949583892118  gradient =  0.015718481348213603\n",
      "Iterasjon  93  L =  0.0004745884945075533  gradient =  0.015718330042975282\n",
      "Iterasjon  94  L =  0.0004612317492555238  gradient =  0.015718185672375446\n",
      "Iterasjon  95  L =  0.0004481161847652589  gradient =  0.015718047156946444\n",
      "Iterasjon  96  L =  0.00043579246779709496  gradient =  0.015717914861651278\n",
      "Iterasjon  97  L =  0.0004236394583693525  gradient =  0.015717787396257007\n",
      "Iterasjon  98  L =  0.0004122235611250586  gradient =  0.015717665876176967\n",
      "Iterasjon  99  L =  0.0004010273662049753  gradient =  0.015717548523495314\n"
     ]
    },
    {
     "data": {
      "text/plain": [
       "(100,)"
      ]
     },
     "execution_count": 4,
     "metadata": {},
     "output_type": "execute_result"
    }
   ],
   "source": [
    "losses = trainModel(nn,data,100,loss, m, r, 0.001)\n",
    "losses.shape"
   ]
  },
  {
   "cell_type": "code",
   "execution_count": 5,
   "metadata": {},
   "outputs": [
    {
     "name": "stdout",
     "output_type": "stream",
     "text": [
      "[6.84957488e-01 6.64036909e-01 6.39928126e-01 6.12193285e-01\n",
      " 5.80722975e-01 5.45811298e-01 5.08740294e-01 4.72120795e-01\n",
      " 4.38561587e-01 4.09746794e-01 3.86220733e-01 3.67241592e-01\n",
      " 3.51416485e-01 3.37978684e-01 3.26278698e-01 3.15937048e-01\n",
      " 3.06680957e-01 2.98260391e-01 2.90565070e-01 2.83332472e-01\n",
      " 2.76248815e-01 2.68985612e-01 2.61143566e-01 2.52635902e-01\n",
      " 2.43437363e-01 2.33213994e-01 2.21317790e-01 2.07322288e-01\n",
      " 1.91542694e-01 1.73830356e-01 1.53664490e-01 1.25874294e-01\n",
      " 8.94140381e-02 6.48457431e-02 4.50491844e-02 3.20725938e-02\n",
      " 2.38629302e-02 1.83069708e-02 1.45611661e-02 1.19940885e-02\n",
      " 1.01177834e-02 8.69245209e-03 7.59197896e-03 6.70690778e-03\n",
      " 5.98413884e-03 5.37958348e-03 4.86607382e-03 4.42601614e-03\n",
      " 4.04430180e-03 3.71120403e-03 3.41848779e-03 3.15909520e-03\n",
      " 2.92946981e-03 2.72265751e-03 2.53956599e-03 2.37394331e-03\n",
      " 2.22519159e-03 2.08877765e-03 1.96605193e-03 1.85100510e-03\n",
      " 1.74905415e-03 1.65128751e-03 1.56774731e-03 1.48453487e-03\n",
      " 1.41370213e-03 1.34287436e-03 1.27904551e-03 1.21961898e-03\n",
      " 1.16299324e-03 1.11220940e-03 1.06345206e-03 1.01861268e-03\n",
      " 9.76845878e-04 9.37325422e-04 9.00015532e-04 8.66741186e-04\n",
      " 8.32964251e-04 8.02956719e-04 7.73084400e-04 7.46348054e-04\n",
      " 7.19648487e-04 6.94422661e-04 6.71022397e-04 6.48030419e-04\n",
      " 6.26883396e-04 6.06948551e-04 5.87239501e-04 5.70144399e-04\n",
      " 5.51951447e-04 5.35516922e-04 5.19301189e-04 5.03633322e-04\n",
      " 4.89094958e-04 4.74588495e-04 4.61231749e-04 4.48116185e-04\n",
      " 4.35792468e-04 4.23639458e-04 4.12223561e-04 4.01027366e-04]\n"
     ]
    },
    {
     "data": {
      "text/plain": [
       "[<matplotlib.lines.Line2D at 0x2d3c7c12c70>]"
      ]
     },
     "execution_count": 5,
     "metadata": {},
     "output_type": "execute_result"
    },
    {
     "data": {
      "image/png": "[encoded data removed]",
      "text/plain": [
       "<Figure size 640x480 with 1 Axes>"
      ]
     },
     "metadata": {},
     "output_type": "display_data"
    }
   ],
   "source": [
    "import matplotlib.pyplot as plt\n",
    "len(losses)\n",
    "print(losses)\n",
    "plt.semilogy(losses)"
   ]
  },
  {
   "cell_type": "code",
   "execution_count": 6,
   "metadata": {},
   "outputs": [],
   "source": [
    "\n",
    "# DO NOT RUN IF NOT NEW TRAINED MODEL\n",
    "# with open(\"sortingTrained_v1\", 'wb') as f:\n",
    "    # pickle.dump(nn, f)"
   ]
  },
  {
   "cell_type": "code",
   "execution_count": 7,
   "metadata": {},
   "outputs": [],
   "source": [
    "#with open(\"savedObject\", 'rb') as f:\n",
    "     #nn2 = pickle.load(f)\n",
    "\n",
    "#type(nn2)"
   ]
  },
  {
   "cell_type": "code",
   "execution_count": 8,
   "metadata": {},
   "outputs": [
    {
     "name": "stdout",
     "output_type": "stream",
     "text": [
      "0\n",
      "(250, 5)\n",
      "(250, 5)\n",
      "(250, 1)\n",
      "1\n",
      "(250, 6)\n",
      "(250, 6)\n",
      "(250, 1)\n",
      "2\n",
      "(250, 7)\n",
      "(250, 7)\n",
      "(250, 1)\n",
      "3\n",
      "(250, 8)\n",
      "(250, 8)\n",
      "(250, 1)\n",
      "4\n",
      "(250, 9)\n",
      "(250, 9)\n",
      "(250, 1)\n"
     ]
    }
   ],
   "source": [
    "# with open(\"sortingTrained_v1\", \"rb\") as f:\n",
    "#     nn = pickle.load(f)\n",
    "\n",
    "y_pred = predict(nn, data['x_test'], r, m)"
   ]
  },
  {
   "cell_type": "code",
   "execution_count": 9,
   "metadata": {},
   "outputs": [
    {
     "name": "stdout",
     "output_type": "stream",
     "text": [
      "[[[0. 0. 1. 1. 1.]\n",
      "  [0. 1. 1. 1. 1.]\n",
      "  [0. 0. 1. 1. 1.]\n",
      "  ...\n",
      "  [0. 1. 1. 1. 1.]\n",
      "  [0. 1. 1. 1. 1.]\n",
      "  [0. 0. 1. 1. 1.]]]\n",
      "\n",
      "[[[0. 0. 1. 1. 1.]\n",
      "  [0. 1. 1. 1. 1.]\n",
      "  [0. 0. 1. 1. 1.]\n",
      "  ...\n",
      "  [0. 1. 1. 1. 1.]\n",
      "  [0. 1. 1. 1. 1.]\n",
      "  [0. 0. 1. 1. 1.]]]\n"
     ]
    },
    {
     "data": {
      "text/plain": [
       "250"
      ]
     },
     "execution_count": 9,
     "metadata": {},
     "output_type": "execute_result"
    }
   ],
   "source": [
    "print(y_pred)\n",
    "print()\n",
    "print(data['y_test'])\n",
    "np.count_nonzero(np.count_nonzero(y_pred == data['y_test'], axis=2) == y_pred.shape[-1])\n"
   ]
  },
  {
   "cell_type": "code",
   "execution_count": 10,
   "metadata": {},
   "outputs": [],
   "source": [
    "r = 7\n",
    "m = 5\n",
    "batchSize = 250\n",
    "batches = 10\n",
    "iterations = 100\n",
    "d = 20\n",
    "k = 10\n",
    "p = 25\n",
    "L = 2\n",
    "n_max = 2*r-1\n",
    "sigma = Relu"
   ]
  },
  {
   "cell_type": "code",
   "execution_count": 11,
   "metadata": {},
   "outputs": [],
   "source": [
    "data = get_train_test_sorting(r,m,batchSize, batches)"
   ]
  },
  {
   "cell_type": "code",
   "execution_count": 12,
   "metadata": {},
   "outputs": [],
   "source": [
    "embed = EmbedPosition(n_max,m,d)\n",
    "att1 = Attention(d,k)\n",
    "att2 = Attention(d,k)\n",
    "\n",
    "ff1 = FeedForward(d,p)\n",
    "ff2 = FeedForward(d,p)\n",
    "\n",
    "un_embed = LinearLayer(d,m)\n",
    "softmax = Softmax()\n",
    "loss = CrossEntropy()\n",
    "\n",
    "nn = NeuralNetwork([embed,att1,ff1,att2, ff2, un_embed,softmax])"
   ]
  },
  {
   "cell_type": "code",
   "execution_count": 13,
   "metadata": {},
   "outputs": [
    {
     "name": "stdout",
     "output_type": "stream",
     "text": [
      "Iterasjon  0  L =  1.2809337970454684  gradient =  4.973289293303838\n",
      "Iterasjon  1  L =  0.7779311605141691  gradient =  0.051643676544802286\n",
      "Iterasjon  2  L =  0.5948109627170146  gradient =  0.19164636237428606\n",
      "Iterasjon  3  L =  0.396785518109433  gradient =  0.854643651805835\n",
      "Iterasjon  4  L =  0.23975973117283078  gradient =  26.069136725347477\n",
      "Iterasjon  5  L =  0.13637081957706426  gradient =  71.48588058454034\n",
      "Iterasjon  6  L =  0.07579134269914303  gradient =  81.72941580769226\n",
      "Iterasjon  7  L =  0.04620539954005436  gradient =  207.8031037450754\n",
      "Iterasjon  8  L =  0.026692843980857205  gradient =  169.23312660677567\n",
      "Iterasjon  9  L =  0.018445847071885263  gradient =  89.43951272204337\n",
      "Iterasjon  10  L =  0.014132358018203927  gradient =  24.273039522713688\n",
      "Iterasjon  11  L =  0.011040581364602634  gradient =  8.545910622917447\n",
      "Iterasjon  12  L =  0.008981050856385491  gradient =  2.996742299587113\n",
      "Iterasjon  13  L =  0.007605645387736585  gradient =  1.1376824513628756\n",
      "Iterasjon  14  L =  0.006432531548630181  gradient =  0.39840158056534813\n",
      "Iterasjon  15  L =  0.005355642884068928  gradient =  0.10139509823606048\n",
      "Iterasjon  16  L =  0.004337841874156289  gradient =  0.020572599462660508\n",
      "Iterasjon  17  L =  0.003574326281474042  gradient =  0.013374759441235675\n",
      "Iterasjon  18  L =  0.0029828709204242046  gradient =  0.012947351260625564\n",
      "Iterasjon  19  L =  0.0025186092635136256  gradient =  0.01291044187194387\n",
      "Iterasjon  20  L =  0.002189718864711033  gradient =  0.012902298631808496\n",
      "Iterasjon  21  L =  0.0019340698615424937  gradient =  0.012898388313027259\n",
      "Iterasjon  22  L =  0.0017052377821845477  gradient =  0.01289527930405611\n",
      "Iterasjon  23  L =  0.001514043254336516  gradient =  0.012892488410325314\n",
      "Iterasjon  24  L =  0.0013607111793842522  gradient =  0.01289036844500261\n",
      "Iterasjon  25  L =  0.0012322340628901  gradient =  0.012888679874951242\n",
      "Iterasjon  26  L =  0.0011190270525300028  gradient =  0.012887177614905376\n",
      "Iterasjon  27  L =  0.0010134438365920224  gradient =  0.012885784161630357\n",
      "Iterasjon  28  L =  0.0009201918941530272  gradient =  0.012884527682532888\n",
      "Iterasjon  29  L =  0.000843621156278373  gradient =  0.012883579364321064\n",
      "Iterasjon  30  L =  0.0007778325178414338  gradient =  0.012882807249215793\n",
      "Iterasjon  31  L =  0.0007195397344456191  gradient =  0.012882103064145545\n",
      "Iterasjon  32  L =  0.0006656129076726717  gradient =  0.01288141772570532\n",
      "Iterasjon  33  L =  0.0006163725647939075  gradient =  0.012880742914198554\n",
      "Iterasjon  34  L =  0.0005727550119925927  gradient =  0.01288013058739123\n",
      "Iterasjon  35  L =  0.0005339612307720734  gradient =  0.012879561486000236\n",
      "Iterasjon  36  L =  0.0004999116322938016  gradient =  0.012879077860364739\n",
      "Iterasjon  37  L =  0.00046978748274568863  gradient =  0.012878660997278224\n",
      "Iterasjon  38  L =  0.00044223720125135337  gradient =  0.012878306510449404\n",
      "Iterasjon  39  L =  0.0004161255003540465  gradient =  0.012877963342705261\n",
      "Iterasjon  40  L =  0.00039125820114202585  gradient =  0.012877623558291302\n",
      "Iterasjon  41  L =  0.00036858913210693526  gradient =  0.012877268397351333\n",
      "Iterasjon  42  L =  0.00034759504437223676  gradient =  0.012876940386619094\n",
      "Iterasjon  43  L =  0.0003287034798426058  gradient =  0.012876639539749444\n",
      "Iterasjon  44  L =  0.0003121656520941707  gradient =  0.012876377054892519\n",
      "Iterasjon  45  L =  0.0002967267483943666  gradient =  0.012876155104582605\n",
      "Iterasjon  46  L =  0.00028287217569465206  gradient =  0.012875948954129737\n",
      "Iterasjon  47  L =  0.0002700359401205578  gradient =  0.01287576485947766\n",
      "Iterasjon  48  L =  0.0002576903290619913  gradient =  0.012875586315625026\n",
      "Iterasjon  49  L =  0.00024610224110826524  gradient =  0.012875417005611206\n",
      "Iterasjon  50  L =  0.00023518895654941335  gradient =  0.012875253464570307\n",
      "Iterasjon  51  L =  0.00022502523279029264  gradient =  0.012875098353967824\n",
      "Iterasjon  52  L =  0.00021557074632476406  gradient =  0.012874957998946349\n",
      "Iterasjon  53  L =  0.00020668565381640403  gradient =  0.012874825790186343\n",
      "Iterasjon  54  L =  0.00019863789272121392  gradient =  0.012874701227511318\n",
      "Iterasjon  55  L =  0.00019065003201687832  gradient =  0.012874591331810514\n",
      "Iterasjon  56  L =  0.00018334946954019055  gradient =  0.012874476019519066\n",
      "Iterasjon  57  L =  0.00017632660554003612  gradient =  0.012874368717243996\n",
      "Iterasjon  58  L =  0.0001697495030790807  gradient =  0.012874272766346362\n",
      "Iterasjon  59  L =  0.00016364798293721583  gradient =  0.012874179861240533\n",
      "Iterasjon  60  L =  0.00015775099154707908  gradient =  0.012874091163167794\n",
      "Iterasjon  61  L =  0.0001521786578437166  gradient =  0.012874002229227166\n",
      "Iterasjon  62  L =  0.00014685899097164728  gradient =  0.012873923534494864\n",
      "Iterasjon  63  L =  0.00014185353456024007  gradient =  0.012873845956452672\n",
      "Iterasjon  64  L =  0.00013714090725608867  gradient =  0.012873775012634064\n",
      "Iterasjon  65  L =  0.00013249762115514788  gradient =  0.012873703624134156\n",
      "Iterasjon  66  L =  0.00012819817383158142  gradient =  0.012873635772608286\n",
      "Iterasjon  67  L =  0.000124064641285523  gradient =  0.012873577620390233\n",
      "Iterasjon  68  L =  0.00012017218461948466  gradient =  0.012873516070882563\n",
      "Iterasjon  69  L =  0.00011639514096312081  gradient =  0.012873459993590443\n",
      "Iterasjon  70  L =  0.00011272973425150551  gradient =  0.012873407100202388\n",
      "Iterasjon  71  L =  0.00010937490578214876  gradient =  0.012873353305809082\n",
      "Iterasjon  72  L =  0.00010608130151066006  gradient =  0.012873305826385623\n",
      "Iterasjon  73  L =  0.00010291553575231813  gradient =  0.01287325767148952\n",
      "Iterasjon  74  L =  9.994530277652337e-05  gradient =  0.012873211472285444\n",
      "Iterasjon  75  L =  9.704460694662726e-05  gradient =  0.012873170319634683\n",
      "Iterasjon  76  L =  9.433076916881279e-05  gradient =  0.012873127140923953\n",
      "Iterasjon  77  L =  9.16896917749353e-05  gradient =  0.012873091769904242\n",
      "Iterasjon  78  L =  8.91099969345155e-05  gradient =  0.012873050990505347\n",
      "Iterasjon  79  L =  8.670511428659952e-05  gradient =  0.01287301289333257\n",
      "Iterasjon  80  L =  8.433164693969263e-05  gradient =  0.01287297924252782\n",
      "Iterasjon  81  L =  8.212994653776307e-05  gradient =  0.012872943287438252\n",
      "Iterasjon  82  L =  7.993277167108518e-05  gradient =  0.01287291127857397\n",
      "Iterasjon  83  L =  7.783318514917659e-05  gradient =  0.012872879347866163\n",
      "Iterasjon  84  L =  7.586873040246687e-05  gradient =  0.012872848161862445\n",
      "Iterasjon  85  L =  7.390841537424486e-05  gradient =  0.012872820649956743\n",
      "Iterasjon  86  L =  7.205250069739592e-05  gradient =  0.01287279162868635\n",
      "Iterasjon  87  L =  7.029428024922895e-05  gradient =  0.012872763729185902\n",
      "Iterasjon  88  L =  6.851086932315909e-05  gradient =  0.012872738551031737\n",
      "Iterasjon  89  L =  6.685296884563065e-05  gradient =  0.012872713259954524\n",
      "Iterasjon  90  L =  6.52892369441751e-05  gradient =  0.012872688578044635\n",
      "Iterasjon  91  L =  6.372191411202019e-05  gradient =  0.012872664381615787\n",
      "Iterasjon  92  L =  6.220522619243664e-05  gradient =  0.012872642307967728\n",
      "Iterasjon  93  L =  6.078321308311217e-05  gradient =  0.012872619194740895\n",
      "Iterasjon  94  L =  5.9380710551614e-05  gradient =  0.012872598842325726\n",
      "Iterasjon  95  L =  5.804026792371958e-05  gradient =  0.012872577074128798\n",
      "Iterasjon  96  L =  5.67111362268937e-05  gradient =  0.012872557790903676\n",
      "Iterasjon  97  L =  5.544021079643804e-05  gradient =  0.012872537700099254\n",
      "Iterasjon  98  L =  5.422549500443334e-05  gradient =  0.012872518296960301\n",
      "Iterasjon  99  L =  5.3016379026156715e-05  gradient =  0.012872500745102272\n"
     ]
    }
   ],
   "source": [
    "losses = trainModel(nn,data, iterations, loss, m, r)"
   ]
  },
  {
   "cell_type": "code",
   "execution_count": 19,
   "metadata": {},
   "outputs": [
    {
     "name": "stdout",
     "output_type": "stream",
     "text": [
      "0\n",
      "(250, 4)\n",
      "(250, 4)\n",
      "(250, 1)\n",
      "1\n",
      "(250, 5)\n",
      "(250, 5)\n",
      "(250, 1)\n",
      "2\n",
      "(250, 6)\n",
      "(250, 6)\n",
      "(250, 1)\n",
      "3\n"
     ]
    },
    {
     "ename": "ValueError",
     "evalue": "operands could not be broadcast together with shapes (250,30,7) (30,6) ",
     "output_type": "error",
     "traceback": [
      "\u001b[1;31m---------------------------------------------------------------------------\u001b[0m",
      "\u001b[1;31mValueError\u001b[0m                                Traceback (most recent call last)",
      "Cell \u001b[1;32mIn[19], line 2\u001b[0m\n\u001b[0;32m      1\u001b[0m plt\u001b[38;5;241m.\u001b[39msemilogy(losses)\n\u001b[1;32m----> 2\u001b[0m y_pred \u001b[38;5;241m=\u001b[39m \u001b[43mpredict\u001b[49m\u001b[43m(\u001b[49m\u001b[43mnn\u001b[49m\u001b[43m,\u001b[49m\u001b[43m \u001b[49m\u001b[43mdata\u001b[49m\u001b[43m[\u001b[49m\u001b[38;5;124;43m'\u001b[39;49m\u001b[38;5;124;43mx_test\u001b[39;49m\u001b[38;5;124;43m'\u001b[39;49m\u001b[43m]\u001b[49m\u001b[43m,\u001b[49m\u001b[43m \u001b[49m\u001b[43mr\u001b[49m\u001b[43m,\u001b[49m\u001b[43m \u001b[49m\u001b[43mm\u001b[49m\u001b[43m)\u001b[49m\n\u001b[0;32m      3\u001b[0m np\u001b[38;5;241m.\u001b[39mcount_nonzero(np\u001b[38;5;241m.\u001b[39mcount_nonzero(y_pred \u001b[38;5;241m==\u001b[39m data[\u001b[38;5;124m'\u001b[39m\u001b[38;5;124my_test\u001b[39m\u001b[38;5;124m'\u001b[39m], axis\u001b[38;5;241m=\u001b[39m\u001b[38;5;241m2\u001b[39m) \u001b[38;5;241m==\u001b[39m y_pred\u001b[38;5;241m.\u001b[39mshape[\u001b[38;5;241m-\u001b[39m\u001b[38;5;241m1\u001b[39m])\n\u001b[0;32m      5\u001b[0m plt\u001b[38;5;241m.\u001b[39mshow(\n\u001b[0;32m      6\u001b[0m \n\u001b[0;32m      7\u001b[0m )\n",
      "File \u001b[1;32mc:\\Users\\petar\\Documents\\vitberkrigerene\\indmatprosjekt\\prosjekt_2_utlevert_kode\\training.py:39\u001b[0m, in \u001b[0;36mpredict\u001b[1;34m(nn, xs, r, m)\u001b[0m\n\u001b[0;32m     37\u001b[0m \u001b[38;5;28mprint\u001b[39m(j)\n\u001b[0;32m     38\u001b[0m X \u001b[38;5;241m=\u001b[39m onehot(x,m)\n\u001b[1;32m---> 39\u001b[0m z \u001b[38;5;241m=\u001b[39m \u001b[43mnn\u001b[49m\u001b[38;5;241;43m.\u001b[39;49m\u001b[43mforward\u001b[49m\u001b[43m(\u001b[49m\u001b[43mX\u001b[49m\u001b[43m)\u001b[49m\n\u001b[0;32m     40\u001b[0m Z \u001b[38;5;241m=\u001b[39m np\u001b[38;5;241m.\u001b[39margmax(z, axis\u001b[38;5;241m=\u001b[39m\u001b[38;5;241m1\u001b[39m)\n\u001b[0;32m     41\u001b[0m \u001b[38;5;28mprint\u001b[39m(Z\u001b[38;5;241m.\u001b[39mshape)\n",
      "File \u001b[1;32mc:\\Users\\petar\\Documents\\vitberkrigerene\\indmatprosjekt\\prosjekt_2_utlevert_kode\\neural_network.py:17\u001b[0m, in \u001b[0;36mNeuralNetwork.forward\u001b[1;34m(self, x)\u001b[0m\n\u001b[0;32m     14\u001b[0m \u001b[38;5;28;01mdef\u001b[39;00m \u001b[38;5;21mforward\u001b[39m(\u001b[38;5;28mself\u001b[39m,x):\n\u001b[0;32m     15\u001b[0m     \u001b[38;5;66;03m#Recursively perform forward pass from initial input x\u001b[39;00m\n\u001b[0;32m     16\u001b[0m     \u001b[38;5;28;01mfor\u001b[39;00m layer \u001b[38;5;129;01min\u001b[39;00m \u001b[38;5;28mself\u001b[39m\u001b[38;5;241m.\u001b[39mlayers:\n\u001b[1;32m---> 17\u001b[0m         x \u001b[38;5;241m=\u001b[39m \u001b[43mlayer\u001b[49m\u001b[38;5;241;43m.\u001b[39;49m\u001b[43mforward\u001b[49m\u001b[43m(\u001b[49m\u001b[43mx\u001b[49m\u001b[43m)\u001b[49m\n\u001b[0;32m     18\u001b[0m     \u001b[38;5;28;01mreturn\u001b[39;00m x\n",
      "File \u001b[1;32mc:\\Users\\petar\\Documents\\vitberkrigerene\\indmatprosjekt\\prosjekt_2_utlevert_kode\\layers.py:322\u001b[0m, in \u001b[0;36mEmbedPosition.forward\u001b[1;34m(self, X)\u001b[0m\n\u001b[0;32m    320\u001b[0m \u001b[38;5;66;03m#We assume that n < n_max\u001b[39;00m\n\u001b[0;32m    321\u001b[0m n \u001b[38;5;241m=\u001b[39m X\u001b[38;5;241m.\u001b[39mshape[\u001b[38;5;241m-\u001b[39m\u001b[38;5;241m1\u001b[39m]\n\u001b[1;32m--> 322\u001b[0m z_0 \u001b[38;5;241m=\u001b[39m \u001b[38;5;28;43mself\u001b[39;49m\u001b[38;5;241;43m.\u001b[39;49m\u001b[43membed\u001b[49m\u001b[38;5;241;43m.\u001b[39;49m\u001b[43mforward\u001b[49m\u001b[43m(\u001b[49m\u001b[43mX\u001b[49m\u001b[43m)\u001b[49m\u001b[43m \u001b[49m\u001b[38;5;241;43m+\u001b[39;49m\u001b[43m \u001b[49m\u001b[38;5;28;43mself\u001b[39;49m\u001b[38;5;241;43m.\u001b[39;49m\u001b[43mparams\u001b[49m\u001b[43m[\u001b[49m\u001b[38;5;124;43m'\u001b[39;49m\u001b[38;5;124;43mWp\u001b[39;49m\u001b[38;5;124;43m'\u001b[39;49m\u001b[43m]\u001b[49m\u001b[43m[\u001b[49m\u001b[38;5;124;43m'\u001b[39;49m\u001b[38;5;124;43mw\u001b[39;49m\u001b[38;5;124;43m'\u001b[39;49m\u001b[43m]\u001b[49m\u001b[43m[\u001b[49m\u001b[43m:\u001b[49m\u001b[43m,\u001b[49m\u001b[43m:\u001b[49m\u001b[43mn\u001b[49m\u001b[43m]\u001b[49m\n\u001b[0;32m    323\u001b[0m \u001b[38;5;28;01mreturn\u001b[39;00m z_0\n",
      "\u001b[1;31mValueError\u001b[0m: operands could not be broadcast together with shapes (250,30,7) (30,6) "
     ]
    },
    {
     "data": {
      "image/png": "[encoded data removed]",
      "text/plain": [
       "<Figure size 640x480 with 1 Axes>"
      ]
     },
     "metadata": {},
     "output_type": "display_data"
    }
   ],
   "source": [
    "plt.semilogy(losses)\n",
    "y_pred = predict(nn, data['x_test'], r, m)\n",
    "np.count_nonzero(np.count_nonzero(y_pred == data['y_test'], axis=2) == y_pred.shape[-1])\n",
    "\n",
    "plt.show(\n",
    "\n",
    ")"
   ]
  },
  {
   "cell_type": "code",
   "execution_count": 16,
   "metadata": {},
   "outputs": [],
   "source": [
    "batch_size = 250\n",
    "batches = 20\n",
    "d = 30\n",
    "k=20\n",
    "p=40\n",
    "L=3\n",
    "m=10\n",
    "n_max = 2*2 + 3\n",
    "\n",
    "data =get_train_test_addition(2,batch_size,20)\n",
    "loss = CrossEntropy()\n"
   ]
  },
  {
   "cell_type": "code",
   "execution_count": 17,
   "metadata": {},
   "outputs": [],
   "source": [
    "layers = []\n",
    "\n",
    "embed = EmbedPosition(n_max - 1,m,d)\n",
    "layers.append(embed)\n",
    "for i in range(L):\n",
    "    att1 = Attention(d,k)\n",
    "    ff1 = FeedForward(d,p)\n",
    "\n",
    "    layers.append(att1)\n",
    "    layers.append(ff1)\n",
    "\n",
    "\n",
    "un_embed = LinearLayer(d,m)\n",
    "layers.append(un_embed)\n",
    "softmax = Softmax()\n",
    "layers.append(softmax)\n",
    "\n",
    "nn = NeuralNetwork(layers)"
   ]
  },
  {
   "cell_type": "code",
   "execution_count": 18,
   "metadata": {},
   "outputs": [
    {
     "name": "stdout",
     "output_type": "stream",
     "text": [
      "Iterasjon  0  L =  1.8277864214539719  gradient =  0.16236162884765912\n",
      "Iterasjon  1  L =  1.5569001275630487  gradient =  0.14937690750650423\n",
      "Iterasjon  2  L =  1.4578281377841817  gradient =  0.14608353963955528\n",
      "Iterasjon  3  L =  1.2083600718817387  gradient =  0.1956710542102024\n",
      "Iterasjon  4  L =  0.9426231480107768  gradient =  0.11829754269770146\n",
      "Iterasjon  5  L =  0.8004611827630287  gradient =  0.11169262850301022\n",
      "Iterasjon  6  L =  0.700800087844099  gradient =  0.08466679209350637\n",
      "Iterasjon  7  L =  0.619205183121276  gradient =  0.10233541264460154\n",
      "Iterasjon  8  L =  0.6138778501473829  gradient =  0.09276192229795541\n",
      "Iterasjon  9  L =  0.5743159665768754  gradient =  0.08904843521510389\n",
      "Iterasjon  10  L =  0.5501273010589843  gradient =  0.08715876891317036\n",
      "Iterasjon  11  L =  0.5390753352106604  gradient =  0.08758910775498017\n",
      "Iterasjon  12  L =  0.5302431766217023  gradient =  0.08726306017433078\n",
      "Iterasjon  13  L =  0.5288908341155065  gradient =  0.0847434948962623\n",
      "Iterasjon  14  L =  0.5168031501443702  gradient =  0.0843757690997706\n",
      "Iterasjon  15  L =  0.5100672761673478  gradient =  0.08412093035940647\n",
      "Iterasjon  16  L =  0.5047050954462862  gradient =  0.1394318451380529\n",
      "Iterasjon  17  L =  0.5034565111465585  gradient =  0.08375531815301848\n",
      "Iterasjon  18  L =  0.49527078708501604  gradient =  0.08372607790274661\n",
      "Iterasjon  19  L =  0.4931890586914049  gradient =  0.08313234833349685\n",
      "Iterasjon  20  L =  0.49057950186952937  gradient =  0.08315961107015225\n",
      "Iterasjon  21  L =  0.4927196092193558  gradient =  291.2805253190247\n",
      "Iterasjon  22  L =  0.5032776423716219  gradient =  0.082033138991782\n",
      "Iterasjon  23  L =  0.524510414819919  gradient =  0.4815512464047066\n",
      "Iterasjon  24  L =  0.5099597533890667  gradient =  94272.59969426486\n",
      "Iterasjon  25  L =  0.6005168681018357  gradient =  6.738225393877985\n",
      "Iterasjon  26  L =  0.6671486100910317  gradient =  0.08938104578319249\n",
      "Iterasjon  27  L =  0.5748892676631823  gradient =  0.6497772848880481\n",
      "Iterasjon  28  L =  0.6202587114945997  gradient =  0.09499471336173307\n",
      "Iterasjon  29  L =  0.5204081623951123  gradient =  0.07927013830389068\n",
      "Iterasjon  30  L =  0.5007634840121094  gradient =  0.08706977731422084\n",
      "Iterasjon  31  L =  0.4929187698941272  gradient =  0.07918412536389721\n",
      "Iterasjon  32  L =  0.4787512902296897  gradient =  0.07984259102885596\n",
      "Iterasjon  33  L =  0.475831263224937  gradient =  0.24228041174178788\n",
      "Iterasjon  34  L =  0.46170840327654517  gradient =  0.07560156087141046\n",
      "Iterasjon  35  L =  0.4551362871617596  gradient =  93767.789683815\n",
      "Iterasjon  36  L =  0.4583216983841738  gradient =  0.07532939637467412\n",
      "Iterasjon  37  L =  0.4442589629040324  gradient =  0.07344541547913969\n",
      "Iterasjon  38  L =  0.44159219106803665  gradient =  0.07394086845339537\n",
      "Iterasjon  39  L =  0.44556551129822736  gradient =  0.9590959540983796\n",
      "Iterasjon  40  L =  0.4522844136680789  gradient =  0.07553510889773898\n",
      "Iterasjon  41  L =  0.437086261487771  gradient =  0.07387531262406778\n",
      "Iterasjon  42  L =  0.4331141346820872  gradient =  0.07314790493015148\n",
      "Iterasjon  43  L =  0.43471627474619723  gradient =  0.07401232414607871\n",
      "Iterasjon  44  L =  0.4344819456309934  gradient =  0.07387735844330229\n",
      "Iterasjon  45  L =  0.4299121992680325  gradient =  0.07253364855145077\n",
      "Iterasjon  46  L =  0.42443508961796317  gradient =  0.0730131195258226\n",
      "Iterasjon  47  L =  0.42689195278354086  gradient =  0.07368959955667319\n",
      "Iterasjon  48  L =  0.4466255612881076  gradient =  0.07827444606282866\n",
      "Iterasjon  49  L =  0.4403323715450962  gradient =  0.07308723882628242\n",
      "Iterasjon  50  L =  0.4253084013828108  gradient =  0.07643601866621212\n",
      "Iterasjon  51  L =  0.49003570146654507  gradient =  0.07912792154462328\n",
      "Iterasjon  52  L =  0.449694776393212  gradient =  0.07623962635138534\n",
      "Iterasjon  53  L =  0.4323751083547762  gradient =  0.07669027302300144\n",
      "Iterasjon  54  L =  0.42529560493205015  gradient =  0.07300666946773914\n",
      "Iterasjon  55  L =  0.43224534724424374  gradient =  2.5641041464039236\n",
      "Iterasjon  56  L =  0.4234857681246845  gradient =  0.07302555104993759\n",
      "Iterasjon  57  L =  0.42170763313588566  gradient =  0.07269857615046162\n",
      "Iterasjon  58  L =  0.41970805430207603  gradient =  0.07254922813484543\n",
      "Iterasjon  59  L =  0.4174621566518179  gradient =  0.07278895511026809\n",
      "Iterasjon  60  L =  0.4184591934290651  gradient =  0.07278364945943373\n",
      "Iterasjon  61  L =  0.4327696508886122  gradient =  0.07450905692928354\n",
      "Iterasjon  62  L =  0.4255147241058109  gradient =  0.08045382906798622\n",
      "Iterasjon  63  L =  0.46227749653823114  gradient =  0.07898446599020681\n",
      "Iterasjon  64  L =  0.9520807639992135  gradient =  176344.64296816936\n",
      "Iterasjon  65  L =  0.8298046624239076  gradient =  5.371057253741139\n",
      "Iterasjon  66  L =  0.5565365174882135  gradient =  0.08281022852715472\n",
      "Iterasjon  67  L =  0.49146362529362897  gradient =  0.9062198307982933\n",
      "Iterasjon  68  L =  0.454139004627526  gradient =  0.13789840300633355\n",
      "Iterasjon  69  L =  0.43655526003877376  gradient =  0.19445464298789\n",
      "Iterasjon  70  L =  0.4540809589232788  gradient =  0.38097993219146475\n",
      "Iterasjon  71  L =  0.45960606444615637  gradient =  1.3887896082871043\n",
      "Iterasjon  72  L =  0.4339446771451473  gradient =  0.07574306396955331\n",
      "Iterasjon  73  L =  0.3934355693720132  gradient =  0.07565737461960192\n",
      "Iterasjon  74  L =  0.36768049881379844  gradient =  0.06985362098193751\n",
      "Iterasjon  75  L =  0.4541198928237494  gradient =  0.12904271527405112\n",
      "Iterasjon  76  L =  0.43648383725110607  gradient =  0.1582960660934403\n",
      "Iterasjon  77  L =  0.3752849744211735  gradient =  0.08378826531008633\n",
      "Iterasjon  78  L =  0.38383628407388326  gradient =  0.08093330904543226\n",
      "Iterasjon  79  L =  0.3600692308418437  gradient =  0.08030060204556075\n",
      "Iterasjon  80  L =  0.3512534536330386  gradient =  0.07604510487512951\n",
      "Iterasjon  81  L =  0.33989833136076103  gradient =  0.0752102489464214\n",
      "Iterasjon  82  L =  0.4094337605027224  gradient =  3.9830815791130005\n",
      "Iterasjon  83  L =  0.41404526827546995  gradient =  0.06916744846628538\n",
      "Iterasjon  84  L =  0.4811381429252986  gradient =  0.15562620941986302\n",
      "Iterasjon  85  L =  0.3660649165990447  gradient =  0.06204270918496031\n",
      "Iterasjon  86  L =  0.3226035834856212  gradient =  0.06041074188892927\n",
      "Iterasjon  87  L =  0.30695454876560924  gradient =  0.060779679585802875\n",
      "Iterasjon  88  L =  0.29781583385985516  gradient =  0.0615602280731973\n",
      "Iterasjon  89  L =  0.2965796064952804  gradient =  0.06048227335869593\n",
      "Iterasjon  90  L =  0.2964499457488097  gradient =  0.06159740766498572\n",
      "Iterasjon  91  L =  0.2947624995089551  gradient =  0.0761497520195294\n",
      "Iterasjon  92  L =  0.34996985254005775  gradient =  0.0808887211342424\n",
      "Iterasjon  93  L =  0.34950446373451716  gradient =  0.6518833382240927\n",
      "Iterasjon  94  L =  0.330347786054671  gradient =  0.06279847629214909\n",
      "Iterasjon  95  L =  0.3107893013957636  gradient =  0.061465091276111744\n",
      "Iterasjon  96  L =  0.29448373630562613  gradient =  0.05915814075860092\n",
      "Iterasjon  97  L =  0.29158560162369984  gradient =  0.07183398948038187\n",
      "Iterasjon  98  L =  0.2915505855729374  gradient =  0.07133534557658568\n",
      "Iterasjon  99  L =  0.29152592543943195  gradient =  0.06103306209736745\n",
      "Iterasjon  100  L =  0.28403194450065344  gradient =  0.05918302522044524\n",
      "Iterasjon  101  L =  0.2823582624862411  gradient =  0.06067060036134674\n",
      "Iterasjon  102  L =  0.28117554475700157  gradient =  0.0628575490551498\n",
      "Iterasjon  103  L =  0.28551335216512747  gradient =  0.11400367481355411\n",
      "Iterasjon  104  L =  0.2862540922223108  gradient =  0.06924938209264003\n",
      "Iterasjon  105  L =  0.280917311861404  gradient =  0.2783751352339972\n",
      "Iterasjon  106  L =  0.27690427173617216  gradient =  0.10892390213538435\n",
      "Iterasjon  107  L =  0.27347083929395155  gradient =  0.0607156290323477\n",
      "Iterasjon  108  L =  0.37973228950500876  gradient =  3.9826275169249463\n",
      "Iterasjon  109  L =  0.7659242035656173  gradient =  94073.78432832423\n",
      "Iterasjon  110  L =  0.642911851694062  gradient =  84677.38335316474\n",
      "Iterasjon  111  L =  0.5788935429438491  gradient =  7.066042803533396\n",
      "Iterasjon  112  L =  0.5410368254280086  gradient =  0.08615006730376654\n",
      "Iterasjon  113  L =  0.5319552904524805  gradient =  0.08938234869642792\n",
      "Iterasjon  114  L =  0.5087961240552974  gradient =  0.08491260174024637\n",
      "Iterasjon  115  L =  0.5017285991772902  gradient =  0.08505878717340587\n",
      "Iterasjon  116  L =  0.4987393278270888  gradient =  0.08410178782575144\n",
      "Iterasjon  117  L =  0.4969829090000964  gradient =  0.08474852893575434\n",
      "Iterasjon  118  L =  0.4923386209606007  gradient =  0.08288743263223572\n",
      "Iterasjon  119  L =  0.4880993316821972  gradient =  0.08269229867174613\n",
      "Iterasjon  120  L =  0.48238638987730525  gradient =  0.08193157179268429\n",
      "Iterasjon  121  L =  0.4853685015402164  gradient =  114.49887575216793\n",
      "Iterasjon  122  L =  0.5067843553994511  gradient =  66666.80097780569\n",
      "Iterasjon  123  L =  0.5358353712407288  gradient =  1.2855438392964738\n",
      "Iterasjon  124  L =  0.4321656326115998  gradient =  0.07002513964250864\n",
      "Iterasjon  125  L =  0.40824404369332623  gradient =  0.371893615089736\n",
      "Iterasjon  126  L =  0.32963447526302214  gradient =  0.16175506772607132\n",
      "Iterasjon  127  L =  0.3641714459385296  gradient =  0.07779884039040867\n",
      "Iterasjon  128  L =  0.3139036363932049  gradient =  0.05776125351592441\n",
      "Iterasjon  129  L =  0.28293404572785097  gradient =  0.051518539268413044\n",
      "Iterasjon  130  L =  0.2634007366675308  gradient =  0.046049784576551935\n",
      "Iterasjon  131  L =  0.24628470033329558  gradient =  0.044733075858986324\n",
      "Iterasjon  132  L =  0.23503538260105858  gradient =  0.04578751887214055\n",
      "Iterasjon  133  L =  0.6339768920461839  gradient =  95299.59192445446\n",
      "Iterasjon  134  L =  0.46881788159665605  gradient =  66514.2068412074\n",
      "Iterasjon  135  L =  0.41581366250734775  gradient =  0.37881640482395307\n",
      "Iterasjon  136  L =  0.33120330817008514  gradient =  0.055101866511866646\n",
      "Iterasjon  137  L =  0.29497566502348854  gradient =  0.052061097403269974\n",
      "Iterasjon  138  L =  0.2823898715971838  gradient =  0.052671144051802316\n",
      "Iterasjon  139  L =  0.2740872521384211  gradient =  0.05251457268005222\n",
      "Iterasjon  140  L =  0.26920369883166195  gradient =  0.05032977153862156\n",
      "Iterasjon  141  L =  0.26713488369663796  gradient =  0.08702496100780155\n",
      "Iterasjon  142  L =  0.29753243163566667  gradient =  0.1982135851132843\n",
      "Iterasjon  143  L =  0.2820949523051614  gradient =  0.050456827636203926\n",
      "Iterasjon  144  L =  0.26036310844374844  gradient =  0.05197690768739224\n",
      "Iterasjon  145  L =  0.2514195980048868  gradient =  0.05003313788872443\n",
      "Iterasjon  146  L =  0.2490131624094873  gradient =  0.049576159548771204\n",
      "Iterasjon  147  L =  0.24809349987557527  gradient =  0.049226968413511325\n",
      "Iterasjon  148  L =  0.24861226624234298  gradient =  0.049241539359755025\n",
      "Iterasjon  149  L =  0.2497339393303751  gradient =  0.049418567149940244\n"
     ]
    }
   ],
   "source": [
    "losses = trainModel(nn,data, 150, loss, m, 3) #her kjem da dimensjonsfeil må sjekkes ut"
   ]
  },
  {
   "cell_type": "code",
   "execution_count": 20,
   "metadata": {},
   "outputs": [],
   "source": [
    "# DO NOT RUN IF NOT NEW TRAINED MODEL\n",
    "# with open(\"sortingTrained_v2\", 'wb') as f:\n",
    "    # pickle.dump(nn, f)\n",
    "\n",
    "with open(\"addition_nn2\", \"wb\") as f:\n",
    "    pickle.dump(nn,f)"
   ]
  },
  {
   "cell_type": "code",
   "execution_count": 22,
   "metadata": {},
   "outputs": [
    {
     "name": "stdout",
     "output_type": "stream",
     "text": [
      "0\n",
      "(250, 4)\n",
      "(250, 4)\n",
      "(250, 1)\n",
      "1\n",
      "(250, 5)\n",
      "(250, 5)\n",
      "(250, 1)\n",
      "2\n",
      "(250, 6)\n",
      "(250, 6)\n",
      "(250, 1)\n",
      "Riktige:245\n",
      "Y:\n",
      "[[0. 5. 9.]\n",
      " [0. 8. 7.]\n",
      " [0. 6. 6.]\n",
      " [1. 2. 6.]\n",
      " [1. 1. 9.]\n",
      " [0. 4. 0.]\n",
      " [0. 6. 0.]\n",
      " [0. 5. 6.]\n",
      " [1. 3. 7.]\n",
      " [0. 9. 9.]]\n",
      "fasit\n",
      "[[0 5 8]\n",
      " [0 8 7]\n",
      " [0 6 6]\n",
      " [1 2 6]\n",
      " [1 1 9]\n",
      " [0 4 0]\n",
      " [0 6 0]\n",
      " [0 5 6]\n",
      " [1 3 7]\n",
      " [0 9 9]]\n"
     ]
    }
   ],
   "source": [
    "with open(\"addition_nn\", \"rb\") as f:\n",
    "    nn = pickle.load(f)\n",
    "\n",
    "y_pred = predict(nn, data['x_test'], 3, m)\n",
    "print(f\"Riktige:{np.count_nonzero(np.count_nonzero(y_pred[:,:,::-1] == data['y_test'], axis=2) == y_pred.shape[-1])}\")\n",
    "# print(\"X:\")\n",
    "# print(data['x_test'][0][:10])\n",
    "print(\"Y:\")\n",
    "print((y_pred[0][:10,::-1]))\n",
    "print(\"fasit\")\n",
    "print(data['y_test'][0][:10])\n"
   ]
  },
  {
   "cell_type": "code",
   "execution_count": null,
   "metadata": {},
   "outputs": [],
   "source": []
  }
 ],
 "metadata": {
  "kernelspec": {
   "display_name": "Python 3",
   "language": "python",
   "name": "python3"
  },
  "language_info": {
   "codemirror_mode": {
    "name": "ipython",
    "version": 3
   },
   "file_extension": ".py",
   "mimetype": "text/x-python",
   "name": "python",
   "nbconvert_exporter": "python",
   "pygments_lexer": "ipython3",
   "version": "3.11.8"
  }
 },
 "nbformat": 4,
 "nbformat_minor": 2
}
