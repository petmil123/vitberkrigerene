{
 "cells": [
  {
   "cell_type": "code",
   "execution_count": 1,
   "metadata": {},
   "outputs": [],
   "source": [
    "from data_generators import get_train_test_addition\n",
    "\n",
    "#dimensjoner og størrelser til x og y\n",
    "n_digits = 2\n",
    "n_max = 3*n_digits\n",
    "m = 10\n",
    "\n",
    "#definerer størrelsen på parametermatrisene\n",
    "d = 15\n",
    "k = 5\n",
    "p = 20\n",
    "\n",
    "#henter treningsdata\n",
    "data = get_train_test_addition(n_digits,samples_per_batch=100,n_batches_train=4)"
   ]
  },
  {
   "cell_type": "code",
   "execution_count": 2,
   "metadata": {},
   "outputs": [],
   "source": [
    "from utils import onehot\n",
    "\n",
    "x = data['x_train'][0]\n",
    "X = onehot(x,m)\n",
    "y = data['y_train'][0]"
   ]
  },
  {
   "cell_type": "code",
   "execution_count": 3,
   "metadata": {},
   "outputs": [
    {
     "data": {
      "text/plain": [
       "(4, 100, 6)"
      ]
     },
     "execution_count": 3,
     "metadata": {},
     "output_type": "execute_result"
    }
   ],
   "source": [
    "data['x_train'].shape"
   ]
  },
  {
   "cell_type": "code",
   "execution_count": 4,
   "metadata": {},
   "outputs": [],
   "source": [
    "from layers import LinearLayer,EmbedPosition,Attention,Softmax,CrossEntropy,FeedForward\n",
    "\n",
    "embed = EmbedPosition(n_max,m,d)\n",
    "att1 = Attention(d,k)\n",
    "ff1 = FeedForward(d,p)\n",
    "un_embed = LinearLayer(d,m)\n",
    "softmax = Softmax()\n",
    "loss = CrossEntropy()"
   ]
  },
  {
   "cell_type": "code",
   "execution_count": 5,
   "metadata": {},
   "outputs": [
    {
     "data": {
      "text/plain": [
       "array([[0., 0., 0., 0., 0., 0., 0., 0., 0., 0., 0., 0., 0., 0., 0., 0.,\n",
       "        0., 0., 0., 0.],\n",
       "       [0., 0., 0., 0., 0., 0., 0., 0., 0., 0., 0., 0., 0., 0., 0., 0.,\n",
       "        0., 0., 0., 0.],\n",
       "       [0., 0., 0., 0., 0., 0., 0., 0., 0., 0., 0., 0., 0., 0., 0., 0.,\n",
       "        0., 0., 0., 0.],\n",
       "       [0., 0., 0., 0., 0., 0., 0., 0., 0., 0., 0., 0., 0., 0., 0., 0.,\n",
       "        0., 0., 0., 0.],\n",
       "       [0., 0., 0., 0., 0., 0., 0., 0., 0., 0., 0., 0., 0., 0., 0., 0.,\n",
       "        0., 0., 0., 0.],\n",
       "       [0., 0., 0., 0., 0., 0., 0., 0., 0., 0., 0., 0., 0., 0., 0., 0.,\n",
       "        0., 0., 0., 0.],\n",
       "       [0., 0., 0., 0., 0., 0., 0., 0., 0., 0., 0., 0., 0., 0., 0., 0.,\n",
       "        0., 0., 0., 0.],\n",
       "       [0., 0., 0., 0., 0., 0., 0., 0., 0., 0., 0., 0., 0., 0., 0., 0.,\n",
       "        0., 0., 0., 0.],\n",
       "       [0., 0., 0., 0., 0., 0., 0., 0., 0., 0., 0., 0., 0., 0., 0., 0.,\n",
       "        0., 0., 0., 0.],\n",
       "       [0., 0., 0., 0., 0., 0., 0., 0., 0., 0., 0., 0., 0., 0., 0., 0.,\n",
       "        0., 0., 0., 0.],\n",
       "       [0., 0., 0., 0., 0., 0., 0., 0., 0., 0., 0., 0., 0., 0., 0., 0.,\n",
       "        0., 0., 0., 0.],\n",
       "       [0., 0., 0., 0., 0., 0., 0., 0., 0., 0., 0., 0., 0., 0., 0., 0.,\n",
       "        0., 0., 0., 0.],\n",
       "       [0., 0., 0., 0., 0., 0., 0., 0., 0., 0., 0., 0., 0., 0., 0., 0.,\n",
       "        0., 0., 0., 0.],\n",
       "       [0., 0., 0., 0., 0., 0., 0., 0., 0., 0., 0., 0., 0., 0., 0., 0.,\n",
       "        0., 0., 0., 0.],\n",
       "       [0., 0., 0., 0., 0., 0., 0., 0., 0., 0., 0., 0., 0., 0., 0., 0.,\n",
       "        0., 0., 0., 0.]])"
      ]
     },
     "execution_count": 5,
     "metadata": {},
     "output_type": "execute_result"
    }
   ],
   "source": [
    "#vi ser at dLdW_2 tilhørende ff1 (først finner vi det lineære laget l2\n",
    "#så nøkkel 'w' i params dict-en, så nøkkel 'd' for å finne den deriverte)\n",
    "#nå er denne bare en nullmatrise \n",
    "ff1.l2.params['w']['d']"
   ]
  },
  {
   "cell_type": "code",
   "execution_count": 6,
   "metadata": {},
   "outputs": [],
   "source": [
    "#\"manuelt\" forward pass (tilsvarende algoritme 1)\n",
    "z0 = embed.forward(X)\n",
    "z1 = att1.forward(z0)\n",
    "z2 = ff1.forward(z1)\n",
    "z = un_embed.forward(z2)\n",
    "Z = softmax.forward(z)"
   ]
  },
  {
   "cell_type": "code",
   "execution_count": 7,
   "metadata": {},
   "outputs": [
    {
     "name": "stdout",
     "output_type": "stream",
     "text": [
      "2.3032423004432316\n"
     ]
    }
   ],
   "source": [
    "#evaluerer objektfunksjonen\n",
    "L = loss.forward(Z,y)\n",
    "print(L)\n",
    "\n",
    "#finner den deriverte av objektfunksjonen mhp Z\n",
    "dLdZ = loss.backward()"
   ]
  },
  {
   "cell_type": "code",
   "execution_count": 8,
   "metadata": {},
   "outputs": [],
   "source": [
    "#\"manuelt\" backward pass (tilsvarende algoritme 2)\n",
    "dLdz = softmax.backward(dLdZ)\n",
    "dLdz2 = un_embed.backward(dLdz)\n",
    "dLdz1 = ff1.backward(dLdz2)\n",
    "dLdz0 = att1.backward(dLdz1)\n",
    "embed.backward(dLdz0)"
   ]
  },
  {
   "cell_type": "code",
   "execution_count": 9,
   "metadata": {},
   "outputs": [
    {
     "data": {
      "text/plain": [
       "array([[ 1.14545798e-03,  2.05153138e-04,  2.27119346e-04,\n",
       "         1.01481902e-04,  6.65581523e-04, -4.85459160e-07,\n",
       "         5.64302928e-04,  1.41550526e-03,  1.01197521e-03,\n",
       "         5.78389865e-04,  2.02008649e-04,  4.28407408e-04,\n",
       "         1.60946478e-04,  4.85066790e-04,  1.25111230e-04,\n",
       "         4.81396176e-05,  1.09113024e-03,  3.01011946e-04,\n",
       "         1.91427448e-04,  1.56405206e-04],\n",
       "       [ 8.61721760e-04,  9.65537738e-05,  1.22069677e-04,\n",
       "         1.84438872e-05, -6.58633499e-05,  6.67048540e-05,\n",
       "         3.78157768e-04,  8.64239502e-04,  7.90517069e-04,\n",
       "         4.67055547e-04,  2.05334019e-04, -1.06033628e-05,\n",
       "        -1.91676396e-04,  1.12511166e-04,  1.51333684e-04,\n",
       "        -3.52379945e-05,  4.14441373e-04,  2.22504794e-04,\n",
       "        -1.15932338e-04, -1.40525191e-04],\n",
       "       [ 5.31969466e-07, -9.69488045e-05,  1.49251374e-05,\n",
       "        -2.46014496e-05,  1.38064194e-04, -1.73660889e-05,\n",
       "        -8.53584393e-05,  3.71837573e-05, -6.56781133e-05,\n",
       "        -7.30744678e-05, -9.76415988e-05,  4.90165045e-05,\n",
       "         8.03360327e-05,  7.02355047e-05, -5.45603300e-05,\n",
       "        -2.83154080e-06, -6.62401625e-05, -4.37796304e-05,\n",
       "         9.64494265e-05,  7.84109718e-05],\n",
       "       [-4.99387442e-04, -1.05682462e-04, -6.50348710e-05,\n",
       "        -7.81838412e-06,  6.43377175e-05, -3.11485820e-05,\n",
       "        -1.52999642e-04, -5.91327384e-04, -3.12610248e-04,\n",
       "        -1.87835483e-04, -9.48573971e-05, -8.85465763e-05,\n",
       "         1.25442863e-04,  3.46756447e-05, -2.46595864e-05,\n",
       "         2.51201576e-05, -1.37650525e-04, -1.08326151e-04,\n",
       "         7.64281954e-05,  1.32687829e-04],\n",
       "       [-3.09858776e-04, -2.76596044e-04, -3.15206897e-05,\n",
       "        -4.87096924e-05,  2.73604992e-04,  1.63206500e-05,\n",
       "        -1.57145981e-04, -3.11220809e-04, -3.33868625e-04,\n",
       "        -1.99921501e-04, -2.00561175e-04,  1.21598731e-06,\n",
       "         1.61536867e-04,  2.21485705e-04, -7.04384149e-05,\n",
       "        -1.04730845e-05, -1.25193160e-04,  1.21939653e-04,\n",
       "         6.04659334e-05,  2.29088061e-04],\n",
       "       [ 2.45289820e-04,  6.67032504e-05, -1.22813250e-05,\n",
       "         2.06406316e-04, -4.76595785e-05,  1.27064348e-04,\n",
       "         2.63652166e-04,  1.86374229e-04,  3.16713250e-04,\n",
       "         1.06187304e-04,  1.32060010e-04, -3.91485089e-05,\n",
       "         1.93104090e-04,  2.04237547e-04, -7.62176668e-06,\n",
       "         1.24320200e-04,  4.63261838e-04,  1.98487046e-04,\n",
       "         1.34284218e-04,  6.16711552e-05],\n",
       "       [-2.23650536e-04,  2.87532381e-04, -6.58833669e-05,\n",
       "         2.59012377e-05, -3.59185980e-04, -2.12894519e-05,\n",
       "        -1.47951681e-05, -2.56846072e-04, -6.08536405e-05,\n",
       "         3.52864566e-06,  1.36213329e-04, -6.13355177e-05,\n",
       "        -1.71433800e-04, -3.34490024e-04,  7.81892376e-05,\n",
       "        -3.33725980e-07, -9.77530203e-05, -1.32815035e-04,\n",
       "        -1.08440531e-04, -2.22820260e-04],\n",
       "       [ 5.56108904e-04, -1.47829019e-04,  4.97352597e-05,\n",
       "         4.04208093e-05,  2.09609800e-04,  6.17122695e-05,\n",
       "         1.18879106e-04,  5.25955020e-04,  3.21511645e-04,\n",
       "         1.30938853e-04, -1.29559527e-04,  9.13964733e-05,\n",
       "         3.61712856e-04,  4.46554119e-04, -3.55826835e-05,\n",
       "         1.58050074e-04,  5.30573077e-04,  3.40124793e-04,\n",
       "         2.45811316e-04,  1.62104416e-04],\n",
       "       [ 1.78594241e-04, -4.04907005e-05,  5.16312848e-05,\n",
       "        -9.12232774e-05,  2.04530303e-05, -1.05575785e-05,\n",
       "         8.12001164e-06,  1.58625509e-04,  1.81526557e-04,\n",
       "         9.39690078e-05, -4.64668464e-06, -4.35839180e-05,\n",
       "        -1.27982971e-04,  1.96369776e-05,  3.74661200e-05,\n",
       "        -5.96433452e-05, -5.86861275e-05, -2.77072940e-05,\n",
       "        -4.16769458e-05, -3.62118218e-05],\n",
       "       [ 7.32484502e-04,  6.56408271e-06,  1.24795332e-04,\n",
       "         5.06581968e-05,  2.58889721e-04, -7.64793099e-06,\n",
       "         2.65812521e-04,  8.80599652e-04,  5.34282690e-04,\n",
       "         3.31362786e-04,  7.23141285e-05,  2.03268665e-04,\n",
       "         4.20647502e-05,  1.92684841e-04,  7.16801431e-05,\n",
       "        -9.41131203e-06,  4.20609062e-04,  1.58233987e-04,\n",
       "         3.98778328e-05,  3.49677616e-05],\n",
       "       [-1.04037919e-03, -5.60456030e-05, -1.92489686e-04,\n",
       "        -3.71579362e-05, -1.64080094e-04,  3.48115320e-05,\n",
       "        -4.01837470e-04, -1.15635628e-03, -8.47532341e-04,\n",
       "        -5.27943043e-04, -2.00002016e-04, -1.52280510e-04,\n",
       "         1.13063461e-04, -1.17314064e-04, -1.26085568e-04,\n",
       "         4.75044485e-05, -4.55320491e-04, -4.86468788e-05,\n",
       "         4.93036511e-05,  7.13937688e-05],\n",
       "       [-2.50822475e-04,  7.48839417e-05,  9.00547524e-06,\n",
       "        -1.31230833e-04,  7.81145199e-06, -4.66954051e-05,\n",
       "        -4.01229731e-06, -2.95169918e-04, -7.21627724e-05,\n",
       "         3.31404124e-05,  6.97274318e-05, -6.81578103e-05,\n",
       "        -2.29700691e-04, -9.23907871e-05,  7.78009779e-05,\n",
       "        -8.13024248e-05, -1.02409994e-04, -5.58404572e-05,\n",
       "        -1.99630632e-04, -5.10537372e-05],\n",
       "       [-2.39900301e-04,  1.52934346e-04, -6.16925747e-05,\n",
       "         4.48503748e-05,  1.39345649e-05,  7.87525914e-05,\n",
       "        -3.87658161e-06, -2.59859764e-04, -1.03836999e-04,\n",
       "        -1.33270855e-04,  9.12508171e-07,  1.30806869e-05,\n",
       "         1.30034051e-04,  1.01352003e-04, -4.63561803e-05,\n",
       "         9.52211734e-05,  2.15090647e-04,  1.28604221e-04,\n",
       "         1.32469594e-04,  5.08155970e-05],\n",
       "       [ 9.32026105e-04,  8.36287846e-05,  2.51871878e-04,\n",
       "        -1.17170090e-04,  8.76343319e-04, -6.19511953e-05,\n",
       "         3.30924565e-04,  1.21482624e-03,  7.42661021e-04,\n",
       "         4.20400674e-04,  1.66080188e-05,  4.58749177e-04,\n",
       "         1.13632336e-04,  5.43415104e-04,  6.10960906e-05,\n",
       "        -7.14727295e-06,  8.42784929e-04,  2.41663654e-04,\n",
       "         1.89782096e-04,  2.25305133e-04],\n",
       "       [-3.55471562e-04,  1.94372976e-04, -6.16356878e-05,\n",
       "        -5.92897162e-05, -4.60337214e-04, -4.74275746e-05,\n",
       "        -2.15046284e-04, -3.56709088e-04, -3.24077612e-04,\n",
       "        -1.81570868e-04,  6.39651285e-05, -9.91548623e-05,\n",
       "        -3.24085426e-04, -5.35763949e-04, -3.92556199e-05,\n",
       "        -8.65466629e-05, -5.95777347e-04, -3.56304516e-04,\n",
       "        -1.73649496e-04, -2.99391744e-04]])"
      ]
     },
     "execution_count": 9,
     "metadata": {},
     "output_type": "execute_result"
    }
   ],
   "source": [
    "#etter backward pass har dLdW_2 fått verdier\n",
    "ff1.l2.params['w']['d']"
   ]
  },
  {
   "cell_type": "code",
   "execution_count": 10,
   "metadata": {},
   "outputs": [],
   "source": [
    "from neural_network import NeuralNetwork\n",
    "\n",
    "#vi kan samle lagene i en liste som vi bruker for å\n",
    "#initialisere et nevralt nettverk der vi kan bruke forward() og backward() \n",
    "#for å oppnå det samme som vi gjorde manuelt over\n",
    "\n",
    "layers = [embed,att1,ff1,un_embed,softmax]\n",
    "nn = NeuralNetwork(layers)"
   ]
  },
  {
   "cell_type": "code",
   "execution_count": 11,
   "metadata": {},
   "outputs": [
    {
     "name": "stdout",
     "output_type": "stream",
     "text": [
      "2.3032423004432316\n"
     ]
    }
   ],
   "source": [
    "#forward pass tilsvarende algoritme 1\n",
    "Z = nn.forward(X)\n",
    "\n",
    "#beregner loss med CrossEntropy\n",
    "L = loss.forward(Z,y)\n",
    "print(L)\n",
    "\n",
    "#backward pass tilsvarende algoritme 2\n",
    "dLdZ = loss.backward()\n",
    "nn.backward(dLdZ)"
   ]
  },
  {
   "cell_type": "code",
   "execution_count": 12,
   "metadata": {},
   "outputs": [
    {
     "name": "stdout",
     "output_type": "stream",
     "text": [
      "0.18303728796256158\n"
     ]
    }
   ],
   "source": [
    "#før optimering er W_2[0,0] gitt ved\n",
    "#ff1 er det tredje laget i layers-listen (derav layers[2])\n",
    "W_2_pre_opt = nn.layers[2].l2.params['w']['w'].copy()\n",
    "print(W_2_pre_opt[0,0])"
   ]
  },
  {
   "cell_type": "code",
   "execution_count": null,
   "metadata": {},
   "outputs": [],
   "source": [
    "import numpy as np\n",
    "\n",
    "xs = data['x_train']\n",
    "ys = data['y_train']\n",
    "\n",
    "\n",
    "n_batches = xs.shape[0]\n",
    "n_iters = 100\n",
    "step_size = 0.1\n",
    "\n",
    "#treningsløkke tilsvarende algoritme 4 (med gradient descent)\n",
    "for j in range(n_iters):\n",
    "    losses = []\n",
    "    for i in range(n_batches):\n",
    "        x = xs[i]\n",
    "        y = ys[i]\n",
    "\n",
    "        X = onehot(x,m)\n",
    "        Z = nn.forward(X)\n",
    "\n",
    "        losses.append(loss.forward(Z,y))\n",
    "        dLdZ = loss.backward()\n",
    "        nn.backward(dLdZ)\n",
    "        nn.step_gd(step_size)\n",
    "    mean_loss = np.mean(losses)\n",
    "    print(\"Iterasjon \", str(j), \" L = \",mean_loss, \"\")"
   ]
  },
  {
   "cell_type": "code",
   "execution_count": 15,
   "metadata": {},
   "outputs": [],
   "source": [
    "import numpy as np\n",
    "\n",
    "xs = data['x_train']\n",
    "ys = data['y_train']\n",
    "\n",
    "n_batches = xs.shape[0]\n",
    "n_iters = 300\n",
    "step_size = 0.01\n",
    "\n",
    "\n",
    "def train():\n",
    "#treningsløkke tilsvarende algoritme 4 (med gradient descent)\n",
    "    for j in range(n_iters):\n",
    "        losses = []\n",
    "        for i in range(n_batches):\n",
    "            x = xs[i]\n",
    "            y = ys[i]\n",
    "\n",
    "            X = onehot(x,m)\n",
    "            Z = nn.forward(X)\n",
    "\n",
    "            losses.append(loss.forward(Z,y))\n",
    "            dLdZ = loss.backward()\n",
    "            nn.backward(dLdZ)\n",
    "            nn.step_adam(step_size, j + 1)\n",
    "        mean_loss = np.mean(losses)\n",
    "        print(\"Iterasjon \", str(j), \" L = \",mean_loss, \"\")"
   ]
  },
  {
   "cell_type": "code",
   "execution_count": 16,
   "metadata": {},
   "outputs": [
    {
     "ename": "TypingError",
     "evalue": "Failed in nopython mode pipeline (step: nopython frontend)\n\u001b[1mUntyped global name 'onehot':\u001b[0m \u001b[1m\u001b[1mCannot determine Numba type of <class 'function'>\u001b[0m\n\u001b[1m\nFile \"..\\..\\..\\..\\AppData\\Local\\Temp\\ipykernel_15700\\4271933738.py\", line 19:\u001b[0m\n\u001b[1m<source missing, REPL/exec in use?>\u001b[0m\n\u001b[0m",
     "output_type": "error",
     "traceback": [
      "\u001b[1;31m---------------------------------------------------------------------------\u001b[0m",
      "\u001b[1;31mTypingError\u001b[0m                               Traceback (most recent call last)",
      "Cell \u001b[1;32mIn[16], line 1\u001b[0m\n\u001b[1;32m----> 1\u001b[0m \u001b[43mtrain\u001b[49m\u001b[43m(\u001b[49m\u001b[43m)\u001b[49m\n",
      "File \u001b[1;32mc:\\Users\\petar\\AppData\\Local\\Programs\\Python\\Python39\\lib\\site-packages\\numba\\core\\dispatcher.py:468\u001b[0m, in \u001b[0;36m_DispatcherBase._compile_for_args\u001b[1;34m(self, *args, **kws)\u001b[0m\n\u001b[0;32m    464\u001b[0m         msg \u001b[38;5;241m=\u001b[39m (\u001b[38;5;124mf\u001b[39m\u001b[38;5;124m\"\u001b[39m\u001b[38;5;132;01m{\u001b[39;00m\u001b[38;5;28mstr\u001b[39m(e)\u001b[38;5;241m.\u001b[39mrstrip()\u001b[38;5;132;01m}\u001b[39;00m\u001b[38;5;124m \u001b[39m\u001b[38;5;130;01m\\n\u001b[39;00m\u001b[38;5;130;01m\\n\u001b[39;00m\u001b[38;5;124mThis error may have been caused \u001b[39m\u001b[38;5;124m\"\u001b[39m\n\u001b[0;32m    465\u001b[0m                \u001b[38;5;124mf\u001b[39m\u001b[38;5;124m\"\u001b[39m\u001b[38;5;124mby the following argument(s):\u001b[39m\u001b[38;5;130;01m\\n\u001b[39;00m\u001b[38;5;132;01m{\u001b[39;00margs_str\u001b[38;5;132;01m}\u001b[39;00m\u001b[38;5;130;01m\\n\u001b[39;00m\u001b[38;5;124m\"\u001b[39m)\n\u001b[0;32m    466\u001b[0m         e\u001b[38;5;241m.\u001b[39mpatch_message(msg)\n\u001b[1;32m--> 468\u001b[0m     \u001b[43merror_rewrite\u001b[49m\u001b[43m(\u001b[49m\u001b[43me\u001b[49m\u001b[43m,\u001b[49m\u001b[43m \u001b[49m\u001b[38;5;124;43m'\u001b[39;49m\u001b[38;5;124;43mtyping\u001b[39;49m\u001b[38;5;124;43m'\u001b[39;49m\u001b[43m)\u001b[49m\n\u001b[0;32m    469\u001b[0m \u001b[38;5;28;01mexcept\u001b[39;00m errors\u001b[38;5;241m.\u001b[39mUnsupportedError \u001b[38;5;28;01mas\u001b[39;00m e:\n\u001b[0;32m    470\u001b[0m     \u001b[38;5;66;03m# Something unsupported is present in the user code, add help info\u001b[39;00m\n\u001b[0;32m    471\u001b[0m     error_rewrite(e, \u001b[38;5;124m'\u001b[39m\u001b[38;5;124munsupported_error\u001b[39m\u001b[38;5;124m'\u001b[39m)\n",
      "File \u001b[1;32mc:\\Users\\petar\\AppData\\Local\\Programs\\Python\\Python39\\lib\\site-packages\\numba\\core\\dispatcher.py:409\u001b[0m, in \u001b[0;36m_DispatcherBase._compile_for_args.<locals>.error_rewrite\u001b[1;34m(e, issue_type)\u001b[0m\n\u001b[0;32m    407\u001b[0m     \u001b[38;5;28;01mraise\u001b[39;00m e\n\u001b[0;32m    408\u001b[0m \u001b[38;5;28;01melse\u001b[39;00m:\n\u001b[1;32m--> 409\u001b[0m     \u001b[38;5;28;01mraise\u001b[39;00m e\u001b[38;5;241m.\u001b[39mwith_traceback(\u001b[38;5;28;01mNone\u001b[39;00m)\n",
      "\u001b[1;31mTypingError\u001b[0m: Failed in nopython mode pipeline (step: nopython frontend)\n\u001b[1mUntyped global name 'onehot':\u001b[0m \u001b[1m\u001b[1mCannot determine Numba type of <class 'function'>\u001b[0m\n\u001b[1m\nFile \"..\\..\\..\\..\\AppData\\Local\\Temp\\ipykernel_15700\\4271933738.py\", line 19:\u001b[0m\n\u001b[1m<source missing, REPL/exec in use?>\u001b[0m\n\u001b[0m"
     ]
    }
   ],
   "source": [
    "train()"
   ]
  },
  {
   "cell_type": "code",
   "execution_count": null,
   "metadata": {},
   "outputs": [],
   "source": [
    "#etter trening ser vi at W_2 er gitt ved\n",
    "\n",
    "W_2_post_opt = nn.layers[2].l2.params['w']['w'].copy()\n",
    "print(W_2_post_opt[0,0])\n",
    "\n",
    "#dersom differansen er større enn null har dette parameteret endret seg etter \n",
    "#gradient descent\n",
    "print(W_2_post_opt[0,0] - W_2_pre_opt[0,0])\n",
    "\n",
    "\n"
   ]
  },
  {
   "cell_type": "code",
   "execution_count": null,
   "metadata": {},
   "outputs": [],
   "source": []
  }
 ],
 "metadata": {
  "kernelspec": {
   "display_name": "Python 3",
   "language": "python",
   "name": "python3"
  },
  "language_info": {
   "codemirror_mode": {
    "name": "ipython",
    "version": 3
   },
   "file_extension": ".py",
   "mimetype": "text/x-python",
   "name": "python",
   "nbconvert_exporter": "python",
   "pygments_lexer": "ipython3",
   "version": "3.9.13"
  }
 },
 "nbformat": 4,
 "nbformat_minor": 2
}
