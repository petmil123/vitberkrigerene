{
 "cells": [
  {
   "cell_type": "code",
   "execution_count": 40,
   "metadata": {},
   "outputs": [],
   "source": [
    "import numpy as np"
   ]
  },
  {
   "cell_type": "markdown",
   "metadata": {},
   "source": [
    "# Noen tips og triks med NUMPY\n",
    "\n",
    "Vi skal her gå gjennom noen kommandoer i Numpy som kan være nyttige i Prosjekt 2.\n",
    "\n",
    "Når man regner med matriser og vektorer er det numpy arrays som gjelder. De er enkle å opprette og å sette av plass til, og regneoperasjoner kan gjøres på et relativt høyt nivå, dvs få programmeringslinjer. \n",
    "For eksempel er det sjelden vi trenger å lage for-løkker for å løpe gjennom alle indeksene i en matrise, det fins gjerne kommandoer som utfører den operasjonen vi trenger, for eksempel som å multiplisere matriser.\n",
    "Det gjelder bare å vite om hva slags kommandoer man skal bruke. Vi begynner enkelt med noe som de aller fleste sikkert kjenner godt til allerede, og illustrerer alt gjennom eksempler"
   ]
  },
  {
   "cell_type": "code",
   "execution_count": 41,
   "metadata": {},
   "outputs": [
    {
     "name": "stdout",
     "output_type": "stream",
     "text": [
      "v= [1 2 3] \n",
      "\n",
      "A=\n",
      " [[1 2 3]\n",
      " [2 3 4]\n",
      " [3 4 5]]\n",
      "\n",
      "B=\n",
      " [[ 1  1  1]\n",
      " [ 1 -1  1]\n",
      " [ 1 -1 -1]]\n"
     ]
    }
   ],
   "source": [
    "import numpy as np\n",
    "\n",
    "# Lag en gitt vektor med 3 komponenter\n",
    "v = np.array([1,2,3])\n",
    "print('v=',v,'\\n')\n",
    "\n",
    "# Så lager vi en 3x3-matrise A\n",
    "A = np.array([[1,2,3],[2,3,4],[3,4,5]])\n",
    "print('A=\\n',A)\n",
    "# La oss også lage en matrise B \n",
    "B = np.array([[1,1,1],[1,-1,1],[1,-1,-1]])\n",
    "print('\\nB=\\n',B)\n"
   ]
  },
  {
   "cell_type": "markdown",
   "metadata": {},
   "source": [
    "Vi kan gange sammen matrise med vektor, og matrise med matrise ved å bruke @ (vanlig matrise-multiplikasjon)"
   ]
  },
  {
   "cell_type": "code",
   "execution_count": 42,
   "metadata": {},
   "outputs": [
    {
     "name": "stdout",
     "output_type": "stream",
     "text": [
      "[14 20 26] \n",
      "\n",
      "[[ 6 -4  0]\n",
      " [ 9 -5  1]\n",
      " [12 -6  2]]\n"
     ]
    }
   ],
   "source": [
    "w=A @ v\n",
    "print(w,'\\n')\n",
    "\n",
    "C = A @ B\n",
    "print(C)"
   ]
  },
  {
   "cell_type": "markdown",
   "metadata": {},
   "source": [
    "Vi kan også beregne elementvis produkt av matriser eller vektorer, det såkalte Hadamard-produktet $A\\odot B$"
   ]
  },
  {
   "cell_type": "code",
   "execution_count": 43,
   "metadata": {},
   "outputs": [
    {
     "name": "stdout",
     "output_type": "stream",
     "text": [
      "[[ 1  2  3]\n",
      " [ 2 -3  4]\n",
      " [ 3 -4 -5]] \n",
      "\n",
      "[[ 1  2  3]\n",
      " [ 2 -3  4]\n",
      " [ 3 -4 -5]]\n"
     ]
    }
   ],
   "source": [
    "AB = A*B\n",
    "print(AB,'\\n')\n",
    "\n",
    "# Det samme kunne vært gjort med np.multiply som er ekvivalent\n",
    "print(np.multiply(A,B))"
   ]
  },
  {
   "cell_type": "markdown",
   "metadata": {},
   "source": [
    "Det samme prinsippet gjelder med divisjon, både / og np.divide skal fungere, men pass på at det med $A/B$ ikke fins 0-elementer i $B$."
   ]
  },
  {
   "cell_type": "code",
   "execution_count": null,
   "metadata": {},
   "outputs": [],
   "source": []
  },
  {
   "cell_type": "markdown",
   "metadata": {},
   "source": [
    "**Sette av plass til matriser.** I prosjektet skal vi bruke samlinger av matriser for eksempel $W_k,\\ k=0,\\ldots,K$ som alle har dimensjon $d\\times d$. En måte å gjøre dette på er å definere et 3-dimensjonalt numpy-array, det vil si et array med tre indekser. Den første kan være for $k$, og de to andre for matrise-elementene i matrise nr $k$. Vi må allokere plass i minnet til dette numpy-arrayet, og det kan gjøres på flere måter. En måte er å lage et array $W$ som vi fyller initialiserer med nuller. Da er np.zeros en hendig funksjon. La oss prøve et lite eksempel med et array av typen $K \\times d \\times d$ der vi prøver $K=3$, $d=2$."
   ]
  },
  {
   "cell_type": "code",
   "execution_count": 44,
   "metadata": {},
   "outputs": [
    {
     "name": "stdout",
     "output_type": "stream",
     "text": [
      "W sin dimensjon: (3, 2, 2) \n",
      "\n",
      "W= [[[0. 0.]\n",
      "  [0. 0.]]\n",
      "\n",
      " [[0. 0.]\n",
      "  [0. 0.]]\n",
      "\n",
      " [[0. 0.]\n",
      "  [0. 0.]]]\n"
     ]
    }
   ],
   "source": [
    "K = 3\n",
    "d = 2\n",
    "W = np.zeros( (K,d,d) )\n",
    "# vi skriver først ut dimensjonen til W\n",
    "print('W sin dimensjon:',W.shape,'\\n')\n",
    "# så skriver vi ut W selv\n",
    "print('W=',W)"
   ]
  },
  {
   "cell_type": "markdown",
   "metadata": {},
   "source": [
    "Vi kan også fylle ut W med tilfeldige verdier slik vi skal gjøre i prosjektet, for eksempel etter normalfordeling"
   ]
  },
  {
   "cell_type": "code",
   "execution_count": 45,
   "metadata": {},
   "outputs": [
    {
     "name": "stdout",
     "output_type": "stream",
     "text": [
      "[[[-0.62465455  0.52790043]\n",
      "  [ 0.47440481  0.04249887]]\n",
      "\n",
      " [[-0.36988451  2.3370774 ]\n",
      "  [-1.10260959  1.45114699]]\n",
      "\n",
      " [[-1.10534676 -1.48312107]\n",
      "  [-0.94559468 -1.18097528]]]\n"
     ]
    }
   ],
   "source": [
    "K = 3\n",
    "d = 2\n",
    "W = np.random.randn(K,d,d)\n",
    "print(W)"
   ]
  },
  {
   "cell_type": "markdown",
   "metadata": {},
   "source": [
    "Merk forskjellen i syntaks på np.zeros og np.random.randn. Den første krever at dimensjonene står inne i en egen parentes, dvs np.zeros( (K,d,d) ), mens dette trengs ikke for np.random.rand(K,d,d).\n",
    "\n",
    "Typisk vil vi få bruk for å hente ut $W_k$ for en gitt $k$, kanskje fordi vi trenger å multiplisere den med, tja, la oss si en 2-vektor. Det er heldigvis enkelt. Nedenfor henter vi ut $W_0$ og multipliserer den med $x=[1,1]^T$"
   ]
  },
  {
   "cell_type": "code",
   "execution_count": 46,
   "metadata": {},
   "outputs": [
    {
     "name": "stdout",
     "output_type": "stream",
     "text": [
      "[[-0.62465455  0.52790043]\n",
      " [ 0.47440481  0.04249887]] \n",
      "\n",
      "[-0.09675412  0.51690368]\n"
     ]
    }
   ],
   "source": [
    "x=np.array([1,1])\n",
    "k=0\n",
    "print(W[k,:,:],'\\n')\n",
    "print(W[k,:,:] @ x)"
   ]
  },
  {
   "cell_type": "markdown",
   "metadata": {},
   "source": [
    "Når vi setter inn : for en indeks så betyr det at denne indeksen løper over alle verdier, så W[0,:,:] gir ut hele matrisen $W_0$.\n"
   ]
  },
  {
   "cell_type": "markdown",
   "metadata": {},
   "source": [
    "**Ferdigdefinerte funksjoner i numpy - matriser som input**. De fleste elementære funksjoner du kan tenke deg, slik som $e^x$, $\\sin x$, $\\cos x$, $\\tan x$, $\\sinh x$ osv fins i numpy-biblioteket og kan kalles uten videre. En annen veldig nyttig egenskap ved disse er at du kan kalle dem med matriser og vektorer som input. Da fungerer de rett og slett ved at funksjonen anvendes på hvert element i matrisen/vektoren og det returneres en tilsvarende matrise. La oss teste et eksempel (og merk deg samtidig at også tallet $\\pi$ fins i numpy, som np.pi."
   ]
  },
  {
   "cell_type": "code",
   "execution_count": 47,
   "metadata": {},
   "outputs": [
    {
     "name": "stdout",
     "output_type": "stream",
     "text": [
      "A= [[3.14159265 1.57079633]\n",
      " [1.04719755 0.52359878]] \n",
      "\n",
      "sin(A)= [[1.22464680e-16 1.00000000e+00]\n",
      " [8.66025404e-01 5.00000000e-01]] \n",
      "\n",
      "tanh(A)= [[0.99627208 0.91715234]\n",
      " [0.78071444 0.48047278]]\n"
     ]
    }
   ],
   "source": [
    "A = np.array([[np.pi,np.pi/2],[np.pi/3,np.pi/6]])\n",
    "print('A=',A,'\\n')\n",
    "sinA = np.sin(A)\n",
    "print('sin(A)=',sinA,'\\n')\n",
    "tanhA = np.tanh(A)\n",
    "print('tanh(A)=',tanhA)"
   ]
  },
  {
   "cell_type": "markdown",
   "metadata": {},
   "source": [
    "**Relevante numpy-funksjoner for Prosjekt 2.**\n",
    "Vi tror at følgende funksjoner kan være nyttige å vite om\n",
    "* [numpy.transpose](https://docs.scipy.org/doc/numpy-1.17.0/reference/generated/numpy.transpose.html \"transpose of matrix\")\n",
    "* [numpy.outer](https://docs.scipy.org/doc/numpy-1.17.0/reference/generated/numpy.outer.html?highlight=outer#numpy.outer \"outer product\")\n",
    "* [numpy.random.randn](https://numpy.org/devdocs/reference/random/generated/numpy.random.randn.html \"normal distribution\")\n",
    "* [numpy.linalg.norm](https://docs.scipy.org/doc/numpy/reference/generated/numpy.linalg.norm.html \"norm\")\n",
    "* [numpy.zeros](https://docs.scipy.org/doc/numpy/reference/generated/numpy.zeros.html \"fill with zeros\")\n",
    "* [numpy.ones](https://docs.scipy.org/doc/numpy/reference/generated/numpy.ones.html \"fill with ones\")\n",
    "* [numpy.tanh](https://docs.scipy.org/doc/numpy/reference/generated/numpy.tanh.html \"tanh function\")"
   ]
  },
  {
   "cell_type": "markdown",
   "metadata": {},
   "source": [
    "# Einsum for mer oversiktlige operasjoner på matriser, vektorer og numpy-arrays\n",
    "\n",
    "Einsum er en funksjon i numpy som gjør det mulig å skrive matriseoperasjoner på en mer oversiktlig måte. Det er en slags generalisering av operasjoner på matriser, vektorer eller arrays generelet, og kan brukes til å skrive mange forskjellige operasjoner på en linje. Vi kan for eksempel skrive matrise-vektorproduktet $y = Ax$ som `y = np.einsum('ij,j->i', A, x)`.\n",
    "\n",
    "Tekststrengen `ij,j->i` kan vi forstå ved å skrive matrise-vektorproduktet elementvis \n",
    "\n",
    "$$\n",
    "\\sum_{j=1}^n a_{ij}x_j = y_i, \\quad i=1,\\ldots,m\n",
    "$$\n",
    "\n",
    "For `y = np.einsum('ij,j->i', A, x)` indikerer `ij` at første input-array, $A$, har to dimensjoner (en matrise). `j` indikerer at det andre input-objektet, $x$, er har en dimensjon (en vektor). Siden `j` inngår i både `ij` og `j` vil einsum summere over denne dimensjonen (og implisitt anta at lengden på den andre dimensjonen til $A$ er lik lengden til $x$ f.eks at $A \\in \\mathbb{R}^{m \\times n}$ og $x \\in \\mathbb{R}^n$). `i` indikerer at output-objektet er en vektor med samme eller lengde som den første dimensjonen til $A$."
   ]
  },
  {
   "cell_type": "code",
   "execution_count": 48,
   "metadata": {},
   "outputs": [
    {
     "name": "stdout",
     "output_type": "stream",
     "text": [
      "[ 0.03494688  0.27798417 -0.00245783 -0.04303687  0.24541435]\n",
      "[ 0.03494688  0.27798417 -0.00245783 -0.04303687  0.24541435]\n"
     ]
    }
   ],
   "source": [
    "m = 5\n",
    "n = 3\n",
    "A = np.random.randn(m,n)\n",
    "x = np.random.randn(n)\n",
    "y = A@x\n",
    "print(y)\n",
    "\n",
    "#vi bruker \"m,n\" og \"n\" i stedet for \"ij, j\" og \"j\"\n",
    "#for å få færre indekser å forholde oss til \n",
    "#og tydligere sammenheng med dimensjonen til matrisene\n",
    "y_einsum = np.einsum('mn,n->m',A,x)\n",
    "print(y_einsum)"
   ]
  },
  {
   "cell_type": "markdown",
   "metadata": {},
   "source": [
    "### Matrisemultiplikasjon\n",
    "\n",
    "La $A \\in \\mathbb R^{n \\times m}$ og $B \\in \\mathbb R^{m \\times o}$. Vi har multiplikasjon av to matriser gitt ved $C = AB$, slik at, for $c_{ij} = [C]_{ij}$ har vi\n",
    "\n",
    "$$\n",
    "c_{ik} = \\sum_{j=1}^m a_{ij}b_{jk}\n",
    "$$\n",
    "\n",
    "for $i = 1,\\dots,n$ og $k = 1,\\dots,o$."
   ]
  },
  {
   "cell_type": "code",
   "execution_count": 49,
   "metadata": {},
   "outputs": [
    {
     "name": "stdout",
     "output_type": "stream",
     "text": [
      "True\n"
     ]
    }
   ],
   "source": [
    "n = 10\n",
    "m = 12\n",
    "o = 8\n",
    "\n",
    "\n",
    "A = np.random.randn(n,m)\n",
    "B = np.random.randn(m,o)\n",
    "\n",
    "D = A@B\n",
    "\n",
    "#vi gir einsum indeksene \"nm\" for A og \"mo\" for B\n",
    "#siden \"m\" er felles for A og B, vil einsum summere over \"m\"\n",
    "#slik som vi oppgir matrisemultiplikasjonen over \n",
    "#merk at vi bruker \"nm\" i stedet for \"ij\", osv, \n",
    "#for å få færre indekser å forholde oss til og tydligere sammenheng med dimensjonen til matrisene\n",
    "\n",
    "#\"nm\" og \"mo\" er dimensjonene til A og B\n",
    "#mens \"->no\" er dimensjonene til resultatet D\n",
    "D_einsum = np.einsum('nm,mo->no',A,B)\n",
    "\n",
    "\n",
    "#np.allclose sammenligner to arrays elementvis og \n",
    "#returnerer True hvis de er like (innenfor en viss toleranse)\n",
    "print(np.allclose(D,D_einsum))"
   ]
  },
  {
   "cell_type": "markdown",
   "metadata": {},
   "source": [
    "### Einsum kan ta et vilkårlig antall input-arrays"
   ]
  },
  {
   "cell_type": "code",
   "execution_count": 50,
   "metadata": {},
   "outputs": [
    {
     "name": "stdout",
     "output_type": "stream",
     "text": [
      "True\n"
     ]
    }
   ],
   "source": [
    "p = 6\n",
    "\n",
    "A = np.random.randn(n,m)\n",
    "B = np.random.randn(m,o)\n",
    "C = np.random.randn(o,p)\n",
    "\n",
    "D = A@B@C\n",
    "\n",
    "#Vi kan gjøre det samme med flere matriser.\n",
    "#Merk at \"m\" er felles for A og B, og \"o\" er felles for B og C\n",
    "D_einsum = np.einsum('nm,mo,op->np',A,B,C)\n",
    "print(np.allclose(D,D_einsum))"
   ]
  },
  {
   "cell_type": "markdown",
   "metadata": {},
   "source": [
    "### Krøll kan oppstå dersom flere input-arrays har samme lengde på dimensjonene"
   ]
  },
  {
   "cell_type": "code",
   "execution_count": 51,
   "metadata": {},
   "outputs": [
    {
     "name": "stdout",
     "output_type": "stream",
     "text": [
      "False\n",
      "True\n"
     ]
    }
   ],
   "source": [
    "#Merk at \"n\" inngår i alle matrisene. Det kan lett føre til krøll.\n",
    "A = np.random.randn(n,m)\n",
    "B = np.random.randn(m,n)\n",
    "C = np.random.randn(n,p)\n",
    "\n",
    "D = A@B@C\n",
    "\n",
    "#Her blir det feil.\n",
    "#Siden einsum summerer over like indekser og \"n\" er lik for A, B og C, vil einsum summere over \"n\" to ganger\n",
    "#Dette medfører at vi ender opp med et annet resultat enn matrisemultiplikasjonen A@B@C\n",
    "D_einsum = np.einsum('nm,mn,np->np',A,B,C)\n",
    "print(np.allclose(D,D_einsum))\n",
    "\n",
    "#Dersom vi bytter ut \"n\" med \"k\" for A, vil vi få riktig resultat\n",
    "#Merk at vi da må bytte \"->np\" med \"->kp\" for å få riktig dimensjon på sluttresultatet\n",
    "D_einsum = np.einsum('km,mn,np->kp',A,B,C)\n",
    "print(np.allclose(D,D_einsum))\n",
    "\n"
   ]
  },
  {
   "cell_type": "markdown",
   "metadata": {},
   "source": [
    "### Matrisemultiplikasjon over batcher\n",
    "\n",
    "La $x \\in \\mathbb R^{b \\times n \\times o}$ og $W \\in \\mathbb R^{m \\times n}$. Vi ønsker å finne $y \\in \\mathbb R^{b \\times m \\times o}$ slik at\n",
    "\n",
    "$$\n",
    "y_{ijk} = \\sum_{l=1}^n w_{lk}x_{ijl}\n",
    "$$\n",
    "\n",
    "vi kan kalle dette \"batched\" matrisemultiplikasjon, der dimensjon $b$ er batch-dimensjonen, slik at vi også kan skrive\n",
    "\n",
    "$$\n",
    "y_{i} = Wx_{i}, \\quad i = 1, \\ldots, b.\n",
    "$$"
   ]
  },
  {
   "cell_type": "code",
   "execution_count": 52,
   "metadata": {},
   "outputs": [
    {
     "name": "stdout",
     "output_type": "stream",
     "text": [
      "(10, 8, 6)\n",
      "(10, 8, 6)\n"
     ]
    },
    {
     "data": {
      "text/plain": [
       "True"
      ]
     },
     "execution_count": 52,
     "metadata": {},
     "output_type": "execute_result"
    }
   ],
   "source": [
    "b = 10\n",
    "n = 5\n",
    "m = 8\n",
    "o = 6\n",
    "\n",
    "x = np.random.randn(b,n,o)\n",
    "W = np.random.randn(m,n)\n",
    "\n",
    "y = W@x\n",
    "print(y.shape)\n",
    "\n",
    "y_einsum = np.einsum('mn,bno->bmo',W,x)\n",
    "print(y_einsum.shape)\n",
    "\n",
    "np.allclose(y,y_einsum)"
   ]
  },
  {
   "cell_type": "markdown",
   "metadata": {},
   "source": [
    "### Transponering\n",
    "\n",
    "For $A \\in \\mathbb R^{m \\times k}$, $B \\in \\mathbb R^{m \\times n}$ ønsker vi å finne $C \\in \\mathbb R^{k \\times n}$ slik at\n",
    "\n",
    "$$\n",
    "D = A^T B\n",
    "$$\n",
    "\n",
    "Vi oppnår transponering \"automatisk\" i einsum siden vi summerer over like indekser."
   ]
  },
  {
   "cell_type": "code",
   "execution_count": 53,
   "metadata": {},
   "outputs": [
    {
     "name": "stdout",
     "output_type": "stream",
     "text": [
      "True\n",
      "True\n"
     ]
    }
   ],
   "source": [
    "n = 5\n",
    "m = 8\n",
    "k = 3\n",
    "\n",
    "A = np.random.randn(m,k)\n",
    "B = np.random.randn(m,n)\n",
    "\n",
    "\n",
    "C = A.T@B\n",
    "\n",
    "#vi kan gjøre\n",
    "C_einsum = np.einsum('mk,mn->kn',A,B)\n",
    "\n",
    "#i stedet for å transponere A og multiplisere med B \n",
    "C_einsum_T = np.einsum('km,mn->kn',A.T,B)\n",
    "\n",
    "print(np.allclose(C,C_einsum))\n",
    "print(np.allclose(C_einsum_T,C_einsum))"
   ]
  },
  {
   "cell_type": "markdown",
   "metadata": {},
   "source": [
    "# Optimalisert einsum\n",
    "\n",
    "Einsum kan gjøre summering i ulike rekkefølger, og noen kan være raskere enn andre. \n",
    "Du kan be einsum om å forsøke å optimalisere summeringen ved å bruke `optimize=True` som argument. \n",
    "Les mer i dokumentasjonen her: https://numpy.org/doc/stable/reference/generated/numpy.einsum.html\n"
   ]
  },
  {
   "cell_type": "code",
   "execution_count": 54,
   "metadata": {},
   "outputs": [
    {
     "name": "stdout",
     "output_type": "stream",
     "text": [
      "True\n"
     ]
    }
   ],
   "source": [
    "C = A.T@B\n",
    "C_einsum = np.einsum('mk,mn->kn',A,B,optimize=True)\n",
    "\n",
    "print(np.allclose(C,C_einsum))"
   ]
  }
 ],
 "metadata": {
  "kernelspec": {
   "display_name": "Python 3",
   "language": "python",
   "name": "python3"
  },
  "language_info": {
   "codemirror_mode": {
    "name": "ipython",
    "version": 3
   },
   "file_extension": ".py",
   "mimetype": "text/x-python",
   "name": "python",
   "nbconvert_exporter": "python",
   "pygments_lexer": "ipython3",
   "version": "3.8.15"
  }
 },
 "nbformat": 4,
 "nbformat_minor": 2
}
