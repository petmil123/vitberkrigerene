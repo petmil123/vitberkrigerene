{
 "cells": [
  {
   "cell_type": "code",
   "execution_count": 1,
   "metadata": {},
   "outputs": [],
   "source": [
    "from layers import LinearLayer, EmbedPosition, Attention, Softmax, CrossEntropy, FeedForward\n",
    "from data_generators import get_train_test_addition\n",
    "from utils import onehot"
   ]
  },
  {
   "cell_type": "code",
   "execution_count": 2,
   "metadata": {},
   "outputs": [],
   "source": [
    "n_digits = 2\n",
    "n_max = 3* n_digits\n",
    "m = 10\n",
    "d = 15\n",
    "k = 5\n",
    "p = 20\n",
    "data = get_train_test_addition(n_digits, samples_per_batch=1, n_batches_train=2)"
   ]
  },
  {
   "cell_type": "code",
   "execution_count": 3,
   "metadata": {},
   "outputs": [],
   "source": [
    "x = data['x_train'][0]\n",
    "X = onehot(x, m)"
   ]
  },
  {
   "cell_type": "code",
   "execution_count": 4,
   "metadata": {},
   "outputs": [],
   "source": [
    "embed = EmbedPosition(n_max, m, d)\n",
    "att1 = Attention(d,k)\n",
    "ff1 = FeedForward(d,p)\n",
    "un_embed = LinearLayer(d,m)\n",
    "softmax = Softmax()\n",
    "loss = CrossEntropy()"
   ]
  },
  {
   "cell_type": "code",
   "execution_count": 5,
   "metadata": {},
   "outputs": [
    {
     "name": "stdout",
     "output_type": "stream",
     "text": [
      "(1, 6, 6)\n"
     ]
    }
   ],
   "source": [
    "z_0 = embed.forward(X)\n",
    "z_1 = att1.forward(z_0)\n",
    "z_2 = ff1.forward(z_1)\n",
    "z = un_embed.forward(z_2)\n",
    "Z = softmax.forward(z)"
   ]
  },
  {
   "cell_type": "code",
   "execution_count": 6,
   "metadata": {},
   "outputs": [
    {
     "ename": "NameError",
     "evalue": "name 'y' is not defined",
     "output_type": "error",
     "traceback": [
      "\u001b[0;31m---------------------------------------------------------------------------\u001b[0m",
      "\u001b[0;31mNameError\u001b[0m                                 Traceback (most recent call last)",
      "Cell \u001b[0;32mIn[6], line 1\u001b[0m\n\u001b[0;32m----> 1\u001b[0m loss\u001b[38;5;241m.\u001b[39mforward(Z,\u001b[43my\u001b[49m)\n",
      "\u001b[0;31mNameError\u001b[0m: name 'y' is not defined"
     ]
    }
   ],
   "source": [
    "loss.forward(Z,y)"
   ]
  },
  {
   "cell_type": "code",
   "execution_count": null,
   "metadata": {},
   "outputs": [
    {
     "ename": "NameError",
     "evalue": "name 'Z' is not defined",
     "output_type": "error",
     "traceback": [
      "\u001b[0;31m---------------------------------------------------------------------------\u001b[0m",
      "\u001b[0;31mNameError\u001b[0m                                 Traceback (most recent call last)",
      "Cell \u001b[0;32mIn[14], line 1\u001b[0m\n\u001b[0;32m----> 1\u001b[0m \u001b[43mZ\u001b[49m\n",
      "\u001b[0;31mNameError\u001b[0m: name 'Z' is not defined"
     ]
    }
   ],
   "source": [
    "Z"
   ]
  },
  {
   "cell_type": "code",
   "execution_count": null,
   "metadata": {},
   "outputs": [
    {
     "data": {
      "text/plain": [
       "array([[3, 8, 5, 6, 4, 9]])"
      ]
     },
     "execution_count": 9,
     "metadata": {},
     "output_type": "execute_result"
    }
   ],
   "source": [
    "x"
   ]
  },
  {
   "cell_type": "code",
   "execution_count": null,
   "metadata": {},
   "outputs": [
    {
     "data": {
      "text/plain": [
       "array([[[0., 0., 0., 0., 0., 0.],\n",
       "        [0., 0., 0., 0., 0., 0.],\n",
       "        [0., 0., 0., 0., 0., 0.],\n",
       "        [1., 0., 0., 0., 0., 0.],\n",
       "        [0., 0., 0., 0., 1., 0.],\n",
       "        [0., 0., 1., 0., 0., 0.],\n",
       "        [0., 0., 0., 1., 0., 0.],\n",
       "        [0., 0., 0., 0., 0., 0.],\n",
       "        [0., 1., 0., 0., 0., 0.],\n",
       "        [0., 0., 0., 0., 0., 1.]]])"
      ]
     },
     "execution_count": 10,
     "metadata": {},
     "output_type": "execute_result"
    }
   ],
   "source": [
    "X"
   ]
  },
  {
   "cell_type": "code",
   "execution_count": 11,
   "metadata": {},
   "outputs": [
    {
     "name": "stdout",
     "output_type": "stream",
     "text": [
      "[[[1 3 6 0 3 4]\n",
      "  [6 3 1 0 7 3]\n",
      "  [4 7 3 0 1 3]\n",
      "  [1 2 5 0 5 4]\n",
      "  [4 2 1 0 0 4]\n",
      "  [6 5 0 0 4 6]]\n",
      "\n",
      " [[1 3 6 0 3 4]\n",
      "  [6 3 1 0 7 3]\n",
      "  [4 7 3 0 1 3]\n",
      "  [1 2 5 0 5 4]\n",
      "  [4 2 1 0 0 4]\n",
      "  [6 5 0 0 4 6]]]\n"
     ]
    }
   ],
   "source": [
    "import numpy as np\n",
    "\n",
    "a = np.array([[[1, 3, 6, 2, 3, 4],\n",
    "            [6, 3, 1, 0, 7, 3],\n",
    "            [4, 7, 3, 7, 1, 3],\n",
    "            [1, 2, 5, 2, 5, 4],\n",
    "            [4, 2, 1, 7, 0, 4],\n",
    "            [6, 5, 0, 5, 4, 6]],\n",
    "            [[1, 3, 6, 2, 3, 4],\n",
    "            [6, 3, 1, 0, 7, 3],\n",
    "            [4, 7, 3, 7, 1, 3],\n",
    "            [1, 2, 5, 2, 5, 4],\n",
    "            [4, 2, 1, 7, 0, 4],\n",
    "            [6, 5, 0, 5, 4, 6]]])\n",
    "\n",
    "a[:,:, 3] =0\n",
    "print(a)"
   ]
  },
  {
   "cell_type": "code",
   "execution_count": null,
   "metadata": {},
   "outputs": [],
   "source": []
  }
 ],
 "metadata": {
  "kernelspec": {
   "display_name": "Python 3",
   "language": "python",
   "name": "python3"
  },
  "language_info": {
   "codemirror_mode": {
    "name": "ipython",
    "version": 3
   },
   "file_extension": ".py",
   "mimetype": "text/x-python",
   "name": "python",
   "nbconvert_exporter": "python",
   "pygments_lexer": "ipython3",
   "version": "3.9.6"
  }
 },
 "nbformat": 4,
 "nbformat_minor": 2
}
