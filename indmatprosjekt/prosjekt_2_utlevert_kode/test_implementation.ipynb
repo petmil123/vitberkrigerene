{
 "cells": [
  {
   "cell_type": "markdown",
   "metadata": {},
   "source": [
    "# Test om koden er riktig implementert\n",
    "\n",
    "Her er et forslag til testfunksjoner for å sjekke om koden er riktig implementert.\n",
    "```assert variabel``` vil gi en feilmelding med mindre variabelen ```variabel = True```. For eksempel vil ```assert a == b``` gi en feilmelding med mindre ```a``` og ```b``` er like."
   ]
  },
  {
   "cell_type": "code",
   "execution_count": 5,
   "metadata": {},
   "outputs": [],
   "source": [
    "#For eksempel:\n",
    "variable = True\n",
    "assert variable, \"You need to change 'variable' to True\""
   ]
  },
  {
   "cell_type": "code",
   "execution_count": 6,
   "metadata": {},
   "outputs": [],
   "source": [
    "from layers import *\n",
    "from neural_network import NeuralNetwork\n",
    "from utils import onehot\n",
    "import numpy as np"
   ]
  },
  {
   "cell_type": "code",
   "execution_count": 7,
   "metadata": {},
   "outputs": [
    {
     "name": "stdout",
     "output_type": "stream",
     "text": [
      "[[4 6 4 2 2]\n",
      " [7 1 1 3 5]\n",
      " [5 7 1 5 3]\n",
      " [5 1 6 6 1]\n",
      " [0 2 1 6 4]\n",
      " [2 1 0 7 1]]\n",
      "[[5 3 1 6 6 5 0]\n",
      " [7 4 1 6 7 5 7]\n",
      " [1 5 3 3 2 4 3]\n",
      " [1 1 6 2 3 1 5]\n",
      " [2 7 1 4 5 6 0]\n",
      " [5 7 6 0 2 1 0]]\n",
      "softmax input shape: (6, 5, 5)\n",
      "softmax input shape: (6, 8, 5)\n",
      "big z: [[0.12871725 0.11818143 0.13439672 0.11357661 0.12401323]\n",
      " [0.12207864 0.12787055 0.12252554 0.13774126 0.13000427]\n",
      " [0.13271785 0.128682   0.12572756 0.12226124 0.11785556]\n",
      " [0.12737425 0.12250566 0.12007294 0.13485759 0.1316127 ]\n",
      " [0.12885488 0.12646306 0.13080904 0.13866544 0.14101334]\n",
      " [0.11976129 0.13128253 0.12059868 0.11089505 0.11302105]\n",
      " [0.11405198 0.12728858 0.11854543 0.13203403 0.12732658]\n",
      " [0.12644385 0.11772619 0.12732408 0.10996879 0.11515327]]\n",
      "z: [2 5 0 4 4]\n"
     ]
    }
   ],
   "source": [
    "#We choose some arbitrary values for the dimensions\n",
    "b = 6\n",
    "n_max = 7\n",
    "m = 8\n",
    "n = 5\n",
    "\n",
    "d = 10\n",
    "k = 3\n",
    "p = 20\n",
    "\n",
    "#Create an arbitrary dataset\n",
    "x = np.random.randint(0, m, (b,n))\n",
    "y = np.random.randint(0, m, (b,n_max))\n",
    "\n",
    "print(x)\n",
    "print(y)\n",
    "\n",
    "#initialize the layers\n",
    "feed_forward = FeedForward(d,p)\n",
    "attention = Attention(d,k) # Changed from k to n to n_max\n",
    "embed_pos = EmbedPosition(n_max,m,d)\n",
    "un_embed = LinearLayer(d,m)\n",
    "softmax = Softmax()\n",
    "\n",
    "\n",
    "#a manual forward pass\n",
    "X = onehot(x, m)\n",
    "z0 = embed_pos.forward(X)\n",
    "z1 = feed_forward.forward(z0)\n",
    "z2 = attention.forward(z1)\n",
    "z3 = un_embed.forward(z2)\n",
    "Z = softmax.forward(z3) \n",
    "\n",
    "z = np.argmax(Z,axis=1)\n",
    "print(f\"big z: {Z[0]}\")\n",
    "print(f\"z: {z[0]}\")\n",
    "\n",
    "#check the shapes\n",
    "assert X.shape == (b,m,n), f\"X.shape={X.shape}, expected {(b,m,n)}\"\n",
    "assert z0.shape == (b,d,n), f\"z0.shape={z0.shape}, expected {(b,d,n)}\"\n",
    "assert z1.shape == (b,d,n), f\"z1.shape={z1.shape}, expected {(b,d,n)}\"\n",
    "assert z2.shape == (b,d,n), f\"z2.shape={z2.shape}, expected {(b,d,n)}\"\n",
    "assert z3.shape == (b,m,n), f\"z3.shape={z3.shape}, expected {(b,m,n)}\"\n",
    "assert Z.shape == (b,m,n), f\"Z.shape={Z.shape}, expected {(b,m,n)}\"\n",
    "\n",
    "#is X one-hot?\n",
    "assert X.sum() == b*n, f\"X.sum()={X.sum()}, expected {b*n}\"\n",
    "\n",
    "\n",
    "assert np.allclose(Z.sum(axis=1), 1), f\"Z.sum(axis=1)={Z.sum(axis=1)}, expected {np.ones(b)}\"\n",
    "assert np.abs(Z.sum() - b*n) < 1e-5, f\"Z.sum()={Z.sum()}, expected {b*n}\"\n",
    "assert np.all(Z>=0), f\"Z={Z}, expected all entries to be non-negative\"\n"
   ]
  },
  {
   "cell_type": "code",
   "execution_count": 8,
   "metadata": {},
   "outputs": [
    {
     "name": "stdout",
     "output_type": "stream",
     "text": [
      "[[5 7 4 6 2 6 2]\n",
      " [3 4 1 4 5 4 2]\n",
      " [4 5 7 2 4 5 4]\n",
      " [2 0 5 3 4 7 3]\n",
      " [1 5 2 0 5 0 7]\n",
      " [7 7 1 3 3 1 4]]\n",
      "softmax input shape: (6, 7, 7)\n",
      "softmax input shape: (6, 8, 7)\n",
      "(6, 8, 7)\n",
      "(6, 7)\n",
      "7\n",
      "onehotshape: (6, 8, 7)\n",
      "(6, 8, 7)\n",
      "z_l:(6, 8, 7)\n",
      "grad: (6, 8, 7)\n",
      "P: (6, 8, 7)\n",
      "Q: (6, 1, 7)\n",
      "z_l:(6, 7, 7)\n",
      "grad: (6, 7, 7)\n",
      "P: (6, 7, 7)\n",
      "Q: (6, 1, 7)\n"
     ]
    },
    {
     "ename": "ValueError",
     "evalue": "operands could not be broadcast together with remapped shapes [original->remapped]: (6,10,7)->(6,newaxis,newaxis) (7,7,6)->(7,newaxis,newaxis)  and requested shape (10,6)",
     "output_type": "error",
     "traceback": [
      "\u001b[1;31m---------------------------------------------------------------------------\u001b[0m",
      "\u001b[1;31mValueError\u001b[0m                                Traceback (most recent call last)",
      "Cell \u001b[1;32mIn[8], line 29\u001b[0m\n\u001b[0;32m     26\u001b[0m \u001b[38;5;28mprint\u001b[39m(grad_Z\u001b[38;5;241m.\u001b[39mshape)\n\u001b[0;32m     28\u001b[0m \u001b[38;5;66;03m#and perform a backward pass\u001b[39;00m\n\u001b[1;32m---> 29\u001b[0m _ \u001b[38;5;241m=\u001b[39m \u001b[43mnetwork\u001b[49m\u001b[38;5;241;43m.\u001b[39;49m\u001b[43mbackward\u001b[49m\u001b[43m(\u001b[49m\u001b[43mgrad_Z\u001b[49m\u001b[43m)\u001b[49m\n\u001b[0;32m     31\u001b[0m \u001b[38;5;66;03m#and and do a gradient descent step\u001b[39;00m\n\u001b[0;32m     32\u001b[0m _ \u001b[38;5;241m=\u001b[39m network\u001b[38;5;241m.\u001b[39mstep_gd(\u001b[38;5;241m0.01\u001b[39m)\n",
      "File \u001b[1;32mc:\\Users\\petar\\Documents\\vitberkrigerene\\indmatprosjekt\\prosjekt_2_utlevert_kode\\neural_network.py:29\u001b[0m, in \u001b[0;36mNeuralNetwork.backward\u001b[1;34m(self, grad)\u001b[0m\n\u001b[0;32m     27\u001b[0m \u001b[38;5;66;03m#reversed yields the layers in reversed order\u001b[39;00m\n\u001b[0;32m     28\u001b[0m \u001b[38;5;28;01mfor\u001b[39;00m layer \u001b[38;5;129;01min\u001b[39;00m \u001b[38;5;28mreversed\u001b[39m(\u001b[38;5;28mself\u001b[39m\u001b[38;5;241m.\u001b[39mlayers):\n\u001b[1;32m---> 29\u001b[0m     grad \u001b[38;5;241m=\u001b[39m \u001b[43mlayer\u001b[49m\u001b[38;5;241;43m.\u001b[39;49m\u001b[43mbackward\u001b[49m\u001b[43m(\u001b[49m\u001b[43mgrad\u001b[49m\u001b[43m)\u001b[49m\n\u001b[0;32m     30\u001b[0m \u001b[38;5;28;01mreturn\u001b[39;00m grad\n",
      "File \u001b[1;32mc:\\Users\\petar\\Documents\\vitberkrigerene\\indmatprosjekt\\prosjekt_2_utlevert_kode\\layers.py:99\u001b[0m, in \u001b[0;36mAttention.backward\u001b[1;34m(self, grad)\u001b[0m\n\u001b[0;32m     97\u001b[0m g_OV \u001b[38;5;241m=\u001b[39m \u001b[38;5;28mself\u001b[39m\u001b[38;5;241m.\u001b[39mw_V\u001b[38;5;241m.\u001b[39mT \u001b[38;5;241m@\u001b[39m \u001b[38;5;28mself\u001b[39m\u001b[38;5;241m.\u001b[39mw_O \u001b[38;5;241m@\u001b[39m grad\n\u001b[0;32m     98\u001b[0m g_S \u001b[38;5;241m=\u001b[39m \u001b[38;5;28mself\u001b[39m\u001b[38;5;241m.\u001b[39msoftmax\u001b[38;5;241m.\u001b[39mbackward(\u001b[38;5;28mself\u001b[39m\u001b[38;5;241m.\u001b[39mx_T \u001b[38;5;241m@\u001b[39m g_OV)\n\u001b[1;32m---> 99\u001b[0m bA_l \u001b[38;5;241m=\u001b[39m grad \u001b[38;5;241m+\u001b[39m \u001b[43mg_OV\u001b[49m\u001b[43m \u001b[49m\u001b[38;5;241;43m@\u001b[39;49m\u001b[43m  \u001b[49m\u001b[38;5;28;43mself\u001b[39;49m\u001b[38;5;241;43m.\u001b[39;49m\u001b[43mA\u001b[49m\u001b[38;5;241;43m.\u001b[39;49m\u001b[43mT\u001b[49m \u001b[38;5;241m+\u001b[39m \u001b[38;5;28mself\u001b[39m\u001b[38;5;241m.\u001b[39mw_K\u001b[38;5;241m.\u001b[39mT \u001b[38;5;241m@\u001b[39m \u001b[38;5;28mself\u001b[39m\u001b[38;5;241m.\u001b[39mw_Q \u001b[38;5;241m@\u001b[39m \u001b[38;5;28mself\u001b[39m\u001b[38;5;241m.\u001b[39mx \u001b[38;5;241m@\u001b[39m g_S \u001b[38;5;241m+\u001b[39m \u001b[38;5;28mself\u001b[39m\u001b[38;5;241m.\u001b[39mw_Q\u001b[38;5;241m.\u001b[39mT \u001b[38;5;241m@\u001b[39m \u001b[38;5;28mself\u001b[39m\u001b[38;5;241m.\u001b[39mw_K \u001b[38;5;241m@\u001b[39m \u001b[38;5;28mself\u001b[39m\u001b[38;5;241m.\u001b[39mx \u001b[38;5;241m@\u001b[39m g_S\u001b[38;5;241m.\u001b[39mT\n\u001b[0;32m    100\u001b[0m \u001b[38;5;28;01mreturn\u001b[39;00m bA_l\n",
      "\u001b[1;31mValueError\u001b[0m: operands could not be broadcast together with remapped shapes [original->remapped]: (6,10,7)->(6,newaxis,newaxis) (7,7,6)->(7,newaxis,newaxis)  and requested shape (10,6)"
     ]
    }
   ],
   "source": [
    "\n",
    "#test the forward pass\n",
    "x = np.random.randint(0, m, (b,n_max))\n",
    "X = onehot(x, m)\n",
    "\n",
    "#we test with a y that is shorter than the maximum length\n",
    "#COMMENT 2P&1P: WTF!? Skal ikke disse alltid være like lange???????\n",
    "n_y = n_max #- 1\n",
    "y = np.random.randint(0, m, (b,n_y))\n",
    "print(y)\n",
    "\n",
    "#initialize a neural network based on the layers above\n",
    "network = NeuralNetwork([embed_pos, feed_forward, attention, un_embed, softmax])\n",
    "#and a loss function\n",
    "loss = CrossEntropy()\n",
    "\n",
    "#do a forward pass\n",
    "Z = network.forward(X)\n",
    "\n",
    "#compute the loss\n",
    "print(Z.shape)\n",
    "print(y.shape)\n",
    "L = loss.forward(Z, y)\n",
    "\n",
    "#get the derivative of the loss wrt Z\n",
    "grad_Z = loss.backward()\n",
    "print(grad_Z.shape)\n",
    "\n",
    "#and perform a backward pass\n",
    "_ = network.backward(grad_Z)\n",
    "\n",
    "#and and do a gradient descent step\n",
    "_ = network.step_gd(0.01)"
   ]
  },
  {
   "cell_type": "code",
   "execution_count": null,
   "metadata": {},
   "outputs": [],
   "source": [
    "\"\"\"\n",
    "Here you may add additional tests to for example:\n",
    "\n",
    "- Check if the ['d'] keys in the parameter dictionaries are not None, or receive something when running backward pass\n",
    "- Check if the parameters change when you perform a gradient descent step\n",
    "- Check if the loss decreases when you perform a gradient descent step\n",
    "\n",
    "This is voluntary, but could be useful.\n",
    "\"\"\""
   ]
  },
  {
   "cell_type": "code",
   "execution_count": null,
   "metadata": {},
   "outputs": [],
   "source": [
    "#check if loss is non-negative\n",
    "assert L >= 0, f\"L={L}, expected L>=0\"\n",
    "assert grad_Z.shape == Z.shape, f\"grad_Z.shape={grad_Z.shape}, expected {Z.shape}\"\n",
    "\n",
    "#check if onehot(y) gives zero loss\n",
    "Y = onehot(y, m)\n",
    "L = loss.forward(Y, y)\n",
    "assert L < 1e-5, f\"L={L}, expected L<1e-5\"\n"
   ]
  },
  {
   "cell_type": "code",
   "execution_count": null,
   "metadata": {},
   "outputs": [
    {
     "data": {
      "text/plain": [
       "array([[[-1.14942525, -0.        , -0.        ],\n",
       "        [-0.        , -0.66666665, -0.        ],\n",
       "        [-0.        , -0.        , -0.        ],\n",
       "        [-0.        , -0.        , -0.        ],\n",
       "        [-0.        , -0.        , -1.04166663]],\n",
       "\n",
       "       [[-0.33333333, -0.        , -0.        ],\n",
       "        [-0.        , -0.33333333, -0.        ],\n",
       "        [-0.        , -0.        , -0.        ],\n",
       "        [-0.        , -0.        , -0.        ],\n",
       "        [-0.        , -0.        , -0.33333333]]])"
      ]
     },
     "execution_count": 4,
     "metadata": {},
     "output_type": "execute_result"
    }
   ],
   "source": [
    "m = np.array([[[.29,.15,.10],\n",
    "     [.21,.5,.04],\n",
    "     [.15,.03,.11],\n",
    "     [.13,.21,.43],\n",
    "     [.22,.11,.32]],\n",
    "     [\n",
    "     [1,0,0],\n",
    "     [0,1,0],\n",
    "     [0,0,0],\n",
    "     [0,0,0],\n",
    "     [0,0,1]]])\n",
    "\n",
    "\n",
    "\n",
    "loss = CrossEntropy()\n",
    "\n",
    "loss.forward(m,np.array([[0,1,4],[0,1,4]]))\n",
    "loss.backward()"
   ]
  },
  {
   "cell_type": "code",
   "execution_count": null,
   "metadata": {},
   "outputs": [
    {
     "name": "stdout",
     "output_type": "stream",
     "text": [
      "[[[ True  True]\n",
      "  [ True  True]]\n",
      "\n",
      " [[False  True]\n",
      "  [ True False]]]\n",
      "[[[False  True]\n",
      "  [ True False]]\n",
      "\n",
      " [[ True  True]\n",
      "  [ True  True]]]\n",
      "[[[2. 0.]\n",
      "  [0. 0.]]\n",
      "\n",
      " [[0. 0.]\n",
      "  [0. 2.]]]\n"
     ]
    }
   ],
   "source": [
    "x_T = np.array([[[0,0,1],\n",
    "      [0,0,0]]\n",
    "     ,[[0,0,0],\n",
    "       [1,0,0]]])\n",
    "\n",
    "a = np.ones((3,2))\n",
    "b = a.T\n",
    "\n",
    "s = np.einsum('bad,ds,sq,bqk -> bak',x_T,a, b, np.transpose(x_T, axes=(0,2,1)), optimize=True)\n",
    "for i in range(len(x_T)):\n",
    "    print(s == (x_T[i]@a)@(b@x_T[i].T))\n",
    "\n",
    "print(s)\n"
   ]
  },
  {
   "cell_type": "code",
   "execution_count": null,
   "metadata": {},
   "outputs": [],
   "source": []
  }
 ],
 "metadata": {
  "kernelspec": {
   "display_name": "Python 3",
   "language": "python",
   "name": "python3"
  },
  "language_info": {
   "codemirror_mode": {
    "name": "ipython",
    "version": 3
   },
   "file_extension": ".py",
   "mimetype": "text/x-python",
   "name": "python",
   "nbconvert_exporter": "python",
   "pygments_lexer": "ipython3",
   "version": "3.9.12"
  }
 },
 "nbformat": 4,
 "nbformat_minor": 2
}
