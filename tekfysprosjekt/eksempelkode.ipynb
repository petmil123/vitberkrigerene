{
 "cells": [
  {
   "cell_type": "code",
   "execution_count": null,
   "metadata": {},
   "outputs": [],
   "source": [
    "%matplotlib inline\n",
    "import numpy as np\n",
    "from matplotlib import pyplot as plt\n",
    "from time import time\n",
    "\n",
    "\n",
    "# This can be useful, install with\n",
    "# conda install line_profiler\n",
    "# %load_ext line_profiler"
   ]
  },
  {
   "cell_type": "markdown",
   "metadata": {},
   "source": [
    "# Problem 2\n",
    "\n",
    "\n",
    "Code for reading and interpolating data from netcdf files is given below"
   ]
  },
  {
   "cell_type": "code",
   "execution_count": null,
   "metadata": {},
   "outputs": [],
   "source": [
    "import xarray as xr\n",
    "from scipy.interpolate import RectBivariateSpline"
   ]
  },
  {
   "cell_type": "code",
   "execution_count": null,
   "metadata": {},
   "outputs": [],
   "source": [
    "#################################################\n",
    "#### Convenience class for reading datafiles ####\n",
    "#################################################\n",
    "\n",
    "class Interpolator():\n",
    "    def __init__(self, dataset, fw = 0.03):\n",
    "        # xarray dataset object\n",
    "        self.dataset = dataset\n",
    "        # Windage factor\n",
    "        self.fw = fw\n",
    "        # Extract timestamps as number of seconds after the start of the file\n",
    "        # Saves a bit of bother with dealing with np.datetime objects elsewhere\n",
    "        self.times = np.array([(t - d.time[0])/np.timedelta64(1, 's') for t in d.time[:]], dtype=np.float64)\n",
    "        self.depth = np.array(self.dataset.h)\n",
    "        \n",
    "    def get_interpolators(self, X, it):\n",
    "        # Add a buffer of cells around the extent of the particle cloud\n",
    "        buf  = 10\n",
    "        # Find extent of particle cloud in terms of indices\n",
    "        imax = np.searchsorted(self.dataset.X, np.amax(X[0,:])) + buf\n",
    "        imin = np.searchsorted(self.dataset.X, np.amin(X[0,:])) - buf\n",
    "        jmax = np.searchsorted(self.dataset.Y, np.amax(X[1,:])) + buf\n",
    "        jmin = np.searchsorted(self.dataset.Y, np.amin(X[1,:])) - buf\n",
    "        # Take out subset of array, to pass to\n",
    "        # interpolation object\n",
    "        # Fill NaN values (land cells) with 0, otherwise\n",
    "        # interpolation won't work\n",
    "        u_current = self.dataset.u[it, 0, jmin:jmax, imin:imax].T.fillna(0.0)\n",
    "        v_current = self.dataset.v[it, 0, jmin:jmax, imin:imax].T.fillna(0.0)\n",
    "        u_wind    = self.dataset.Uwind[it, jmin:jmax, imin:imax].T.fillna(0.0)\n",
    "        v_wind    = self.dataset.Vwind[it, jmin:jmax, imin:imax].T.fillna(0.0)\n",
    "        # RectBivariateSpline essentially returns a function,\n",
    "        # which can be called to get value at arbitrary position\n",
    "        fu_current = RectBivariateSpline(self.dataset.X[imin:imax], self.dataset.Y[jmin:jmax], u_current)\n",
    "        fv_current = RectBivariateSpline(self.dataset.X[imin:imax], self.dataset.Y[jmin:jmax], v_current)\n",
    "        fu_wind    = RectBivariateSpline(self.dataset.X[imin:imax], self.dataset.Y[jmin:jmax], u_wind)\n",
    "        fv_wind    = RectBivariateSpline(self.dataset.X[imin:imax], self.dataset.Y[jmin:jmax], v_wind)\n",
    "        return fu_current, fv_current, fu_wind, fv_wind\n",
    "    \n",
    "    def get_time_index(self, t):\n",
    "        # Get index of largest timestamp smaller than (or equal to) t\n",
    "        return np.searchsorted(self.times, t, side='right') - 1\n",
    "    \n",
    "    def on_land(self, X):\n",
    "        # Find indices for each particle\n",
    "        ix_list = np.searchsorted(self.dataset.X, X[0,:])\n",
    "        iy_list = np.searchsorted(self.dataset.Y, X[1,:])\n",
    "        # Identify which particles are in cells with depth 5\n",
    "        # (which for some reason is the smallest depth)\n",
    "        return np.array([self.depth[iy,ix] == 5.0 for ix, iy in zip(ix_list, iy_list)])\n",
    "\n",
    "    def __call__(self, X, t):\n",
    "        # get index of current time in dataset\n",
    "        it = self.get_time_index(t)\n",
    "        # get interpolating functions,\n",
    "        # covering the extent of the particle\n",
    "        fu_current, fv_current, fu_wind, fv_wind = self.get_interpolators(X, it)\n",
    "        # Evaluate velocity at position(x[:], y[:])\n",
    "        dx = fu_current(X[0,:], X[1,:], grid = False) + self.fw*fu_wind(X[0,:], X[1,:], grid = False)\n",
    "        dy = fv_current(X[0,:], X[1,:], grid = False) + self.fw*fv_wind(X[0,:], X[1,:], grid = False)\n",
    "        return np.array([dx, dy])"
   ]
  },
  {
   "cell_type": "code",
   "execution_count": null,
   "metadata": {},
   "outputs": [],
   "source": [
    "# Update the file path to where you put the downloaded file\n",
    "d  = xr.open_dataset('../data/NorKyst-800m_ZDEPTHS_his.an.20240301-05.nc')\n",
    "# Initialise the interpolator object with the data\n",
    "f  = Interpolator(dataset = d)\n",
    "\n",
    "# You can now use the intepolator object as if\n",
    "# it was a function implmenting f(X, t),\n",
    "# where X can be a (2, Np) array holding the\n",
    "# x and y position of Np particles.\n",
    "# Write your implementation of Heun's method to use this f\n",
    "\n",
    "Np = 5\n",
    "X = np.zeros((2, Np))\n",
    "X[0,:] = np.random.normal(loc = 790000, scale=10000, size = Np)\n",
    "X[1,:] = np.random.normal(loc = 490000, scale=10000, size = Np)\n",
    "t = 0.\n",
    "\n",
    "print(f(X, t))"
   ]
  },
  {
   "cell_type": "markdown",
   "metadata": {},
   "source": [
    "## Code for plotting on a map"
   ]
  },
  {
   "cell_type": "code",
   "execution_count": null,
   "metadata": {},
   "outputs": [],
   "source": [
    "\n",
    "# Functions for plotting on map\n",
    "import cartopy\n",
    "import cartopy.crs as ccrs\n",
    "import cartopy.feature as cfeature"
   ]
  },
  {
   "cell_type": "code",
   "execution_count": null,
   "metadata": {},
   "outputs": [],
   "source": [
    "fig = plt.figure(figsize=(9,6))\n",
    "ax = plt.axes(projection=ccrs.NorthPolarStereo())\n",
    "\n",
    "ax.add_feature(cfeature.NaturalEarthFeature('physical', 'land', '10m', color = '#cccccc'))\n",
    "\n",
    "# Create projection object for converting particle positions\n",
    "npstere = ccrs.Stereographic(\n",
    "    central_latitude = 90,\n",
    "    central_longitude = f.dataset.projection_stere.straight_vertical_longitude_from_pole,\n",
    "    false_easting = f.dataset.projection_stere.false_easting,\n",
    "    false_northing = f.dataset.projection_stere.false_northing,\n",
    "    true_scale_latitude = f.dataset.projection_stere.standard_parallel,\n",
    ")\n",
    "\n",
    "# Create some positions\n",
    "Np = 500\n",
    "X = np.zeros((2, Np))\n",
    "X[0,:] = np.random.normal(loc = 790000, scale=10000, size = Np)\n",
    "X[1,:] = np.random.normal(loc = 490000, scale=10000, size = Np)\n",
    "\n",
    "\n",
    "# scatter plot positions, note the extra transform keyword\n",
    "ax.scatter(X[0,:], X[1,:], s=1, transform=npstere, label='Initial')\n",
    "\n",
    "\n",
    "# Make outline a bit larger\n",
    "ax.set_extent((7, 11, 63.5, 65))\n",
    "# Add gridlines\n",
    "gl = ax.gridlines(draw_labels=True, dms=True, x_inline=False, y_inline=False, alpha=.5, color='k', lw=.5, )\n",
    "\n",
    "ax.legend()\n",
    "plt.tight_layout()"
   ]
  }
 ],
 "metadata": {
  "anaconda-cloud": {},
  "kernelspec": {
   "display_name": "Python 3",
   "language": "python",
   "name": "python3"
  },
  "language_info": {
   "codemirror_mode": {
    "name": "ipython",
    "version": 3
   },
   "file_extension": ".py",
   "mimetype": "text/x-python",
   "name": "python",
   "nbconvert_exporter": "python",
   "pygments_lexer": "ipython3",
   "version": "3.9.13"
  }
 },
 "nbformat": 4,
 "nbformat_minor": 1
}
