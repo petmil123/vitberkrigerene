{
 "cells": [
  {
   "cell_type": "markdown",
   "metadata": {},
   "source": [
    "# Oppgave 1"
   ]
  },
  {
   "cell_type": "markdown",
   "metadata": {},
   "source": [
    "Innledning goes here"
   ]
  },
  {
   "cell_type": "code",
   "execution_count": null,
   "metadata": {},
   "outputs": [],
   "source": [
    "%matplotlib inline\n",
    "import numpy as np\n",
    "from matplotlib import pyplot as plt\n",
    "from time import time\n",
    "\n",
    "import xarray as xr\n",
    "from scipy.interpolate import RectBivariateSpline\n",
    "\n",
    "import cartopy\n",
    "import cartopy.crs as ccrs\n",
    "import cartopy.feature as cfeature\n",
    "import ssl\n",
    "ssl._create_default_https_context = ssl._create_unverified_context\n",
    "\n"
   ]
  },
  {
   "cell_type": "markdown",
   "metadata": {},
   "source": [
    "Oppgave 1a)"
   ]
  },
  {
   "cell_type": "code",
   "execution_count": null,
   "metadata": {},
   "outputs": [],
   "source": [
    "#Oppgave 1a)\n",
    "#Defining params\n",
    "\n",
    "A = 0.1\n",
    "epsilon = 0.25\n",
    "omega = 1"
   ]
  },
  {
   "cell_type": "code",
   "execution_count": null,
   "metadata": {},
   "outputs": [],
   "source": [
    "# Defining given functions\n",
    "\n",
    "def a(t):\n",
    "    return epsilon * np.sin(omega * t)\n",
    "\n",
    "def b(t):\n",
    "    return 1 - 2 * epsilon * np.sin(omega * t)\n",
    "\n",
    "def f_a(x, t):\n",
    "    return a(t) * x**2 + b(t) * x\n",
    "\n",
    "def fDelX(x, t):\n",
    "    return 2 * a(t) * x + b(t)\n",
    "\n",
    "def vX(x, y, t):\n",
    "    return -np.pi * A * np.sin(np.pi * f_a(x, t)) * np.cos(np.pi * y)\n",
    "\n",
    "def vY(x, y, t):\n",
    "    return np.pi * A * np.cos(np.pi * f_a(x, t)) * np.sin(np.pi * y) * fDelX(x, t)\n",
    "\n",
    "\n",
    "def coordDerived(coords, t):\n",
    "    xs = coords[0,:]\n",
    "    ys = coords[1,:]\n",
    "    return np.array([vX(xs, ys, t), vY(xs, ys, t)])"
   ]
  },
  {
   "cell_type": "code",
   "execution_count": null,
   "metadata": {},
   "outputs": [],
   "source": [
    "# Giving initial value to the coordinates-array\n",
    "\n",
    "def Heun(h, tEnd, initPos, f):\n",
    "    tList = np.arange(0, tEnd, h)\n",
    "\n",
    "    coordArr = np.zeros((initPos.shape[0],initPos.shape[1],len(tList)))\n",
    "    coordArr[:,:,0] = initPos\n",
    "\n",
    "    for i in range(1, len(tList)):\n",
    "        coordI = coordArr[:,:,i-1]\n",
    "        ti = tList[i-1]\n",
    "        k1 = f(coordI, ti)\n",
    "\n",
    "        tempCoord = coordI + k1*h\n",
    "\n",
    "        k2 = f(tempCoord, ti + h)\n",
    "\n",
    "        coordArr[:,:,i] = coordI +h/2*(k1 + k2)\n",
    "\n",
    "    return coordArr\n",
    "\n",
    "\n",
    "plt.figure(figsize=(18, 12))\n",
    "plt.title(\"Trajectory with variating timesteps for t = 50 seconds\")\n",
    "plt.xlabel(\"x [m]\")\n",
    "plt.ylabel(\"y [m]\")\n",
    "\n",
    "pos0 = np.zeros((2,1))\n",
    "pos0[0:,] = 1.05\n",
    "pos0[1:,] = 0.5\n",
    "\n",
    "hVals = [0.01, 0.05, 0.06, 0.1, 0.5]\n",
    "\n",
    "for h in hVals:\n",
    "     trajectory = Heun(h, 50, pos0, coordDerived)\n",
    "     plt.plot(trajectory[0,0,:], trajectory[1,0,:], label = f\"Timestep (h) = {h}\")\n",
    "     plt.grid(alpha=0.5)\n",
    "     plt.legend()"
   ]
  },
  {
   "cell_type": "markdown",
   "metadata": {},
   "source": [
    "Kommenter plottet\n",
    "\n",
    "What seems like a reasonable timestep?\n",
    "What happens if you double the time? Is same timestep good?"
   ]
  },
  {
   "cell_type": "code",
   "execution_count": null,
   "metadata": {},
   "outputs": [],
   "source": [
    "#Double the time?\n",
    "\n",
    "plt.figure(figsize=(18, 12))\n",
    "plt.title(\"Trajectory with variating timesteps for t = 100 seconds\")\n",
    "plt.xlabel(\"x [m]\")\n",
    "plt.ylabel(\"y [m]\")\n",
    "\n",
    "for h in hVals:\n",
    "     trajectory = Heun(h, 100, pos0, coordDerived)\n",
    "     plt.plot(trajectory[0,0,:], trajectory[1,0,:], label = f\"Timestep (h) = {h}\")\n",
    "     plt.grid(alpha=0.5)\n",
    "     plt.legend()"
   ]
  },
  {
   "cell_type": "markdown",
   "metadata": {},
   "source": [
    "Kommenter plottet"
   ]
  },
  {
   "cell_type": "markdown",
   "metadata": {},
   "source": [
    "1b)"
   ]
  },
  {
   "cell_type": "code",
   "execution_count": null,
   "metadata": {},
   "outputs": [],
   "source": [
    "# 100 initial conditions, calculate trajectory for each particle for t \\in [0,10]\n",
    "# In the same plot, show scatters of initial and final pos, as well as trajectories that\n",
    "# connect.\n",
    "\n",
    "h_2 = 0.01\n",
    "Np = 100\n",
    "rows, columns = int(np.sqrt(Np)), int(np.sqrt(Np))\n",
    "\n",
    "gridarr = np.linspace(3, 3.1, rows)\n",
    "X, Y = np.meshgrid(gridarr, gridarr)\n",
    "\n",
    "initPositions = np.vstack([X.flatten(), Y.flatten()])\n",
    "\n",
    "B = Heun(h_2, 10, initPositions, coordDerived)\n",
    "\n",
    "fig = plt.figure(figsize=(15,12))\n",
    "ax= plt.axes()\n",
    "\n",
    "ax.scatter(initPositions[0,:], initPositions[1,:], s=1, label='Initial')\n",
    "for i in range(Np):\n",
    "    ax.plot(B[0,i,:],B[1,i,:], lw=0.3, alpha=0.5)\n",
    "ax.scatter(B[0,:,-1], B[1,:,-1], s=1, label='Final')\n",
    "\n",
    "ax.set_xlabel('X [m]')\n",
    "ax.set_ylabel('Y [m]')\n",
    "ax.legend()\n",
    "plt.tight_layout()"
   ]
  },
  {
   "cell_type": "markdown",
   "metadata": {},
   "source": [
    "Kommenter plottet"
   ]
  },
  {
   "cell_type": "markdown",
   "metadata": {},
   "source": [
    "1c)"
   ]
  },
  {
   "cell_type": "code",
   "execution_count": null,
   "metadata": {},
   "outputs": [],
   "source": [
    "# Test implementation by measuring time to run for different numbers of particles, plot of runtime as function of N_p\n",
    "\n",
    "N_p_arr = np.logspace(1,5,10, dtype=int)\n",
    "t_arr = np.zeros(len(N_p_arr))\n",
    "for i,N_p in enumerate(N_p_arr):\n",
    "    pos0 = np.zeros((2,N_p))\n",
    "    pos0[0:,] = np.random.rand(N_p)\n",
    "    pos0[1:,] = np.random.rand(N_p)\n",
    "\n",
    "    t0 = time()\n",
    "    trajectory = Heun(0.01, 10, pos0, coordDerived)\n",
    "    t1 = time()\n",
    "    t_arr[i] = t1 - t0\n",
    "\n",
    "plt.figure()\n",
    "plt.loglog(N_p_arr, t_arr)\n",
    "plt.loglog(N_p_arr, N_p_arr/1000)\n"
   ]
  },
  {
   "cell_type": "markdown",
   "metadata": {},
   "source": [
    "Looking at the figure above, it seems reasonable that the asymptotic runtime of the implementation is linear. However, when $N_p \\in [10^1,10^3]$, the running time seems to be constant. This is because the implementation has some overhead, which dominate for smaller values for $N_p$"
   ]
  },
  {
   "cell_type": "markdown",
   "metadata": {},
   "source": [
    "2a) Kommenter at dette er utdelt"
   ]
  },
  {
   "cell_type": "code",
   "execution_count": null,
   "metadata": {},
   "outputs": [],
   "source": [
    "#2a\n",
    "#################################################\n",
    "#### Convenience class for reading datafiles ####\n",
    "#################################################\n",
    "\n",
    "class Interpolator():\n",
    "    def __init__(self, dataset, fw = 0.03):\n",
    "        # xarray dataset object\n",
    "        self.dataset = dataset\n",
    "        # Windage factor\n",
    "        self.fw = fw\n",
    "        # Extract timestamps as number of seconds after the start of the file\n",
    "        # Saves a bit of bother with dealing with np.datetime objects elsewhere\n",
    "        self.times = np.array([(t - d.time[0])/np.timedelta64(1, 's') for t in d.time[:]], dtype=np.float64)\n",
    "        self.depth = np.array(self.dataset.h)\n",
    "        \n",
    "    def get_interpolators(self, X, it):\n",
    "        # Add a buffer of cells around the extent of the particle cloud\n",
    "        buf  = 10\n",
    "        # Find extent of particle cloud in terms of indices\n",
    "        imax = np.searchsorted(self.dataset.X, np.amax(X[0,:])) + buf\n",
    "        imin = np.searchsorted(self.dataset.X, np.amin(X[0,:])) - buf\n",
    "        jmax = np.searchsorted(self.dataset.Y, np.amax(X[1,:])) + buf\n",
    "        jmin = np.searchsorted(self.dataset.Y, np.amin(X[1,:])) - buf\n",
    "        # Take out subset of array, to pass to\n",
    "        # interpolation object\n",
    "        # Fill NaN values (land cells) with 0, otherwise\n",
    "        # interpolation won't work\n",
    "        u_current = self.dataset.u[it, 0, jmin:jmax, imin:imax].T.fillna(0.0)\n",
    "        v_current = self.dataset.v[it, 0, jmin:jmax, imin:imax].T.fillna(0.0)\n",
    "        u_wind    = self.dataset.Uwind[it, jmin:jmax, imin:imax].T.fillna(0.0)\n",
    "        v_wind    = self.dataset.Vwind[it, jmin:jmax, imin:imax].T.fillna(0.0)\n",
    "        # RectBivariateSpline essentially returns a function,\n",
    "        # which can be called to get value at arbitrary position\n",
    "        fu_current = RectBivariateSpline(self.dataset.X[imin:imax], self.dataset.Y[jmin:jmax], u_current)\n",
    "        fv_current = RectBivariateSpline(self.dataset.X[imin:imax], self.dataset.Y[jmin:jmax], v_current)\n",
    "        fu_wind    = RectBivariateSpline(self.dataset.X[imin:imax], self.dataset.Y[jmin:jmax], u_wind)\n",
    "        fv_wind    = RectBivariateSpline(self.dataset.X[imin:imax], self.dataset.Y[jmin:jmax], v_wind)\n",
    "        return fu_current, fv_current, fu_wind, fv_wind\n",
    "    \n",
    "    def get_time_index(self, t):\n",
    "        # Get index of largest timestamp smaller than (or equal to) t\n",
    "        return np.searchsorted(self.times, t, side='right') - 1\n",
    "    \n",
    "    def on_land(self, X):\n",
    "        # Find indices for each particle\n",
    "        ix_list = np.searchsorted(self.dataset.X, X[0,:])\n",
    "        iy_list = np.searchsorted(self.dataset.Y, X[1,:])\n",
    "        # Identify which particles are in cells with depth 5\n",
    "        # (which for some reason is the smallest depth)\n",
    "        return np.array([self.depth[iy,ix] == 5.0 for ix, iy in zip(ix_list, iy_list)])\n",
    "\n",
    "    def __call__(self, X, t):\n",
    "        # get index of current time in dataset\n",
    "        it = self.get_time_index(t)\n",
    "        # get interpolating functions,\n",
    "        # covering the extent of the particle\n",
    "        fu_current, fv_current, fu_wind, fv_wind = self.get_interpolators(X, it)\n",
    "        \n",
    "        # Evaluate velocity at position(x[:], y[:])\n",
    "        dx = fu_current(X[0,:], X[1,:], grid = False) + self.fw*fu_wind(X[0,:], X[1,:], grid = False)\n",
    "        dy = fv_current(X[0,:], X[1,:], grid = False) + self.fw*fv_wind(X[0,:], X[1,:], grid = False)\n",
    "        return np.array([dx, dy])\n",
    "    "
   ]
  },
  {
   "cell_type": "markdown",
   "metadata": {},
   "source": [
    "Tekst om koden under"
   ]
  },
  {
   "cell_type": "code",
   "execution_count": null,
   "metadata": {},
   "outputs": [],
   "source": [
    "# Update the file path to where you put the downloaded file\n",
    "d  = xr.open_dataset('data/NorKyst-800m.nc')\n",
    "# Initialise the interpolator object with the data\n",
    "f  = Interpolator(dataset = d, fw =0.03)\n",
    "\n",
    "\n",
    "\n",
    "# create some positions\n",
    "mean_x = 790000\n",
    "mean_y = 490000\n",
    "standard_dev = 10000\n",
    "\n",
    "Np = 1000\n",
    "X = np.zeros((2, Np))\n",
    "X[0,:] = np.random.normal(loc = mean_x, scale = standard_dev, size = Np)\n",
    "X[1,:] = np.random.normal(loc = mean_y, scale = standard_dev, size = Np)\n",
    "\n",
    "E = np.zeros((2,Np))\n",
    "\n",
    "E = Heun(3600,3600*5*24,X, f)\n",
    "# scatter plot positions, note the extra transform keyword"
   ]
  },
  {
   "cell_type": "code",
   "execution_count": null,
   "metadata": {},
   "outputs": [],
   "source": [
    "#Plot i xy-planet\n",
    "\n",
    "fig = plt.figure(figsize=(9,6))\n",
    "ax= plt.axes()\n",
    "\n",
    "ax.scatter(X[0,:], X[1,:], s=1, label='Initial')\n",
    "for i in range(Np):\n",
    "    ax.plot(E[0,i,:],E[1,i,:], lw=0.1, alpha=0.5)\n",
    "ax.scatter(E[0,:,-1], E[1,:,-1], s=1, label='Final')\n",
    "\n",
    "ax.set_xlabel('X [m]')\n",
    "ax.set_ylabel('Y [m]')\n",
    "ax.legend()\n",
    "plt.tight_layout()"
   ]
  },
  {
   "cell_type": "markdown",
   "metadata": {},
   "source": [
    "Kommenter plott"
   ]
  },
  {
   "cell_type": "markdown",
   "metadata": {},
   "source": [
    "2b)"
   ]
  },
  {
   "cell_type": "code",
   "execution_count": null,
   "metadata": {},
   "outputs": [],
   "source": []
  },
  {
   "cell_type": "code",
   "execution_count": null,
   "metadata": {},
   "outputs": [],
   "source": [
    "#Plot på kartet\n",
    "fig = plt.figure(figsize=(9,6))\n",
    "ax = plt.axes(projection=ccrs.NorthPolarStereo())\n",
    "\n",
    "ax.set_facecolor('#a8e6ff')\n",
    "ax.add_feature(cfeature.NaturalEarthFeature('physical', 'land', '10m', color = '#a5a48b'))\n",
    "# ax.coastlines(resolution='10m')\n",
    "\n",
    "# Create projection object for converting particle positions\n",
    "npstere = ccrs.Stereographic(\n",
    "    central_latitude = 90,\n",
    "    central_longitude = f.dataset.projection_stere.straight_vertical_longitude_from_pole,\n",
    "    false_easting = f.dataset.projection_stere.false_easting,\n",
    "    false_northing = f.dataset.projection_stere.false_northing,\n",
    "    true_scale_latitude = f.dataset.projection_stere.standard_parallel,\n",
    ")\n",
    "\n",
    "ax.scatter(X[0,:], X[1,:], s=0.7, transform=npstere, label='Initial', color='firebrick', alpha=0.7)\n",
    "for i in range(Np):\n",
    "    ax.plot(E[0,i,:],E[1,i,:], transform=npstere, lw=0.1, alpha=0.5, color='black')\n",
    "ax.scatter(E[0,:,-1], E[1,:,-1], s=0.7, transform=npstere, label='Final', color='mediumseagreen')\n",
    "\n",
    "\n",
    "\n",
    "# Make outline a bit larger\n",
    "ax.set_extent((7, 11, 63.5, 66))\n",
    "#ax.set_extent((2, 7, 60, 61.5))\n",
    "# Add gridlines\n",
    "gl = ax.gridlines(draw_labels=True, dms=True, x_inline=False, y_inline=False, alpha=.5, color='k', lw=.5, )\n",
    "\n",
    "\n",
    "ax.legend()\n",
    "plt.tight_layout()"
   ]
  },
  {
   "cell_type": "markdown",
   "metadata": {},
   "source": [
    "Kommenter plott"
   ]
  },
  {
   "cell_type": "markdown",
   "metadata": {},
   "source": [
    "Tekst"
   ]
  },
  {
   "cell_type": "markdown",
   "metadata": {},
   "source": [
    "3) Until now, the model has not taken into account that particles might end up hitting land. The function `on_land` from the `Interpolate` class will be used to modify the `Heun` method. The modified implementation, `HeunWithStop`, is given below."
   ]
  },
  {
   "cell_type": "code",
   "execution_count": null,
   "metadata": {},
   "outputs": [],
   "source": [
    "def HeunWithStop(h, tEnd, initPos, f):\n",
    "    tList = np.arange(0, tEnd, h)\n",
    "\n",
    "    coordArr = np.zeros((initPos.shape[0],initPos.shape[1],len(tList)))\n",
    "    coordArr[:,:,0] = initPos\n",
    "\n",
    "    for i in range(1, len(tList)):\n",
    "        coordI = coordArr[:,:,i-1]\n",
    "        ti = tList[i-1]\n",
    "        k1 = f(coordI, ti)\n",
    "\n",
    "        tempCoord = coordI + k1*h\n",
    "\n",
    "        k2 = f(tempCoord, ti + h)\n",
    "\n",
    "        coordArr[:,:,i] = np.where(f.on_land(coordArr[:,:,i-1]),coordI,coordI +h/2*(k1 + k2))\n",
    "\n",
    "    return coordArr\n",
    "\n"
   ]
  },
  {
   "cell_type": "markdown",
   "metadata": {},
   "source": [
    "3a) The modified method provides the opportunity to examine how many particles strand, as well as where and when they strand. To look into this, we place particles around a point off the coast of Western Norway and simulate their movements."
   ]
  },
  {
   "cell_type": "code",
   "execution_count": null,
   "metadata": {},
   "outputs": [],
   "source": [
    "mean_x = 250000\n",
    "mean_y = 460000\n",
    "standard_dev = 10000\n",
    "\n",
    "\n",
    "Np = 1000\n",
    "X = np.zeros((2, Np))\n",
    "X[0,:] = np.random.normal(loc = mean_x, scale = standard_dev, size = Np)\n",
    "X[1,:] = np.random.normal(loc = mean_y, scale = standard_dev, size = Np)\n",
    "\n",
    "E = np.zeros((2,Np))\n",
    "\n",
    "E = HeunWithStop(3600,3600*3*24,X, f)"
   ]
  },
  {
   "cell_type": "code",
   "execution_count": null,
   "metadata": {},
   "outputs": [],
   "source": [
    "#Plot på kartet\n",
    "fig = plt.figure(figsize=(9,6))\n",
    "ax = plt.axes(projection=ccrs.NorthPolarStereo())\n",
    "\n",
    "ax.set_facecolor('#a8e6ff')\n",
    "ax.add_feature(cfeature.NaturalEarthFeature('physical', 'land', '10m', color = '#a5a48b'))\n",
    "ax.coastlines(resolution='10m')\n",
    "\n",
    "# Create projection object for converting particle positions\n",
    "npstere = ccrs.Stereographic(\n",
    "    central_latitude = 90,\n",
    "    central_longitude = f.dataset.projection_stere.straight_vertical_longitude_from_pole,\n",
    "    false_easting = f.dataset.projection_stere.false_easting,\n",
    "    false_northing = f.dataset.projection_stere.false_northing,\n",
    "    true_scale_latitude = f.dataset.projection_stere.standard_parallel,\n",
    ")\n",
    "\n",
    "ax.scatter(X[0,:], X[1,:], s=1, transform=npstere, label='Initial', color='firebrick')\n",
    "for i in range(Np):\n",
    "    ax.plot(E[0,i,:],E[1,i,:], transform=npstere, lw=0.1, alpha=0.2)\n",
    "\n",
    "final_pos = E[:,:,-1]\n",
    "afloat = final_pos[:,f.on_land(final_pos)==False]\n",
    "stranded = final_pos[:,f.on_land(final_pos)==True]\n",
    "\n",
    "print(afloat.shape)\n",
    "\n",
    "ax.scatter(afloat[0,:], afloat[1,:], s=1, transform=npstere, label='afloat', color='mediumseagreen')\n",
    "ax.scatter(stranded[0,:], stranded[1,:], s=1, transform=npstere, label='on land', color='darkorange')\n",
    "\n",
    "\n",
    "\n",
    "\n",
    "\n",
    "# Make outline a bit larger\n",
    "# ax.set_extent((7, 11, 63.5, 65))\n",
    "#ax.set_extent((2, 7, 60, 61.5))\n",
    "ax.set_extent((3, 6, 59.25, 61.5))\n",
    "# Add gridlines\n",
    "gl = ax.gridlines(draw_labels=True, dms=True, x_inline=False, y_inline=False, alpha=.5, color='k', lw=.5, )\n",
    "\n",
    "\n",
    "ax.legend()\n",
    "plt.tight_layout()"
   ]
  },
  {
   "cell_type": "markdown",
   "metadata": {},
   "source": [
    "Figure n: Plot showing the movement of particles over 3 days, taking into account stranding of particles. The green dots indicate stranded particles, while the orange dots indicate particles still afloat"
   ]
  },
  {
   "cell_type": "code",
   "execution_count": null,
   "metadata": {},
   "outputs": [],
   "source": [
    "num_stranded = np.zeros(E.shape[-1])\n",
    "for i in range(E.shape[-1]):\n",
    "    num_stranded[i] = np.count_nonzero(f.on_land(E[:,:,i]))\n",
    "\n",
    "plt.plot(num_stranded/E.shape[1]*100)\n",
    "plt.xlabel('Time [h]')\n",
    "plt.ylabel('Percentage of stranded particles')"
   ]
  },
  {
   "cell_type": "markdown",
   "metadata": {},
   "source": [
    "Figure n: Plot showing the number of stranded particles as a function of time. \n",
    "\n",
    "We see that, as intuition would suggest, the longer the particles move, the more likely they are to hit land."
   ]
  },
  {
   "cell_type": "markdown",
   "metadata": {},
   "source": [
    "3b) Another factor that affects whether or not the particles reach the shore, is the wind and the windage factor of the particle. This is a factor relating the effect of the wind on the particle to the effect of water currents. Simulating particle drifts from the same initial positions while varying $f_w$ gives insight into what happens with increased contribution of the wind."
   ]
  },
  {
   "cell_type": "code",
   "execution_count": null,
   "metadata": {},
   "outputs": [],
   "source": [
    "# Try different windage factors and how they affect results, for example\n",
    "# percentage of stranded after three days as function of f_w.\n",
    "\n",
    "f_w_arr = np.linspace(0, 0.15, 10)\n",
    "stranded_arr = np.zeros(f_w_arr.shape)\n",
    "for i, f_w in enumerate(f_w_arr):\n",
    "    g = Interpolator(dataset = d, fw = f_w)\n",
    "    E = HeunWithStop(3600,3600*3*24,X, g)\n",
    "    num_stranded = np.count_nonzero(f.on_land(E[:,:,-1]))\n",
    "    \n",
    "    stranded_arr[i] = num_stranded\n",
    "\n",
    "plt.plot(f_w_arr, stranded_arr/X.shape[1]*100)\n",
    "plt.xlabel('Windage factor')\n",
    "plt.ylabel('Percentage of stranded particles after 3 days')\n",
    "plt.tight_layout()"
   ]
  },
  {
   "cell_type": "markdown",
   "metadata": {},
   "source": [
    "Figure n: The function of stranded particles with regards to the windage factor. \n",
    "\n",
    "As the windage factor increases, the number of stranded particles increases accordingly, with the largest increase when $f_w \\approx 0.03$ Thus, it seems that the wind is pulling the particles towards the shore. To further examine if this is the case, we can plot the direction of the wind as a vector field to see if it pushes the objects towards land."
   ]
  },
  {
   "cell_type": "markdown",
   "metadata": {},
   "source": [
    "In this project, a numerical model for analyzing plastics moving in water, namely the Lagrangian particle model, was examined. Initially, a theoretical test case was used to establish the relation between simulation intervals and time steps. A method for plotting the particle trajectories was implemented, and an approximate runtime analyis was performed. "
   ]
  },
  {
   "cell_type": "markdown",
   "metadata": {},
   "source": [
    "Kilde"
   ]
  }
 ],
 "metadata": {
  "kernelspec": {
   "display_name": "base",
   "language": "python",
   "name": "python3"
  },
  "language_info": {
   "codemirror_mode": {
    "name": "ipython",
    "version": 3
   },
   "file_extension": ".py",
   "mimetype": "text/x-python",
   "name": "python",
   "nbconvert_exporter": "python",
   "pygments_lexer": "ipython3",
   "version": "3.9.12"
  }
 },
 "nbformat": 4,
 "nbformat_minor": 2
}
