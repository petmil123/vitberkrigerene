{
 "cells": [
  {
   "cell_type": "markdown",
   "metadata": {},
   "source": [
    "# Oppgave 1"
   ]
  },
  {
   "cell_type": "code",
   "execution_count": null,
   "metadata": {},
   "outputs": [],
   "source": [
    "import numpy as np\n",
    "\n",
    "#Oppgave 1a)\n",
    "#Defining params\n",
    "\n",
    "A = 0.1\n",
    "epsilon = 0.25\n",
    "omega = 1"
   ]
  },
  {
   "cell_type": "code",
   "execution_count": null,
   "metadata": {},
   "outputs": [],
   "source": [
    "# Defining given functions\n",
    "\n",
    "def a(t):\n",
    "    return epsilon * np.sin(omega * t)\n",
    "\n",
    "def b(t):\n",
    "    return 1 - 2 * epsilon * np.sin(omega * t)\n",
    "\n",
    "def f(x, t):\n",
    "    return a(t) * x**2 + b(t) * x\n",
    "\n",
    "def fDelX(x, t):\n",
    "    return 2 * a(t) * x + b(t)\n",
    "\n",
    "def vX(x, y, t):\n",
    "    return -np.pi * A * np.sin(np.pi * f(x, t)) * np.cos(np.pi * y)\n",
    "\n",
    "def vY(x, y, t):\n",
    "    return np.pi * A * np.cos(np.pi * f(x, t)) * np.sin(np.pi * y) * fDelX(x, t)\n",
    "\n",
    "def coordDerived(coord, t):\n",
    "    x = coord[0]\n",
    "    y = coord[1]\n",
    "    return (vX(x, y, t), vY(x, y, t))"
   ]
  },
  {
   "cell_type": "code",
   "execution_count": 1,
   "metadata": {},
   "outputs": [
    {
     "ename": "NameError",
     "evalue": "name 'np' is not defined",
     "output_type": "error",
     "traceback": [
      "\u001b[1;31m---------------------------------------------------------------------------\u001b[0m",
      "\u001b[1;31mNameError\u001b[0m                                 Traceback (most recent call last)",
      "Cell \u001b[1;32mIn[1], line 8\u001b[0m\n\u001b[0;32m      5\u001b[0m coordArr\u001b[38;5;241m.\u001b[39mappend(coordInit)\n\u001b[0;32m      7\u001b[0m h \u001b[38;5;241m=\u001b[39m \u001b[38;5;241m0.1\u001b[39m\n\u001b[1;32m----> 8\u001b[0m tArray \u001b[38;5;241m=\u001b[39m \u001b[43mnp\u001b[49m\u001b[38;5;241m.\u001b[39marange(\u001b[38;5;241m0\u001b[39m, \u001b[38;5;241m50\u001b[39m, h)\n\u001b[0;32m     10\u001b[0m \u001b[38;5;28;01mdef\u001b[39;00m \u001b[38;5;21mHeun\u001b[39m(coordArray, function, t):\n\u001b[0;32m     11\u001b[0m     k1 \u001b[38;5;241m=\u001b[39m function(coord, t)\n",
      "\u001b[1;31mNameError\u001b[0m: name 'np' is not defined"
     ]
    }
   ],
   "source": [
    "# Giving initial value to the coordinates-array\n",
    "\n",
    "coordArr = []\n",
    "coordInit = (1.05, 0.5)\n",
    "coordArr.append(coordInit)\n",
    "\n",
    "h = 0.1\n",
    "tArray = np.arange(0, 50, h)\n",
    "\n",
    "def Heun(coordArray, function, t):\n",
    "    k1 = function(coord, t)\n",
    "    k2 = function(coord + k1 * h, t + h)\n",
    "    nextXCoord = coord[0] + h/2 * (k1[0] + k2[0])\n",
    "    nextYCoord = coord[1] + h/2 * (k1[1] + k2[1])\n",
    "    coordArray.append(nextCoord)\n",
    "    return coordArray\n",
    "\n",
    "coords = Heun(coordArr, )"
   ]
  },
  {
   "cell_type": "code",
   "execution_count": null,
   "metadata": {},
   "outputs": [],
   "source": []
  },
  {
   "cell_type": "code",
   "execution_count": null,
   "metadata": {},
   "outputs": [],
   "source": []
  },
  {
   "cell_type": "code",
   "execution_count": null,
   "metadata": {},
   "outputs": [],
   "source": []
  },
  {
   "cell_type": "code",
   "execution_count": null,
   "metadata": {},
   "outputs": [],
   "source": []
  },
  {
   "cell_type": "code",
   "execution_count": null,
   "metadata": {},
   "outputs": [],
   "source": []
  },
  {
   "cell_type": "code",
   "execution_count": null,
   "metadata": {},
   "outputs": [],
   "source": []
  },
  {
   "cell_type": "code",
   "execution_count": null,
   "metadata": {},
   "outputs": [],
   "source": []
  },
  {
   "cell_type": "code",
   "execution_count": null,
   "metadata": {},
   "outputs": [],
   "source": []
  },
  {
   "cell_type": "code",
   "execution_count": null,
   "metadata": {},
   "outputs": [],
   "source": []
  },
  {
   "cell_type": "code",
   "execution_count": null,
   "metadata": {},
   "outputs": [],
   "source": []
  }
 ],
 "metadata": {
  "kernelspec": {
   "display_name": "base",
   "language": "python",
   "name": "python3"
  },
  "language_info": {
   "codemirror_mode": {
    "name": "ipython",
    "version": 3
   },
   "file_extension": ".py",
   "mimetype": "text/x-python",
   "name": "python",
   "nbconvert_exporter": "python",
   "pygments_lexer": "ipython3",
   "version": "3.9.13"
  }
 },
 "nbformat": 4,
 "nbformat_minor": 2
}
