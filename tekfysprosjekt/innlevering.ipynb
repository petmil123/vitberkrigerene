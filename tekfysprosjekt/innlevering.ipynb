{
 "cells": [
  {
   "cell_type": "markdown",
   "metadata": {},
   "source": [
    "# Prediciting particle transport by ocean and wind currents at sea level"
   ]
  },
  {
   "cell_type": "markdown",
   "metadata": {},
   "source": [
    "Sometime about 500 years ago, famed explorer Ferdinand Magellan said: \"The sea is dangerous and its storms terrible, but these obstacles have never been sufficient reason to remain ashore.\" This quote is mainly about respecting the power of the sea, then with unknown powers. Although the power of the sea never should be underestimated, we are at this day and age able to measure and even predict its power in ocean and wind currents through numerical simulations. These simulations have mulitple usages, and was for example used to caluclate the trajectory of oilspill after the explosion on the oil platform Deepwater Horizon in 2010. In the future these simulations will remain highly relevant due to the oceans increasing amount of plastics. This report will use recorded data of ocean and wind currents to attempt to implement these simulations to predict the trajectory of plastics at sea level along the Norwegian coast.\n",
    "\n",
    "<hr>"
   ]
  },
  {
   "cell_type": "code",
   "execution_count": null,
   "metadata": {},
   "outputs": [],
   "source": [
    "# Import necessary libraries\n",
    "\n",
    "%matplotlib inline\n",
    "import numpy as np\n",
    "from matplotlib import pyplot as plt\n",
    "from time import time\n",
    "\n",
    "import xarray as xr\n",
    "from scipy.interpolate import RectBivariateSpline\n",
    "\n",
    "import cartopy\n",
    "import cartopy.crs as ccrs\n",
    "import cartopy.feature as cfeature\n",
    "import ssl\n",
    "ssl._create_default_https_context = ssl._create_unverified_context"
   ]
  },
  {
   "cell_type": "markdown",
   "metadata": {},
   "source": [
    "**(1a)** For these simulations, it is useful to start off with a simple case without the recorded data. This will be done by simulating a velocity field of wind- and oceanstreams in the $xy$-plane for $x \\in \\left[0,2\\right]$, $y \\in \\left[0,1\\right]$, and then consider particles, $\\textbf{r}$, moving in this field. These particles' trajectory will be dependent on the ODE $$ \\dot{\\textbf{r}} = [v_x(\\textbf{r}, t), v_y(\\textbf{r}, t)],$$ with $v_x$ and $v_y$ defined as below.\n",
    "\n",
    "Heun's method, a second-order explicit method, will be implemented to solve this ODE. As seen later, the advantage of this ODE-solver is that with known data at only discreet times, $t_n$, the time interval, $h$, can be adjusted to fit with the timeinterval in the recorded data.\n",
    "\n",
    "Below are defined necessary constants and functions for solving this ODE. This will be implemented to handle N particles for later use."
   ]
  },
  {
   "cell_type": "code",
   "execution_count": null,
   "metadata": {},
   "outputs": [],
   "source": [
    "#Foreslår flytte konstantene ned, og egt bare slette denne cellen\n",
    "#Her sto det:\n",
    "\n",
    "#Define necessary constants\n",
    "\n",
    "A = 0.1\n",
    "epsilon = 0.25\n",
    "omega = 1"
   ]
  },
  {
   "cell_type": "code",
   "execution_count": null,
   "metadata": {},
   "outputs": [],
   "source": [
    "#Define necessary constants\n",
    "\n",
    "A = 0.1\n",
    "epsilon = 0.25\n",
    "omega = 1\n",
    "\n",
    "# Define given functions for simplicty in the ODE\n",
    "def a(t):\n",
    "    return epsilon * np.sin(omega * t)\n",
    "\n",
    "def b(t):\n",
    "    return 1 - 2 * epsilon * np.sin(omega * t)\n",
    "\n",
    "def f_a(x, t):\n",
    "    return a(t) * x**2 + b(t) * x\n",
    "\n",
    "def fDelX(x, t):\n",
    "    return 2 * a(t) * x + b(t)\n",
    "\n",
    "def vX(x, y, t):\n",
    "    return -np.pi * A * np.sin(np.pi * f_a(x, t)) * np.cos(np.pi * y)\n",
    "\n",
    "def vY(x, y, t):\n",
    "    return np.pi * A * np.cos(np.pi * f_a(x, t)) * np.sin(np.pi * y) * fDelX(x, t)\n",
    "\n",
    "# Final ODE, using the above defined functions\n",
    "def ODE(coords, t):\n",
    "    xs = coords[0,:]\n",
    "    ys = coords[1,:]\n",
    "    return np.array([vX(xs, ys, t), vY(xs, ys, t)])"
   ]
  },
  {
   "cell_type": "code",
   "execution_count": null,
   "metadata": {},
   "outputs": [],
   "source": [
    "# Implement Heun's method for solving an ODE\n",
    "\n",
    "def Heun(h, time, initPos, f):\n",
    "    \"\"\"Inputs a time interval, amount of time, initial position of the particle, an ODE,\n",
    "    and returns an array with the coordinates of the particles trajectory\"\"\"\n",
    "    \n",
    "    t = np.arange(0, time, h)\n",
    "\n",
    "    #Create an empty array of coordinates, and initialise the first position\n",
    "    coordArr = np.zeros((initPos.shape[0],initPos.shape[1],len(t)))\n",
    "    coordArr[:,:,0] = initPos\n",
    "\n",
    "    for i in range(1, len(t)):\n",
    "        formerCoord = coordArr[:,:,i-1]\n",
    "        ti = t[i-1]\n",
    "\n",
    "        k1 = f(formerCoord, ti)\n",
    "        tempCoord = formerCoord + k1*h\n",
    "        k2 = f(tempCoord, ti + h)\n",
    "\n",
    "        coordArr[:,:,i] = formerCoord +h/2*(k1 + k2)\n",
    "\n",
    "    return coordArr\n",
    "\n",
    "# Plot the trajectory of mulitple particles with variating time intervals\n",
    "plt.figure(figsize=(16, 10))\n",
    "plt.title(\"\"\"Figure 1\n",
    "          Trajectory with Variating Time Intervals for t = 50 Seconds\"\"\", fontsize=20)\n",
    "plt.xlabel(\"x [m]\", fontsize=15)\n",
    "plt.xticks(fontsize=15)\n",
    "plt.ylabel(\"y [m]\", fontsize=15)\n",
    "plt.yticks(fontsize=15)\n",
    "\n",
    "# Initialise startposition\n",
    "pos0 = np.zeros((2,1))\n",
    "pos0[0:,] = 1.05\n",
    "pos0[1:,] = 0.5\n",
    "\n",
    "hVals = [0.001, 0.01, 0.1, 1]\n",
    "\n",
    "for h in hVals:\n",
    "     trajectory = Heun(h, 50, pos0, ODE)\n",
    "     plt.plot(trajectory[0,0,:], trajectory[1,0,:], label = f\"time interval (h) = {h} s\")\n",
    "     plt.grid(alpha=0.5)\n",
    "     plt.legend(fontsize=15)"
   ]
  },
  {
   "cell_type": "markdown",
   "metadata": {},
   "source": [
    "**Figure 1**: Plot of the trajectory of a particle moving for 50 s, using Heuns method in a simulated vectorfield with alternating time intervals.\n",
    "\n",
    "From **Figure 1** it can be argued that a time interval of about $0.1$ s is a sufficiently short time interval. Generally in stepwise ODE-solvers, the smaller the time interval, the more accurate the simulation is. However, it is also relevant to reduce computing time, and therefore use a larger time intervall, that reduces number of iterations. The trajectories in **Figure 1** for $h = 0.001$ s, $h = 0.01$ s and $h = 0.1$ s all closely overlap, and it is therefore reasonable to use a time interval of 0.1 s going forward.\n",
    "\n",
    "The accuracy can of course be related to the total amount of time, and it is therefore relevant to investigate if this time interval is just as useful for a total time of 100 s, as done below."
   ]
  },
  {
   "cell_type": "code",
   "execution_count": null,
   "metadata": {},
   "outputs": [],
   "source": [
    "plt.figure(figsize=(16, 10))\n",
    "plt.title(\"\"\"Figure 2\n",
    "          Trajectory with Variating Time Intervals for t = 100 Seconds\"\"\", fontsize=20)\n",
    "plt.xlabel(\"x [m]\", fontsize=15)\n",
    "plt.xticks(fontsize=15)\n",
    "plt.ylabel(\"y [m]\", fontsize=15)\n",
    "plt.yticks(fontsize=15)\n",
    "\n",
    "for h in hVals:\n",
    "     trajectory = Heun(h, 100, pos0, ODE)\n",
    "     plt.plot(trajectory[0,0,:], trajectory[1,0,:], label = f\"time interval (h) = {h} s\")\n",
    "     plt.grid(alpha=0.5)\n",
    "     plt.legend()"
   ]
  },
  {
   "cell_type": "markdown",
   "metadata": {},
   "source": [
    "**Figure 2**: Plot of the trajectory of a particle moving for 100 s, using Heuns method in a simulated vectorfield with alternating time intervals.\n",
    "\n",
    "From **Figure 2** it can be argued that a time interval of $0.1$ s might not be sufficiently small enough. As argued above, most ODE-solvers are more accurate the smaller the time interval, and in the figure above the simulation with $h = 0.1$ s does not exhibit the same trajectory as the simulations with smaller time intervals. It is therefore reasonable to use a time interval of $h = 0.01$ s going forward.\n",
    "\n",
    "It can also be noted that the larger time interval $h = 1$ s exhibit similar trajectories to the smaller ones in \"exiting\" the first circle, but this is likely due to a too big of a time interval, making it's trajectory more random."
   ]
  },
  {
   "cell_type": "markdown",
   "metadata": {},
   "source": [
    "**(1b)** It is now natural to observe multiple particles' trajectories in the same plot, given diffrent inital positions. These positions may be totally randomized, but it is interesting to observe how particles close to each other behave differently based on a small distance in initial position. This is done below."
   ]
  },
  {
   "cell_type": "code",
   "execution_count": null,
   "metadata": {},
   "outputs": [],
   "source": [
    "h = 0.01\n",
    "Np = 100\n",
    "rows, columns = int(np.sqrt(Np)), int(np.sqrt(Np))\n",
    "\n",
    "xArr = np.linspace(1, 1.1, rows)\n",
    "yArr = np.linspace(0.45, 0.55, rows)\n",
    "X, Y = np.meshgrid(xArr, yArr)\n",
    "initPositions = np.vstack([X.flatten(), Y.flatten()])\n",
    "\n",
    "B = Heun(h, 10, initPositions, ODE)\n",
    "\n",
    "# Plot the trajectories of Np particles in a grid of different initial positions around the inital position from 1a)\n",
    "plt.figure(figsize=(15,10))\n",
    "ax= plt.axes()\n",
    "\n",
    "ax.scatter(initPositions[0,:], initPositions[1,:], s=10, label='Initial')\n",
    "for i in range(Np):\n",
    "    ax.plot(B[0,i,:],B[1,i,:], lw=1.0, alpha=0.5)\n",
    "ax.scatter(B[0,:,-1], B[1,:,-1], s=10, label='Final')\n",
    "\n",
    "ax.set_xlabel('X [m]', fontsize=15)\n",
    "ax.set_ylabel('Y [m]', fontsize=15)\n",
    "ax.legend(fontsize=15)\n",
    "\n",
    "plt.title(\"\"\"Figure 3\n",
    "          Trajectory of 100 Points, $t \\in [0,10]$, h = 0.01\"\"\", fontsize=20)\n",
    "ax.tick_params(axis='both', which='major', labelsize=15) \n",
    "plt.tight_layout()"
   ]
  },
  {
   "cell_type": "markdown",
   "metadata": {},
   "source": [
    "**Figure 3**: Plot of the trajectories of 100 particles moving for 10 s, using Heuns method in a simulated vectorfield.\n",
    "\n",
    "As in **(1a)**, the particles exhibit traits of moving in a circle, as if caught in an ocean- or windstream. It is however apparent that although particles initially placed close to each other exhibit similar trajectories, as in the figure above, they might end up quite far away from each other. This can be seen by the difference in distance between the innermost (closest to origo) and the outermost particles before and after the simulation, where they go from a distance of $0.1$ m, to about $0.8$ m apart."
   ]
  },
  {
   "cell_type": "markdown",
   "metadata": {},
   "source": [
    "**1c)** To ensure that the implementation of `Heun` is sufficiently efficient when presented with larger inputs, it is useful to perform a runtime analysis, where the runtime of the algorithm given values of $N_p$ spanning different orders of magnitude is checked."
   ]
  },
  {
   "cell_type": "code",
   "execution_count": null,
   "metadata": {},
   "outputs": [],
   "source": [
    "# Test implementation by measuring runtime for different numbers of particles, and plot runtime as function of N_p\n",
    "\n",
    "NpArr = np.logspace(1,5,10, dtype=int)\n",
    "t = np.zeros(len(NpArr))\n",
    "\n",
    "for i, N_p in enumerate(NpArr):\n",
    "    pos0 = np.zeros((2,N_p))\n",
    "    pos0[0:,] = np.random.rand(N_p)\n",
    "    pos0[1:,] = np.random.rand(N_p)\n",
    "\n",
    "    t0 = time()\n",
    "    trajectory = Heun(0.01, 10, pos0, ODE)\n",
    "    t1 = time()\n",
    "    t[i] = t1 - t0\n",
    "\n",
    "# Plot the runtimes as a function of number of particles\n",
    "plt.figure(figsize=(7,5))\n",
    "plt.title(\"\"\"Figure 4\n",
    "          Testing Heuns Method on Increasing Numbers of Particles\"\"\")\n",
    "plt.loglog(NpArr, t, label=\"Heun, $t \\in [0,10]$, h = 0.01\", color='firebrick')\n",
    "plt.loglog(NpArr, NpArr/1000, linestyle=\"--\", label=\"Linear increase\", color='black')\n",
    "plt.xlabel(\"Number of Particles\")\n",
    "plt.ylabel(\"Simulation Runtime [s]\", fontsize=12)\n",
    "plt.yticks(fontsize=12)\n",
    "plt.legend(fontsize=12)"
   ]
  },
  {
   "cell_type": "markdown",
   "metadata": {},
   "source": [
    "**Figure 4**: Plot of runtime of Heuns method for increasing number of particles, compared to a linear line.\n",
    "\n",
    "Looking at the figure above, it seems reasonable that the asymptotic runtime of the implementation is linear. However, when $N_p \\in [10^1,10^3]$, the runtime seems to be constant. This is because the implementation has some overhead, which dominate over the work done for each particle for smaller values of $N_p$."
   ]
  },
  {
   "cell_type": "markdown",
   "metadata": {},
   "source": [
    "**2a)** The real-life data from the NorKyst800m model is sampled in time intervals of $1$ h and a datapoint for each $800$ m. To account for particles being inbetween these discrete points, interpolation is used to evaluate values for any given position. A class implementing the interpolation is given below. The class also includes a function on_land, which indicates whether a particle has a position that indicates that it has hit land or not. (This code is given on beforehand, and is merely pasted to the two following cells)"
   ]
  },
  {
   "cell_type": "code",
   "execution_count": null,
   "metadata": {},
   "outputs": [],
   "source": [
    "#################################################\n",
    "#### Convenience class for reading datafiles ####\n",
    "#################################################\n",
    "\n",
    "class Interpolator():\n",
    "    def __init__(self, dataset, fw = 0.03):\n",
    "        # xarray dataset object\n",
    "        self.dataset = dataset\n",
    "        # Windage factor\n",
    "        self.fw = fw\n",
    "        # Extract timestamps as number of seconds after the start of the file\n",
    "        # Saves a bit of bother with dealing with np.datetime objects elsewhere\n",
    "        self.times = np.array([(t - d.time[0])/np.timedelta64(1, 's') for t in d.time[:]], dtype=np.float64)\n",
    "        self.depth = np.array(self.dataset.h)\n",
    "        \n",
    "    def get_interpolators(self, X, it):\n",
    "        # Add a buffer of cells around the extent of the particle cloud\n",
    "        buf  = 10\n",
    "        # Find extent of particle cloud in terms of indices\n",
    "        imax = np.searchsorted(self.dataset.X, np.amax(X[0,:])) + buf\n",
    "        imin = np.searchsorted(self.dataset.X, np.amin(X[0,:])) - buf\n",
    "        jmax = np.searchsorted(self.dataset.Y, np.amax(X[1,:])) + buf\n",
    "        jmin = np.searchsorted(self.dataset.Y, np.amin(X[1,:])) - buf\n",
    "        # Take out subset of array, to pass to\n",
    "        # interpolation object\n",
    "        # Fill NaN values (land cells) with 0, otherwise\n",
    "        # interpolation won't work\n",
    "        u_current = self.dataset.u[it, 0, jmin:jmax, imin:imax].T.fillna(0.0)\n",
    "        v_current = self.dataset.v[it, 0, jmin:jmax, imin:imax].T.fillna(0.0)\n",
    "        u_wind    = self.dataset.Uwind[it, jmin:jmax, imin:imax].T.fillna(0.0)\n",
    "        v_wind    = self.dataset.Vwind[it, jmin:jmax, imin:imax].T.fillna(0.0)\n",
    "        # RectBivariateSpline essentially returns a function,\n",
    "        # which can be called to get value at arbitrary position\n",
    "        fu_current = RectBivariateSpline(self.dataset.X[imin:imax], self.dataset.Y[jmin:jmax], u_current)\n",
    "        fv_current = RectBivariateSpline(self.dataset.X[imin:imax], self.dataset.Y[jmin:jmax], v_current)\n",
    "        fu_wind    = RectBivariateSpline(self.dataset.X[imin:imax], self.dataset.Y[jmin:jmax], u_wind)\n",
    "        fv_wind    = RectBivariateSpline(self.dataset.X[imin:imax], self.dataset.Y[jmin:jmax], v_wind)\n",
    "        return fu_current, fv_current, fu_wind, fv_wind\n",
    "    \n",
    "    def get_time_index(self, t):\n",
    "        # Get index of largest timestamp smaller than (or equal to) t\n",
    "        return np.searchsorted(self.times, t, side='right') - 1\n",
    "    \n",
    "    def on_land(self, X):\n",
    "        # Find indices for each particle\n",
    "        ix_list = np.searchsorted(self.dataset.X, X[0,:])\n",
    "        iy_list = np.searchsorted(self.dataset.Y, X[1,:])\n",
    "        # Identify which particles are in cells with depth 5\n",
    "        # (which for some reason is the smallest depth)\n",
    "        return np.array([self.depth[iy,ix] == 5.0 for ix, iy in zip(ix_list, iy_list)])\n",
    "\n",
    "    def __call__(self, X, t):\n",
    "        # get index of current time in dataset\n",
    "        it = self.get_time_index(t)\n",
    "        # get interpolating functions,\n",
    "        # covering the extent of the particle\n",
    "        fu_current, fv_current, fu_wind, fv_wind = self.get_interpolators(X, it)\n",
    "        \n",
    "        # Evaluate velocity at position(x[:], y[:])\n",
    "        dx = fu_current(X[0,:], X[1,:], grid = False) + self.fw*fu_wind(X[0,:], X[1,:], grid = False)\n",
    "        dy = fv_current(X[0,:], X[1,:], grid = False) + self.fw*fv_wind(X[0,:], X[1,:], grid = False)\n",
    "        return np.array([dx, dy])"
   ]
  },
  {
   "cell_type": "markdown",
   "metadata": {},
   "source": [
    "Before plotting on a map, a verification that the dynamic works is preferable. Therefore, a plot directly is performed. The code below calculates the trajectories for all particles, and plots them directly on an xy-grid."
   ]
  },
  {
   "cell_type": "code",
   "execution_count": null,
   "metadata": {},
   "outputs": [],
   "source": [
    "# Update the file path to where you put the downloaded file\n",
    "d  = xr.open_dataset('data/NorKyst-800m.nc')\n",
    "# Initialise the interpolator object with the data\n",
    "f  = Interpolator(dataset = d, fw =0.03)\n",
    "\n",
    "\n",
    "\n",
    "# Parameters for normal distribution\n",
    "mean_x = 790000\n",
    "mean_y = 490000\n",
    "standard_dev = 10000\n",
    "\n",
    "Np = 1000\n",
    "\n",
    "# Create initial positions for the particles\n",
    "X = np.zeros((2, Np))\n",
    "X[0,:] = np.random.normal(loc = mean_x, scale = standard_dev, size = Np)\n",
    "X[1,:] = np.random.normal(loc = mean_y, scale = standard_dev, size = Np)\n",
    "\n",
    "\n",
    "# Run the simulation\n",
    "E = Heun(3600,3600*5*24,X, f)"
   ]
  },
  {
   "cell_type": "code",
   "execution_count": null,
   "metadata": {},
   "outputs": [],
   "source": [
    "#Plot in the xy-plane\n",
    "\n",
    "fig = plt.figure(figsize=(9,6))\n",
    "ax= plt.axes()\n",
    "\n",
    "ax.scatter(X[0,:], X[1,:], s=1, label='Initial')\n",
    "for i in range(Np):\n",
    "    ax.plot(E[0,i,:],E[1,i,:], lw=0.1, alpha=0.5)\n",
    "ax.scatter(E[0,:,-1], E[1,:,-1], s=1, label='Final')\n",
    "\n",
    "ax.set_xlabel('X [m]', fontsize=13)\n",
    "ax.set_ylabel('Y [m]', fontsize=13)\n",
    "ax.legend(fontsize=13)\n",
    "ax.tick_params(axis='both', which='major', labelsize=10)\n",
    "plt.tight_layout()"
   ]
  },
  {
   "cell_type": "markdown",
   "metadata": {},
   "source": [
    "**Figure 5**: A plot of $N_p = 1000$ particles placed somewhere approximately outside Trondheim directly in the xy-coordinates of the NorKyst800m model.\n",
    "\n",
    "Note the placement of the particles, as these should be recognizable when compared to the same plot on a map. Also note that the x-coordinates are increasing towards north, while y coordinates are increasing towards the west."
   ]
  },
  {
   "cell_type": "markdown",
   "metadata": {},
   "source": [
    "**2b)** It is both far more interesting and useful to observe the positions of the particles on a map, rather than on a grid. Since plotting on a map will be essential to the remainder of the report, this code is compiled into a function. To facilitate for future needs, the function also returns the data points given by `Heun`, and allows for optional coloring of stranded particles. The function `HeunWithStop` is also implemented below. This function will be used later, but needs to be defined before `plottingFunction` to avoid errors. "
   ]
  },
  {
   "cell_type": "code",
   "execution_count": null,
   "metadata": {},
   "outputs": [],
   "source": [
    "# Projection data for plotting\n",
    "npstere = ccrs.Stereographic(\n",
    "    central_latitude = 90,\n",
    "    central_longitude = f.dataset.projection_stere.straight_vertical_longitude_from_pole,\n",
    "    false_easting = f.dataset.projection_stere.false_easting,\n",
    "    false_northing = f.dataset.projection_stere.false_northing,\n",
    "    true_scale_latitude = f.dataset.projection_stere.standard_parallel,\n",
    ")\n",
    "\n",
    "\n",
    "def HeunWithStop(h, time, initPos, f):\n",
    "    \"\"\"Inputs a time interval, amount of time, initial position of the particle, an ODE,\n",
    "    and returns an array with the coordinates of the particles trajectory\"\"\"\n",
    "\n",
    "    t = np.arange(0, time, h)\n",
    "\n",
    "    coordArr = np.zeros((initPos.shape[0],initPos.shape[1],len(t)))\n",
    "    coordArr[:,:,0] = initPos\n",
    "\n",
    "    for i in range(1, len(t)):\n",
    "        formerCoord = coordArr[:,:,i-1]\n",
    "        ti = t[i-1]\n",
    "\n",
    "        k1 = f(formerCoord, ti)\n",
    "        tempCoord = formerCoord + k1*h\n",
    "        k2 = f(tempCoord, ti + h)\n",
    "\n",
    "        # Check if the particle is on land or not. If so, the former coordinate is appended,\n",
    "        # if not, the next coordinate is appended\n",
    "        coordArr[:,:,i] = np.where(f.on_land(formerCoord),formerCoord,formerCoord +h/2*(k1 + k2))\n",
    "\n",
    "    return coordArr\n",
    "\n",
    "\n",
    "def plottingFunction(number: int, args: list[tuple], Np: int, h: float, time: float, standard_dev: float, mean_x:float, mean_y:float, ODE:callable =Heun):\n",
    "    \"\"\"Function to plot one or more simulations in the same plot.\n",
    "    Inputs: number: Number of plots\n",
    "    args: List of tuples containing the extent of the plot, in the form (s, e, b, t)\n",
    "    Np: Number of particles\n",
    "    h: Time interval\n",
    "    time: End time\n",
    "    standard_dev: Standard deviation of the normal distribution\n",
    "    mean_x: Mean value of the normal distribution for x\n",
    "    mean_y: Mean value of the normal distribution for y\n",
    "    ODE: Function to use for the simulation, default is Heun, other option is HeunWithStop.\n",
    "    \n",
    "    Returns: E: np array of shape (number, 2, Np, time//h) with the coordinates of the particles at each time step.\n",
    "    \n",
    "    Side effects: Plots the trajectories of the particles in the given plots.\"\"\"\n",
    "        \n",
    "    # Initialize arrays to store the initial positions and the trajectories\n",
    "    S = np.zeros((number, 2, Np))\n",
    "    E = np.zeros((number, 2, Np, time//h))\n",
    "\n",
    "    # Fill start positions with random values from a normal distribution\n",
    "    for i in range(number):\n",
    "        S[i, 0, :] = np.random.normal(loc=mean_x[i], scale=standard_dev, size=Np)\n",
    "        S[i, 1, :] = np.random.normal(loc=mean_y[i], scale=standard_dev, size=Np)\n",
    "\n",
    "        # Run the simulation for each set of initial positions\n",
    "        E[i] = ODE(h, time, S[i,:,:], f)\n",
    "\n",
    "    # Define axes\n",
    "    fig, axs = plt.subplots(1, number, figsize=(number*6, number*6), subplot_kw={'projection': ccrs.NorthPolarStereo()})\n",
    "\n",
    "    # If only one plot is to be made, axs is not an array. Set it to an array to avoid issues plotting 1 plot\n",
    "    if number == 1:\n",
    "        axs = np.array([axs])\n",
    "    \n",
    "    # for each plot, set the extent, add features and plot the trajectories\n",
    "    for ax, arg, S_j, E_j in zip(axs, args, S, E):\n",
    "        s, e, b, t = arg\n",
    "        ax.set_facecolor('#9CC4CF')\n",
    "        ax.add_feature(cfeature.NaturalEarthFeature('physical', 'land', '10m', color='#a5a48b'))\n",
    "        ax.scatter(S_j[0, :], S_j[1,:], s=0.7, transform=npstere, label='Initial', color='firebrick', alpha=0.7)\n",
    "\n",
    "        for i in range(Np):\n",
    "            ax.plot(E_j[0, i,:], E_j[1, i, :], transform=npstere, lw=0.1, alpha=0.3, color='black')\n",
    "        \n",
    "        # If the simulation is HeunWithStop, plot the particles that are stranded on land in a different color\n",
    "        if (ODE==HeunWithStop):\n",
    "            final_pos = E_j[:, :,-1]\n",
    "            afloat = final_pos[:,f.on_land(final_pos)==False]\n",
    "            stranded = final_pos[:,f.on_land(final_pos)==True]\n",
    "\n",
    "            ax.scatter(afloat[0,:], afloat[1,:], s=1, transform=npstere, label='afloat', color='mediumseagreen')\n",
    "            ax.scatter(stranded[0,:], stranded[1,:], s=1, transform=npstere, label='on land', color='blueviolet')\n",
    "        else:\n",
    "            ax.scatter(E_j[0, :, -1], E_j[1, :, -1], s=0.7, transform=npstere, label='Final', color='mediumseagreen')\n",
    "        \n",
    "        ax.set_extent((s, e, b, t))\n",
    "\n",
    "        gl = ax.gridlines(draw_labels=True, dms=True, x_inline=False, y_inline=False, alpha=.5, color='k', lw=.5)\n",
    "        ax.legend()\n",
    "\n",
    "    plt.tight_layout()\n",
    "    plt.show()\n",
    "    return E"
   ]
  },
  {
   "cell_type": "markdown",
   "metadata": {},
   "source": [
    "To visualize how the ocean streams behave along the Norwegian coast, plots of particles placed at four different locations along the coast are created."
   ]
  },
  {
   "cell_type": "code",
   "execution_count": null,
   "metadata": {},
   "outputs": [],
   "source": [
    "#Extents of the plots\n",
    "args1 = ((7, 11, 63.5, 65.5), (8, 12, 59.5, 57))\n",
    "args2 = ((8, 15, 67.5, 70), (25, 30, 70, 72.2))\n",
    "\n",
    "#Normal distribution params\n",
    "mean_x1 = np.array([790000, 190000])\n",
    "mean_x2 = np.array([1220000, 1915000])\n",
    "\n",
    "mean_y1 = np.array([490000, 110000])\n",
    "mean_y2 = np.array([620000, 300000])\n",
    "\n",
    "std = 10000\n",
    "\n",
    "# Plotting two and two functions for visualization purposes\n",
    "_ = plottingFunction(len(mean_x1), args1, 1000, 3600, 3600*24*5, std, mean_x1, mean_y1)\n",
    "_ = plottingFunction(len(mean_x2), args2, 1000, 3600, 3600*24*5, std, mean_x2, mean_y2)"
   ]
  },
  {
   "cell_type": "markdown",
   "metadata": {},
   "source": [
    "**Figure 6**: Particle movements when placed four different places along the Norwegian coast."
   ]
  },
  {
   "cell_type": "markdown",
   "metadata": {},
   "source": [
    "The top left image shows the same example as Figure 5, now projected onto a map. The other locations show selected positions along the Norwegian coast. The results look different for each position, which is natural considering ocean and wind currents are different. (Dette er tynn suppe hilsen petar)\n",
    "\n",
    "Forslag fra pensjonisten: \n",
    "\n",
    "The top left image shows the same example as **Figure 5**, now projected onto a map. The other plots show selected arbitrary locations along the Norwegian coast. These trajectories differentiate as expected, as different locations naturally exhibit different wind- and oceancurrents."
   ]
  },
  {
   "cell_type": "markdown",
   "metadata": {},
   "source": [
    "**3)** Until now, the model has not taken into account that particles might end up hitting land. The function `on_land` from the `Interpolate` class will be used to modify the `Heun` method. The modified implementation, `HeunWithStop`, is defined above, as mentioned in **2b)**, due to it being necessary to avoid not defined-errors."
   ]
  },
  {
   "cell_type": "code",
   "execution_count": null,
   "metadata": {},
   "outputs": [],
   "source": [
    "# Definert før, kan fjerne denne. Kan kommentere i teksten over at den er definert før. Gjorde det nå hehe. \n",
    "\n",
    "def HeunWithStop(h, time, initPos, f):\n",
    "    t = np.arange(0, time, h)\n",
    "    # Array to store all coordinates\n",
    "    coordArr = np.zeros((initPos.shape[0],initPos.shape[1],len(t)))\n",
    "    # Set initial positions\n",
    "    coordArr[:,:,0] = initPos\n",
    "\n",
    "    # Performs a Heun step for each time step\n",
    "    for i in range(1, len(t)):\n",
    "        formerCoord = coordArr[:,:,i-1]\n",
    "        ti = t[i-1]\n",
    "        k1 = f(formerCoord, ti)\n",
    "\n",
    "        tempCoord = formerCoord + k1*h\n",
    "\n",
    "        k2 = f(tempCoord, ti + h)\n",
    "\n",
    "        # If the particle is on land, set the position to the previous position, else, update position.\n",
    "        coordArr[:,:,i] = np.where(f.on_land(coordArr[:,:,i-1]),formerCoord,formerCoord +h/2*(k1 + k2))\n",
    "\n",
    "    return coordArr"
   ]
  },
  {
   "cell_type": "markdown",
   "metadata": {},
   "source": [
    "**3a)** The modified method provides the opportunity to examine how many particles strand, as well as where and when they strand. To observe this, 1000(?) particles are placed around a point off the coast of Western Norway and their trajectories are simulated below."
   ]
  },
  {
   "cell_type": "code",
   "execution_count": null,
   "metadata": {},
   "outputs": [],
   "source": [
    "# Placement parameters\n",
    "args = [(3, 6, 59.25, 61.5)]\n",
    "\n",
    "mean_x = np.array([250000])\n",
    "mean_y = np.array([460000])\n",
    "\n",
    "# Store values for use in windage analysis. array access to get dimensions right\n",
    "E = plottingFunction(1, args, 1000, 3600, 3600*24*3, 10000, mean_x, mean_y, HeunWithStop)[0]"
   ]
  },
  {
   "cell_type": "code",
   "execution_count": null,
   "metadata": {},
   "outputs": [],
   "source": [
    "# Slett denne når alle er på main"
   ]
  },
  {
   "cell_type": "markdown",
   "metadata": {},
   "source": [
    "**Figure 7**: Plot showing the movement of particles over 3 days, taking into account stranding of particles. The green dots indicate stranded particles, while the orange dots indicate particles still afloat.\n",
    "\n",
    "Observing the particles' trajectories, it can be observed that quite a few particles have stranded while other particles are very close to the shore. This might suggest that a significant number of particles have stranded recently. To assess this hypothesis further, a plot of the percentage of stranded particles as a function of time is a good tool. This is done below"
   ]
  },
  {
   "cell_type": "code",
   "execution_count": null,
   "metadata": {},
   "outputs": [],
   "source": [
    "num_stranded = np.zeros(E.shape[-1])\n",
    "for i in range(E.shape[-1]):\n",
    "    # Count the number of particles that are on land at each time step\n",
    "    num_stranded[i] = np.count_nonzero(f.on_land(E[:,:,i]))\n",
    "\n",
    "plt.plot(num_stranded/E.shape[1]*100)\n",
    "plt.xlabel('Time [h]')\n",
    "plt.ylabel('Percentage of stranded particles')"
   ]
  },
  {
   "cell_type": "markdown",
   "metadata": {},
   "source": [
    "**Figure 8**: Plot showing the number of stranded particles as a function of time. \n",
    "\n",
    "It is observable that, as the intuitive hypothesis above suggested, the longer the particles move, the more likely they are to hit land."
   ]
  },
  {
   "cell_type": "markdown",
   "metadata": {},
   "source": [
    "**3b)** Another factor that affects whether or not the particles reach the shore, is the wind and the windage factor, $f_w$, of the particle. This is a factor relating the effect of the wind on the particle to the effect of water currents. Simulating particle drifts from the same initial positions while varying $f_w$ gives insight into what happens with increased contribution of the wind."
   ]
  },
  {
   "cell_type": "code",
   "execution_count": null,
   "metadata": {},
   "outputs": [],
   "source": [
    "# Values for f_w\n",
    "f_w_arr = np.linspace(0, 0.15, 10)\n",
    "\n",
    "#Preparing array for storing stranded particles\n",
    "stranded_arr = np.zeros(f_w_arr.shape)\n",
    "\n",
    "# Create initial positions for the particles\n",
    "X = np.zeros((2, 1000))\n",
    "X[0,:] = np.random.normal(loc=mean_x[0], scale=10000, size=1000)\n",
    "X[1,:] = np.random.normal(loc=mean_y[0], scale=10000, size=1000)\n",
    "\n",
    "# Run the simulation for each windage factor\n",
    "for i, f_w in enumerate(f_w_arr):\n",
    "    # Need to create an individual interpolator for each windage factor\n",
    "    g = Interpolator(dataset = d, fw = f_w)\n",
    "    E = HeunWithStop(3600,3600*3*24,X, g)\n",
    "    num_stranded = np.count_nonzero(f.on_land(E[:,:,-1]))\n",
    "    # Store result of simulation\n",
    "    stranded_arr[i] = num_stranded\n",
    "\n",
    "# Plot the results (percentage for stranded particles)\n",
    "plt.plot(f_w_arr, stranded_arr/X.shape[1]*100)\n",
    "plt.xlabel('Windage factor')\n",
    "plt.ylabel('Percentage of stranded particles after 3 days')\n",
    "plt.tight_layout()"
   ]
  },
  {
   "cell_type": "markdown",
   "metadata": {},
   "source": [
    "**Figure 8**: The function of stranded particles with regards to the windage factor. \n",
    "\n",
    "As the windage factor increases, the number of stranded particles increases accordingly, with the largest increase when $f_w \\approx 0.03$ Thus, it seems that the wind is pulling the particles towards the shore. To further examine if this is the case, we can plot the direction of the wind as a vector field to see if it pushes the objects towards land."
   ]
  },
  {
   "cell_type": "markdown",
   "metadata": {},
   "source": [
    "In this project, a numerical model for analyzing plastics moving in water, namely the Lagrangian particle model, was examined. Initially, a theoretical test case was used to establish the relation between simulation intervals and time steps. A method for plotting the particle trajectories was implemented, and an approximate runtime analyis was performed. Thereafter, real-world wind and waterstream data was used to examine movements along the Norwegian coast. Finally, shore contact was implemented, and analysis of how the wind affected the amount of particles reaching the shore was performed."
   ]
  },
  {
   "cell_type": "markdown",
   "metadata": {},
   "source": [
    "Kilde"
   ]
  }
 ],
 "metadata": {
  "kernelspec": {
   "display_name": "base",
   "language": "python",
   "name": "python3"
  },
  "language_info": {
   "codemirror_mode": {
    "name": "ipython",
    "version": 3
   },
   "file_extension": ".py",
   "mimetype": "text/x-python",
   "name": "python",
   "nbconvert_exporter": "python",
   "pygments_lexer": "ipython3",
   "version": "3.9.12"
  }
 },
 "nbformat": 4,
 "nbformat_minor": 2
}
