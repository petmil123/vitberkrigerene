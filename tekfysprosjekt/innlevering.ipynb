{
 "cells": [
  {
   "cell_type": "markdown",
   "metadata": {},
   "source": [
    "# Oppgave 1"
   ]
  },
  {
   "cell_type": "code",
   "execution_count": null,
   "metadata": {},
   "outputs": [],
   "source": [
    "import numpy as np\n",
    "\n",
    "#Oppgave 1a)\n",
    "#Defining params\n",
    "\n",
    "A = 0.1\n",
    "epsilon = 0.25\n",
    "omega = 1"
   ]
  },
  {
   "cell_type": "code",
   "execution_count": null,
   "metadata": {},
   "outputs": [],
   "source": [
    "# Defining given functions\n",
    "\n",
    "def a(t):\n",
    "    return epsilon * np.sin(omega * t)\n",
    "\n",
    "def b(t):\n",
    "    return 1 - 2 * epsilon * np.sin(omega * t)\n",
    "\n",
    "def f(x, t):\n",
    "    return a(t) * x**2 + b(t) * x\n",
    "\n",
    "def fDelX(x, t):\n",
    "    return 2 * a(t) * x + b(t)\n",
    "\n",
    "def vX(x, y, t):\n",
    "    return -np.pi * A * np.sin(np.pi * f(x, t)) * np.cos(np.pi * y)\n",
    "\n",
    "def vY(x, y, t):\n",
    "    return np.pi * A * np.cos(np.pi * f(x, t)) * np.sin(np.pi * y) * fDelX(x, t)\n",
    "\n",
    "def coordDerived(coord, t):\n",
    "    x = coord[0]\n",
    "    y = coord[1]\n",
    "    return (vX(x, y, t), vY(x, y, t))"
   ]
  },
  {
   "cell_type": "code",
   "execution_count": null,
   "metadata": {},
   "outputs": [],
   "source": [
    "# Giving initial value to the coordinates-array\n",
    "\n",
    "coordArr = []\n",
    "coordInit = (1.05, 0.5)\n",
    "coordArr.append(coordInit)\n",
    "\n",
    "h = 0.1\n",
    "tArray = np.arange(0, 50, h)\n",
    "\n",
    "def Heun(coordArray, function, t):\n",
    "    k1 = function(coord, t)\n",
    "    k2 = function(coord + k1 * h, t + h)\n",
    "    nextXCoord = coord[0] + h/2 * (k1[0] + k2[0])\n",
    "    nextYCoord = coord[1] + h/2 * (k1[1] + k2[1])\n",
    "    coordArray.append(nextCoord)\n",
    "    return coordArray\n",
    "\n",
    "coords = Heun(coordArr, )"
   ]
  }
 ],
 "metadata": {
  "kernelspec": {
   "display_name": "base",
   "language": "python",
   "name": "python3"
  },
  "language_info": {
   "codemirror_mode": {
    "name": "ipython",
    "version": 3
   },
   "file_extension": ".py",
   "mimetype": "text/x-python",
   "name": "python",
   "nbconvert_exporter": "python",
   "pygments_lexer": "ipython3",
   "version": "3.9.12"
  }
 },
 "nbformat": 4,
 "nbformat_minor": 2
}
