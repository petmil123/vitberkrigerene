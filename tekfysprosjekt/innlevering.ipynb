{
 "cells": [
  {
   "cell_type": "markdown",
   "metadata": {},
   "source": [
    "# Oppgave 1"
   ]
  },
  {
   "cell_type": "code",
   "execution_count": null,
   "metadata": {},
   "outputs": [],
   "source": [
    "import numpy as np\n",
    "\n",
    "#Oppgave 1a)\n",
    "#Defining params\n",
    "\n",
    "A = 0.1\n",
    "epsilon = 0.25\n",
    "omega = 1\n",
    "\n",
    "posArr = []\n",
    "xInit = (1.05, 0.5)\n",
    "posArr.append(xInit)\n",
    "\n",
    "xArr = np.linspace(0, 2, 1000)\n",
    "yArr = np.linspace(0, 1, 1000)\n",
    "\n"
   ]
  },
  {
   "cell_type": "code",
   "execution_count": null,
   "metadata": {},
   "outputs": [],
   "source": [
    "# Defining given functions\n",
    "\n",
    "def a(t):\n",
    "    return epsilon * np.sin(omega * t)\n",
    "\n",
    "def b(t):\n",
    "    return 1 - 2 * epsilon * np.sin(omega * t)\n",
    "\n",
    "def f(x, t):\n",
    "    return a(t) * x**2 + b(t) * x\n",
    "\n",
    "def fDelX(x, t):\n",
    "    return 2 * a(t) * x + b(t)\n",
    "\n",
    "def vX(x, y, t):\n",
    "    return -np.pi * A * np.sin(np.pi * f(x, t)) * np.cos(np.pi * y)\n",
    "\n",
    "def vY(x, y, t):\n",
    "    return np.pi * A * np.cos(np.pi * f(x, t)) * np.sin(np.pi * y) * fDelX(x, t)"
   ]
  },
  {
   "cell_type": "code",
   "execution_count": null,
   "metadata": {},
   "outputs": [],
   "source": []
  }
 ],
 "metadata": {
  "kernelspec": {
   "display_name": "base",
   "language": "python",
   "name": "python3"
  },
  "language_info": {
   "codemirror_mode": {
    "name": "ipython",
    "version": 3
   },
   "file_extension": ".py",
   "mimetype": "text/x-python",
   "name": "python",
   "nbconvert_exporter": "python",
   "pygments_lexer": "ipython3",
   "version": "3.9.12"
  }
 },
 "nbformat": 4,
 "nbformat_minor": 2
}
