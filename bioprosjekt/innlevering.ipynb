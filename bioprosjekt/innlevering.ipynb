{
 "cells": [
  {
   "cell_type": "markdown",
   "metadata": {},
   "source": [
    "# Polymers"
   ]
  },
  {
   "cell_type": "markdown",
   "metadata": {},
   "source": [
    "## Fancy fuckings innledning goes here"
   ]
  },
  {
   "cell_type": "markdown",
   "metadata": {},
   "source": [
    "1 a)"
   ]
  },
  {
   "cell_type": "markdown",
   "metadata": {},
   "source": [
    "Ved å lagre informasjonen i et N x 2 array, vil kjøretiden minke betraktelig. Siden vi bare er interresert i posisjonen til de N monomerene, og ikke hele gitteret, vil dette være den beste framgangsmåten. Vi oppretter et array med dimensjon N x 2, der hver rad inneholder informasjon om posisjonen til en monomer i polymeren. Den første kolonnen inneholder x-koordinaten til polymeren, og den andre y-koordinaten. \n",
    "\n",
    "TODO: Skriv akademisk\n",
    "\n",
    "We begin by implementing the polymer and corresponding functions needed for rotations and visualization. There are several ways to implement the polymer, one way is to use an N x N matrix containing the index of each individual monomer. Another possibility, which we have opted for, is to store the polymer as a list of length N where each element of the list is a list of length two, containing the X and Y coordinates of the monomer with the respective index. Note that our is then zero-indexed.\n",
    "\n",
    "The advantages of going for this approach is that operations done on the entirety of the data structure achieves an asymptotic runtime of $O(n)$, an order of magnitude better than $O(n^2)$ for the NxN matrix approach, while still being compatible with numpy, letting us take advantage of the fast implementations and parallell computing possibilities within numpy.\n",
    "\n",
    "A function that creates a polymer spanning a horizontal line is given below the library imports."
   ]
  },
  {
   "cell_type": "code",
   "execution_count": null,
   "metadata": {},
   "outputs": [],
   "source": [
    "# Import and define necessary libraries and constants\n",
    "import numpy as np\n",
    "import matplotlib.pyplot as plt\n",
    "from matplotlib.colors import ListedColormap\n",
    "from scipy.optimize import curve_fit\n",
    "from scipy.spatial.distance import cdist\n",
    "\n",
    "#Boltzmanns konstant\n",
    "k_B = 1.38e-23 #J/K"
   ]
  },
  {
   "cell_type": "markdown",
   "metadata": {},
   "source": []
  },
  {
   "cell_type": "code",
   "execution_count": null,
   "metadata": {},
   "outputs": [],
   "source": [
    "# 1b)\n",
    "def createPolymer(n):\n",
    "    \"\"\"Inputs a number n and returns a horizontal polymer\"\"\"\n",
    "    \n",
    "    polymer = np.zeros((n,2))\n",
    "    polymer[:,0] = np.linspace(0,n-1,n)\n",
    "    polymer[:,1] = n//2\n",
    "    return polymer"
   ]
  },
  {
   "cell_type": "markdown",
   "metadata": {},
   "source": [
    "1c)\n",
    "En rotatsjon om endepunktene vil ikke gi energiendring. Energiendring kommer av vekselvirkninger mellom monomerer som ligger inntil hverandre, men ikke er nabo-monomerer i selve polynomet.\n",
    "Altså er det kun energiendring om enten som monomerer ligger i en avstand 1 unna hverandre flyttes fra hverandre, eller motsatt, hele tiden uten å være naboer i polynomet.\n",
    "TODO: Skriv akademisk\n",
    "\n",
    "A rotation about the first or last polymer will not alter the energy at all. Changes in energy arise when monomers that were not previously interacting gets placed such that an interaction arises, or vice versa. As a rotation around a monomer at the endpoint rotates the entire polymer, no relative distances are altered. Therefore, when simulating random rotations, we can disregard such rotations without consequences for the final result. \n",
    "\n",
    "**Skal vi skrive tekst om 1d)?**"
   ]
  },
  {
   "cell_type": "code",
   "execution_count": null,
   "metadata": {},
   "outputs": [],
   "source": [
    "def visualizePolymer(polymer, title=\"\"):\n",
    "    # Calculate the minimum and maximum coordinates of the polymer\n",
    "    minX = int(np.min(polymer[:, 0]))\n",
    "    maxX = int(np.max(polymer[:, 0]))\n",
    "    minY = int(np.min(polymer[:, 1]))\n",
    "    maxY = int(np.max(polymer[:, 1]))\n",
    "\n",
    "    # Calculate grid dimensions based on the polymer coordinates\n",
    "    gridWidth = maxX - minX + 1\n",
    "    gridHeight = maxY - minY + 1\n",
    "    gridSize = int(np.max([gridHeight, gridWidth]))\n",
    "    cmap = ListedColormap(['white'] + plt.cm.viridis.colors)\n",
    "\n",
    "    # Initialize the grid with zeros\n",
    "    grid = np.zeros((gridSize, gridSize))\n",
    "\n",
    "    # Plot the polymer on the grid\n",
    "    for i, (x, y) in enumerate(polymer):\n",
    "        grid[int(y - minY), int(x - minX)] = i + 1\n",
    "\n",
    "    # Visualize the grid\n",
    "    plt.figure(figsize=(6, 6))\n",
    "    plt.pcolormesh(grid,  edgecolors='black', linewidth=0.5, cmap=cmap)\n",
    "    plt.colorbar(label='Monomer ID')\n",
    "    plt.xlabel('x-axis')\n",
    "    plt.ylabel('y-axis')\n",
    "    if title != \"\":\n",
    "        plt.title(title, fontsize=15)\n",
    "    plt.show()\n",
    "    \n",
    "\n",
    "def visualizeMultiplePolymers(polymer, ax):\n",
    "    # Calculate the minimum and maximum coordinates of the polymer\n",
    "    minX = int(np.min(polymer[:, 0]))\n",
    "    maxX = int(np.max(polymer[:, 0]))\n",
    "    minY = int(np.min(polymer[:, 1]))\n",
    "    maxY = int(np.max(polymer[:, 1]))\n",
    "\n",
    "    # Calculate grid dimensions based on the polymer coordinates\n",
    "    gridWidth = maxX - minX + 1\n",
    "    gridHeight = maxY - minY + 1\n",
    "    gridSize = int(np.max([gridHeight, gridWidth]))\n",
    "    cmap = ListedColormap(['white'] + plt.cm.viridis.colors)\n",
    "\n",
    "    # Initialize the grid with zeros\n",
    "    grid = np.zeros((gridSize, gridSize))\n",
    "\n",
    "    for i, (x, y) in enumerate(polymer):\n",
    "        grid[int(y - minY), int(x - minX)] = i + 1\n",
    "    \n",
    "    ax.pcolormesh(grid, edgecolors='black', linewidth=0.5, cmap=cmap)\n",
    "    ax.set_xlabel('x-axis')\n",
    "    ax.set_ylabel('y-axis')"
   ]
  },
  {
   "cell_type": "code",
   "execution_count": null,
   "metadata": {},
   "outputs": [],
   "source": []
  },
  {
   "cell_type": "markdown",
   "metadata": {},
   "source": [
    "It is necessary to ensure that a rotation returns a valid polymer. The function isIntact implemented below returns True if the polymer fullfills the following criteria:\n",
    "\n",
    "1. The polymer has $N$ monomers that all have unique coordinates.\n",
    "2. Monomer $i$ s a distance of $1$ to monomer $i-1$, where $i \\in \\left[1,N\\right)$\n",
    "\n",
    "The function returns false elsewise.\n",
    "\n",
    "**Burde den neste teksten stå under implementasjonen?**\n",
    "\n",
    "These two checks are sufficient to check the criteria given in the task description when the polymer is defined using our data structure. The length of a polymer will always be N, as long as the algorithms operating on the polymer do not alter the length. Nevertheless, the first criteria will still ensure that this is the case, as the parameter $N$ of isIntact is the length the polymer should be. If the polymer consists of less than $N$ monomers, it cannot have more than $N$ unique monomers. \n",
    "\n",
    "The unique representation of a monomer is given by the list index of the coordinate representing the monomer.\n",
    "\n",
    "For the final check, we utilize symmetry in distance, namely that the distance between $a$ and $b$ is the distance between b and a. Therefore, when we check if each monomer except the leftmost has a distance of 1 to its left neighbor, we also check that each monomer except the rightmost has a distance of 1 to its right neighbor."
   ]
  },
  {
   "cell_type": "code",
   "execution_count": null,
   "metadata": {},
   "outputs": [],
   "source": [
    "# 1e)\n",
    "\n",
    "def isIntact(polymer, N):\n",
    "    \"\"\"Checks if a polymer is intact\"\"\"\n",
    "    \n",
    "    # Remove potential monomers in identical positions, and check if this shortens the polymer. If so, return false.\n",
    "    uniLength = len(np.unique(polymer, axis=0))\n",
    "\n",
    "    if uniLength != N:\n",
    "        return False\n",
    "\n",
    "    # Check if the distance between each adjacent monomer is 1, i.e. that the polymer chain is continous. If not, return false.\n",
    "    # TODO: Vurder å prøve å fjerne for\n",
    "    for i in range(N-1): \n",
    "        xDist = np.abs(polymer[i+1][0]-polymer[i][0])\n",
    "        yDist = np.abs(polymer[i+1][1]-polymer[i][1])\n",
    "        distance = xDist + yDist\n",
    "        if distance != 1:\n",
    "            return False\n",
    "    return True"
   ]
  },
  {
   "cell_type": "markdown",
   "metadata": {},
   "source": [
    "One way to rotate the polymer is to use the direction where we can find the next monomer from the previous one, and change this clockwisely or counterclockwisely dependent of which direction we want to rotate. The function createDirectionList below is useful when rotating in this way."
   ]
  },
  {
   "cell_type": "code",
   "execution_count": null,
   "metadata": {},
   "outputs": [],
   "source": [
    "#TODO: Skriv om vha. rotasjonsmatrise. Bruk (blant annet) dette som svar i 1h)\n",
    "def createDirectionList(polymer):\n",
    "    \"\"\"Input the part of a polymer that you want to rotate, and find what direction it rotates\"\"\"\n",
    "    \n",
    "    # Create a zero-array that is the length of the polymer part that you want to rotate (minus 1)\n",
    "    dir = np.zeros(len(polymer)-1)\n",
    "    \n",
    "    for i in range(len(polymer)-1):\n",
    "        d = polymer[i+1] - polymer[i]\n",
    "        # Right\n",
    "        if d[0] == 1 and d[1] == 0:\n",
    "            dir[i] = 0\n",
    "        # Up\n",
    "        elif d[0] == 0 and d[1] == 1:\n",
    "            dir[i] = 1\n",
    "        # Left\n",
    "        elif d[0] == -1 and d[1] == 0:\n",
    "            dir[i] = 2\n",
    "        # Down\n",
    "        elif d[0] == 0 and d[1] == -1:\n",
    "            dir[i] = 3\n",
    "        else:\n",
    "            raise ValueError(\"Not valid distance\")\n",
    "    return dir\n"
   ]
  },
  {
   "cell_type": "markdown",
   "metadata": {},
   "source": [
    "The algorithm for the rotation itself can be found below. The asymptotic runtime of the algorithm is $O(n)$. It is still somewhat slow, as "
   ]
  },
  {
   "cell_type": "code",
   "execution_count": null,
   "metadata": {},
   "outputs": [],
   "source": [
    "def rotatePolymer(polymer, rotationOrigin, clockwise=True):\n",
    "    \"\"\"Inputs a polymer, a point, and an optional boolean, and rotates the polymer around that point\n",
    "    Rotates clockwise if clockwise is true or not given, counterclockwise if false.\"\"\"\n",
    "    \n",
    "    rotatingBase = -1 \n",
    "    polymer = np.copy(polymer)\n",
    "    N = len(polymer)\n",
    "\n",
    "    # Find index of monomer to rotate around\n",
    "    for i in range(N):\n",
    "        if np.array_equal(polymer[i], rotationOrigin):\n",
    "            rotatingBase = i\n",
    "            break\n",
    "    \n",
    "    # Find which side to rotate about. \n",
    "    rotateLeftPart = rotatingBase <= N//2\n",
    "\n",
    "    directionList = createDirectionList(polymer)\n",
    "\n",
    "    # Change the rotational direction in direction list according to rotating direction and which part to rotate.\n",
    "    if rotateLeftPart:\n",
    "        if clockwise:\n",
    "            directionList[:rotatingBase] = (directionList[:rotatingBase] -1) % 4\n",
    "        else:\n",
    "            directionList[:rotatingBase] = (directionList[:rotatingBase] +1) % 4\n",
    "    else:\n",
    "        if clockwise:\n",
    "            directionList[rotatingBase:] = (directionList[rotatingBase:] +1) % 4\n",
    "        else:\n",
    "            directionList[rotatingBase:] = (directionList[rotatingBase:] -1) % 4\n",
    "\n",
    "    # Place the end of the polymer iteratively\n",
    "    if rotateLeftPart:\n",
    "        for i in range(rotatingBase - 1, -1, -1):\n",
    "            polymer[i] = polymer[i+1]\n",
    "            if directionList[i] == 0: # Right\n",
    "                polymer[i][0] -= 1\n",
    "            if directionList[i] == 1: # up\n",
    "                polymer[i][1] -= 1\n",
    "            if directionList[i] == 2: # left\n",
    "                polymer[i][0] += 1\n",
    "            if directionList[i] == 3: # down\n",
    "                polymer[i][1] += 1\n",
    "    else:\n",
    "        for i in range(rotatingBase + 1, N):\n",
    "            polymer[i] = polymer[i - 1]\n",
    "            if directionList[i - 1] == 0: # Right\n",
    "                polymer[i][0] += 1\n",
    "            if directionList[i - 1] == 1: # up\n",
    "                polymer[i][1] += 1\n",
    "            if directionList[i - 1] == 2: # left\n",
    "                polymer[i][0] -= 1\n",
    "            if directionList[i - 1] == 3: # down\n",
    "                polymer[i][1] -= 1\n",
    "    return polymer"
   ]
  },
  {
   "cell_type": "markdown",
   "metadata": {},
   "source": []
  },
  {
   "cell_type": "code",
   "execution_count": null,
   "metadata": {},
   "outputs": [],
   "source": [
    "# Bruk i 1 h)\n",
    "\n",
    "def rotatePolymer(polymer, rotationOrigin, clockwise = True):\n",
    "    \"\"\"Inputs a polymer and rotates the short end in the direction specified around rotation origin.\"\"\"\n",
    "\n",
    "    # Create a clockwise- or counterclockwise-rotation matrix, depending on the input.\n",
    "    rotationMatrix =  np.array([[0, 1], [-1, 0]]) if clockwise else np.array([[0, -1], [1, 0]])\n",
    "\n",
    "    # Find the index of the monomer you want the polymer to rotate about\n",
    "    rotationCenterIdx = np.where((polymer == rotationOrigin).all(axis=1))[0][0]\n",
    "\n",
    "    # Move the rotation center to the origin before rotating\n",
    "    translatedPolymer = polymer - rotationOrigin\n",
    "\n",
    "    # Make a copy of translatedPolymer to ensure no loss of data due to pass-by-reference used in np.arrays\n",
    "    rotatedPolymer = np.copy(translatedPolymer)\n",
    "\n",
    "    # Check on what side of the polymer the monomer you rotate about is, so the shortest end always is the one that is rotated.\n",
    "    if rotationCenterIdx <= len(polymer)//2:\n",
    "        rotatedPolymer[:rotationCenterIdx] = rotatedPolymer[:rotationCenterIdx] @ rotationMatrix\n",
    "    else:\n",
    "        rotatedPolymer[rotationCenterIdx + 1:] = rotatedPolymer[rotationCenterIdx + 1:] @ rotationMatrix\n",
    "    return rotatedPolymer + rotationOrigin"
   ]
  },
  {
   "cell_type": "markdown",
   "metadata": {},
   "source": []
  },
  {
   "cell_type": "code",
   "execution_count": null,
   "metadata": {},
   "outputs": [],
   "source": [
    "# 1g)\n",
    "\n",
    "def testRotate(N, N_s):\n",
    "    \"\"\"Inputs the length of a polymer and number of attempted rotations, and outputs the last position and number of successful rotations\"\"\"\n",
    "    \n",
    "    # Create a polymer with given length, aswell as an empty array and a counter for number of successfull rotations\n",
    "    polymer = createPolymer(N)\n",
    "    twistedPolymer = np.array([])\n",
    "    successRotations = 0\n",
    "\n",
    "    # Twist the given polymer N_s times\n",
    "    for i in range(N_s):\n",
    "\n",
    "        # Find a random monomer to rotate about, and a random direction, either clockwise or counterclockwise\n",
    "        rotateMonomer = np.random.randint(1, N+1)\n",
    "        rotateMonomer = polymer[rotateMonomer - 1]\n",
    "        clockwise = np.random.randint(0,2) == 1\n",
    "\n",
    "        # Create a new twisted polymer, depending on the random monomer and direction given above\n",
    "        twistedPolymer = rotatePolymer(polymer, rotateMonomer, clockwise)\n",
    "\n",
    "        # Check if the twisted polymer is intact, and if so, this is the new polymer, add 1 to the counter, and use this polymer for the remaining iterations\n",
    "        # If not, the next iteration will use the last valid polymer\n",
    "        if isIntact(twistedPolymer, N) == True:\n",
    "            successRotations += 1 \n",
    "            polymer = np.copy(twistedPolymer)\n",
    "    \n",
    "    return polymer, successRotations\n",
    "\n",
    "# Create two test-rotations for a polymer that is N = 15 monomers long, one with N_s = 4 and the other with N_s = 1000\n",
    "polymer4, successes4 = testRotate(15, 4)\n",
    "polymer1000, sucesses1000 = testRotate(15, 1000)\n",
    "\n",
    "polymerArray = np.array([polymer4, polymer1000])\n",
    "\n",
    "# Visualize the end position of the two tests\n",
    "fig, axs = plt.subplots(1, len(polymerArray), figsize=(10, 5))\n",
    "\n",
    "# Plot each run on a separate subplot\n",
    "for i, polymer in enumerate(polymerArray):\n",
    "    visualizeMultiplePolymers(polymer, axs[i])\n",
    "\n",
    "axs[0].set_title(\"\"\"Figure 1\n",
    "            Polymer, length 15, 4 attempted rotations\"\"\")\n",
    "axs[1].set_title(\"\"\"Figure 2\n",
    "            Polymer, length 15, 1000 attempted rotations\"\"\")\n",
    "plt.tight_layout()\n",
    "plt.show()\n"
   ]
  },
  {
   "cell_type": "markdown",
   "metadata": {},
   "source": []
  },
  {
   "cell_type": "code",
   "execution_count": null,
   "metadata": {},
   "outputs": [],
   "source": [
    "# TODO: Sett inn 1h her"
   ]
  },
  {
   "cell_type": "markdown",
   "metadata": {},
   "source": []
  },
  {
   "cell_type": "code",
   "execution_count": null,
   "metadata": {},
   "outputs": [],
   "source": [
    "#1i)\n",
    "\n",
    "def successRot(N_s):\n",
    "    \"\"\"Inputs a number of attempted rotations, and returns number of successful rotations\"\"\"\n",
    "\n",
    "    # Create an array for N ranging from 10 to 600, and a zero-array with the length of this array\n",
    "    N = np.arange(10, 600, 20)\n",
    "    successRate = np.zeros(len(N))\n",
    "\n",
    "    # Create a for-loop for increasing N-values, where in each iteration the number of successful rotations are returned as a percentage,\n",
    "    # and the percentage is appended to an array, and return this array\n",
    "    for i in range(len(N)):\n",
    "        successes = testRotate(N[i], N_s)[1]\n",
    "        percentage = successes * 100/N_s\n",
    "        successRate[i] = percentage\n",
    "\n",
    "    return N, successRate"
   ]
  },
  {
   "cell_type": "markdown",
   "metadata": {},
   "source": []
  },
  {
   "cell_type": "code",
   "execution_count": null,
   "metadata": {},
   "outputs": [],
   "source": [
    "N, successRate500 = successRot(500)\n",
    "N, successRate1500 = successRot(1500)\n",
    "N, successRate4000 = successRot(4000)"
   ]
  },
  {
   "cell_type": "markdown",
   "metadata": {},
   "source": []
  },
  {
   "cell_type": "code",
   "execution_count": null,
   "metadata": {},
   "outputs": [],
   "source": [
    "# Perform curve fitting\n",
    "initialGuess = (1, 0.01, 1)\n",
    "\n",
    "def func(x, a, b, c):\n",
    "    return a * np.exp(-b * x) + c\n",
    "\n",
    "popt1, pcov1 = curve_fit(func, N, successRate500, p0=initialGuess)\n",
    "popt2, pcov2 = curve_fit(func, N, successRate1500, p0=initialGuess)\n",
    "popt3, pcov3 = curve_fit(func, N, successRate4000, p0=initialGuess)\n",
    "\n",
    "# Extract optimized parameters\n",
    "aFit, bFit, cFit = popt1\n",
    "d, e, f = popt2\n",
    "g, h, i = popt3\n",
    "\n",
    "# Generate y values using the fitted parameters\n",
    "yPred500 = func(N, aFit, bFit, cFit)\n",
    "yPred1500 = func(N, d, e, f)\n",
    "yPred4000 = func(N, *popt3)\n",
    "\n",
    "# Plot the original data and the fitted curve\n",
    "plt.figure(figsize=(7,6))\n",
    "plt.scatter(N, successRate500, marker=\"x\", alpha=0.5, label='Original Data, N_s = 500')\n",
    "plt.scatter(N, successRate1500, marker=\"x\", alpha=0.5, label='Original Data, N_s = 1500')\n",
    "plt.scatter(N, successRate4000, marker=\"x\", alpha=0.5, label='Original Data, N_s = 4000')\n",
    "plt.plot(N, yPred500, 'b-', label='Fitted Curve, N_s = 500')\n",
    "plt.plot(N, yPred1500, 'r-', label='Fitted Curve, N_s = 1500')\n",
    "plt.plot(N, yPred4000, 'c-', label='Fitted Curve, N_s = 4000')\n",
    "plt.xlabel('Polymer length')\n",
    "plt.ylabel('Rate of successful rotations (%)')\n",
    "plt.title('Figure 3', fontsize=15)\n",
    "plt.legend()\n",
    "plt.show()"
   ]
  },
  {
   "cell_type": "markdown",
   "metadata": {},
   "source": []
  },
  {
   "cell_type": "code",
   "execution_count": null,
   "metadata": {},
   "outputs": [],
   "source": [
    "# 1j)\n",
    "\n",
    "def calculateEnergy(polymer, V):\n",
    "    \"\"\"Input a polymer and an interaction energy-matrix, and return the total energy of the polymer\"\"\"\n",
    "\n",
    "    # Create a bool, b, that returns true if two monomers are next to eachother\n",
    "    b = cdist(polymer, polymer, 'cityblock') == 1\n",
    "\n",
    "    # Create a new matrix by multiplying V and b, that contains the interaction energy values from V where two monomers are next to eachother, i.e. where b is true\n",
    "    energyMatrix = np.multiply(V,b)\n",
    "\n",
    "    # Summate the individual energy-interactions, and return half of the sum\n",
    "    return np.sum(energyMatrix)/2\n",
    "\n",
    "# Create an interaction energy-matrix that is -1 everywhere but the three central diagonals, which contain zeros\n",
    "V = np.zeros([len(polymer1000),len(polymer1000)])\n",
    "V[np.tril_indices_from(V,-2)] = -1\n",
    "V[np.triu_indices_from(V,2)] = -1\n",
    "\n",
    "print(f'Energy for polymer of length 15 with 4 tried rotations: {calculateEnergy(polymer4,V)}')\n",
    "print(f'Energy for polymer of length 15 with 1000 tried rotations: {calculateEnergy(polymer1000,V)}') "
   ]
  },
  {
   "cell_type": "markdown",
   "metadata": {},
   "source": []
  },
  {
   "cell_type": "code",
   "execution_count": null,
   "metadata": {},
   "outputs": [],
   "source": [
    "#2a)\n",
    "\n",
    "def metropolis(polymer, N_s, V, T):\n",
    "    \"\"\"Inputs a polymer, number of attempted rotations, an interaction-energy matrix and temperature,\n",
    "    and returns a twisted polymer and an array containing the energy of each twisted polymer\"\"\"\n",
    "\n",
    "    beta = 1/(k_B*T)\n",
    "    \n",
    "    # Initialize required values for N, i and the energy, and an array for E\n",
    "    N = len(polymer)\n",
    "    energyArray = np.zeros(N_s)\n",
    "    E = calculateEnergy(polymer, V)\n",
    "    energyArray[0] = E\n",
    "    i = 0\n",
    "\n",
    "    while i < N_s:\n",
    "        # Find the index of a random monomer, excluding the end-monomers, and use this as the coordinates to rotate about \n",
    "        xRand = np.random.randint(1, N-1)\n",
    "        rotationOrigin = polymer[xRand]\n",
    "\n",
    "        # Find a random direction, and use this and the rotation origin to create a twisted polymer\n",
    "        clockwise = np.random.randint(0,2) == 1\n",
    "        twistedPolymer = rotatePolymer(polymer, rotationOrigin, clockwise)\n",
    "\n",
    "        # Check if the twisted polymer is intact, and if so calculate it's energy\n",
    "        if isIntact(twistedPolymer, N):\n",
    "            newE = calculateEnergy(twistedPolymer, V)\n",
    "\n",
    "            # If the energy of this new polymer is lower than for the previous polymer, \n",
    "            # or the probability of a random rotation is higher than a random probability, \n",
    "            # save this polymer as the new polymer, with correlating energy. Save this in the energy array, and increase the increment\n",
    "            if newE < E or np.random.uniform() < np.exp(-beta*(newE - E)):\n",
    "                polymer = np.copy(twistedPolymer)\n",
    "                E = newE\n",
    "            energyArray[i] = E\n",
    "            i += 1\n",
    "            \n",
    "    return polymer, energyArray"
   ]
  },
  {
   "cell_type": "markdown",
   "metadata": {},
   "source": []
  },
  {
   "cell_type": "code",
   "execution_count": null,
   "metadata": {},
   "outputs": [],
   "source": [
    "# 2b\n",
    "\n",
    "N = 30\n",
    "polymer = createPolymer(N)\n",
    "N_s = 5000\n",
    "nonzeroE = -4e-21\n",
    "\n",
    "V = np.zeros([N, N])\n",
    "V[np.tril_indices_from(V,-2)] = nonzeroE\n",
    "V[np.triu_indices_from(V,2)] = nonzeroE\n",
    "\n",
    "lowT = 75\n",
    "highT = 343\n",
    "\n",
    "lowTPolymer, lowTEnergyArray = metropolis(polymer, N_s, V, lowT)\n",
    "highTPolymer, highTEnergyArray = metropolis(polymer, N_s, V, highT)\n",
    "\n",
    "t = np.arange(0,len(lowTEnergyArray))\n",
    "\n",
    "plt.figure(figsize=(6,6))\n",
    "plt.title(\"Figure 4\", fontsize=15)\n",
    "plt.xlabel(\"Rotations (N_s)\", fontsize=15)\n",
    "plt.ylabel(\"Energy [J]\", fontsize=15)\n",
    "plt.grid(color='black', linestyle=':', linewidth=1, alpha=0.2)\n",
    "plt.plot(t[::50],lowTEnergyArray[::50], label=f\"Low Temperature ({lowT} K)\")\n",
    "plt.plot(t[::50],highTEnergyArray[::50], label=f\"High Temperature ({highT} K)\")\n",
    "plt.legend(fontsize=13)\n",
    "plt.show()"
   ]
  },
  {
   "cell_type": "markdown",
   "metadata": {},
   "source": [
    "### 2b)\n",
    "The simulation of the polymer at lower temperatures results in the lowest energy observed throughout the simulation. This is attributable to the heightened probability of energy-efficient rotations for a polymer in a lower temperature environment. Despite the system's inclination to minimize energy, thermal fluctuations can still induce energy-inefficient rotations. As temperature increases, the likelihood of such fluctuations rises. \n",
    "\n",
    "As a result, the polymer at lower temperatures quickly settles into a local energy minimum after a few rotations. In this state, there are fewer opportunities for energy-efficient rotations. Combined with the low likelihood of energy-inefficient rotations in a low-temperature environment, this results in fewer overall rotations for the polymer.\n",
    "\n",
    "*Insert energy minima theory?* "
   ]
  },
  {
   "cell_type": "code",
   "execution_count": null,
   "metadata": {},
   "outputs": [],
   "source": [
    "# 2c\n",
    "polymerData = np.array([lowTPolymer, highTPolymer])\n",
    "fig, axs = plt.subplots(1, len(polymerData), figsize=(10, 5))\n",
    "for i, polymer in enumerate(polymerData):\n",
    "    visualizeMultiplePolymers(polymer, axs[i])\n",
    "\n",
    "plt.tight_layout()\n",
    "axs[0].set_title(\"\"\"Figure 5\n",
    "                 Polymer, length 15, 5000 attempted \n",
    "                 rotations, Temperature = 75K\"\"\")\n",
    "axs[1].set_title(\"\"\"Figure 6\n",
    "                 Polymer, length 15, 5000 attempted\n",
    "                rotations, Temperature = 343K\"\"\")\n",
    "plt.show()"
   ]
  },
  {
   "cell_type": "markdown",
   "metadata": {},
   "source": [
    "### 2c)\n",
    "The figures above illustrate that the polymer at lower temperatures exhibits more folding compared to the polymer at higher temperatures. This observation aligns with the tendency for polymers at higher temperatures to undergo energy-inefficient rotations. A polymer undergoing solely energy-efficient rotations will gradually adopt a ball-like structure, consistent with the curled appearance observed in these figure to the left."
   ]
  },
  {
   "cell_type": "code",
   "execution_count": null,
   "metadata": {},
   "outputs": [],
   "source": [
    "# 2d\n",
    "#TODO: Denne matrisen stemmer ikke, diagonal != 0. Den er også lite interessant.\n",
    "\n",
    "unevenV = np.zeros([N, N])\n",
    "unevenV[0][-1] = -100e-20\n",
    "unevenV[-1][0] = -100e-20\n",
    "\n",
    "for i in range(1, len(polymer//2 + 1)):\n",
    "    unevenV[i:-i, i:-i] *=10\n",
    "\n",
    "unevenPolymer, unevenE = metropolis(polymer, 10000, unevenV, 150)\n",
    "\n",
    "visualizePolymer(unevenPolymer)"
   ]
  },
  {
   "cell_type": "markdown",
   "metadata": {},
   "source": [
    "### 2d)\n",
    "For our $V$ matrix, we have chosen to set all elements to zero except for the lower left and upper right corners, which we have set to $-100 \\times 10^{-12} , \\text{J}$. The purpose of this energy distribution is to facilitate the binding of the polymer ends. This interaction between the two ends represents the only energy-efficient folding of the polymer in this configuration, leading to their eventual binding."
   ]
  },
  {
   "cell_type": "code",
   "execution_count": null,
   "metadata": {},
   "outputs": [],
   "source": [
    "# 2e)\n",
    "\n",
    "Temperature = np.arange(10,1000,30)\n",
    "\n",
    "def test(N_s):\n",
    "    energyArray = np.zeros([33, N_s - 1000])\n",
    "\n",
    "    for i in range(len(Temperature)):\n",
    "        energyArray[i] = metropolis(polymer, N_s, V, Temperature[i])[1][1000:]\n",
    "\n",
    "    return energyArray"
   ]
  },
  {
   "cell_type": "markdown",
   "metadata": {},
   "source": []
  },
  {
   "cell_type": "code",
   "execution_count": null,
   "metadata": {},
   "outputs": [],
   "source": [
    "runNs1500 = test(1500)\n",
    "runNs3000 = test(3000)\n",
    "runNs6000 = test(6000)"
   ]
  },
  {
   "cell_type": "markdown",
   "metadata": {},
   "source": []
  },
  {
   "cell_type": "code",
   "execution_count": null,
   "metadata": {},
   "outputs": [],
   "source": [
    "meanRunNs1500 = np.mean(runNs1500, axis=1)\n",
    "stdRunNs1500 = np.std(runNs1500, ddof=1, axis=1)\n",
    "\n",
    "meanRunNs3000 = np.mean(runNs3000, axis=1)\n",
    "stdRunNs3000 = np.std(runNs3000, ddof=1, axis=1)\n",
    "\n",
    "meanRunNs6000 = np.mean(runNs6000, axis=1)\n",
    "stdRunNs6000 = np.std(runNs6000, ddof=1, axis=1)\n",
    "\n",
    "# Create figure and axes for subplots\n",
    "fig, axs = plt.subplots(1, 3, figsize=(15, 5))  # 1 row, 3 columns\n",
    "\n",
    "# Plot data on the first subplot\n",
    "axs[0].errorbar(Temperature, meanRunNs1500, yerr=stdRunNs1500, fmt='-', capsize=3)\n",
    "axs[0].plot(Temperature, meanRunNs1500)\n",
    "axs[0].grid(color='black', linestyle=':', linewidth=1, alpha=0.2)\n",
    "axs[0].set_xlabel(\"Temperature [K]\", fontsize=15)\n",
    "axs[0].set_ylabel(\"$\\\\langle E \\\\rangle$ [j]\", fontsize=15)\n",
    "axs[0].set_title('N_s = 1500', fontsize=15)\n",
    "\n",
    "# Plot data on the second subplot\n",
    "axs[1].errorbar(Temperature, meanRunNs3000, yerr=stdRunNs3000, fmt='-', capsize=3)\n",
    "axs[1].plot(Temperature, meanRunNs3000)\n",
    "axs[1].grid(color='black', linestyle=':', linewidth=1, alpha=0.2)\n",
    "axs[1].set_xlabel(\"Temperature [K]\", fontsize=15)\n",
    "axs[1].set_ylabel(\"$\\\\langle E \\\\rangle$ [j]\", fontsize=15)\n",
    "axs[1].set_title(\"N_s = 3000\", fontsize=15)\n",
    "\n",
    "# Plot data on the third subplot\n",
    "axs[2].errorbar(Temperature, meanRunNs6000, yerr=stdRunNs6000, fmt='-', capsize=3)\n",
    "axs[2].plot(Temperature, meanRunNs6000)\n",
    "axs[2].grid(color='black', linestyle=':', linewidth=1, alpha=0.2)\n",
    "axs[2].set_xlabel(\"Temperature [K]\", fontsize=15)\n",
    "axs[2].set_ylabel(\"$\\\\langle E \\\\rangle$ [j]\", fontsize=15)\n",
    "axs[2].set_title('N_s = 6000', fontsize=15)\n",
    "\n",
    "# Adjust layout\n",
    "plt.tight_layout()\n",
    "\n",
    "# Show the plots\n",
    "plt.show()"
   ]
  },
  {
   "cell_type": "markdown",
   "metadata": {},
   "source": [
    "### 2e)\n",
    "*Notat:*\n",
    "- ser at grafen blir glattere ved et høyere antall rotasjoner - > gjennomsnittlig energi stiger mer stabilt ved høyt rotasjonstall\n",
    "- ser at standardavviket blir høyere ved høyere temperatur - > gir mening, polymeren gjør flere ugunstige rotasjoner ved høyere temperatur som vil resultere i store energihopp, som resulterer i stort standardavvik fra gjennomsnittet.\n",
    "\n",
    "Observing the plot, it becomes evident that the magnitude of the mean energy decreases as temperatures rise. This observation aligns with the findings presented in \\ref{2b}. Additionally, an increase in temperature corresponds to an escalation in the magnitude of the standard deviation. This correspondence is consistent with the observations in \\ref{2b}, where the polymer's energy exhibits considerable sporadic fluctuations at higher temperatures. Consequently, the standard deviation appears significantly larger in comparison to the mean energy, as depicted in the plot.\n",
    "\n",
    "Both the mean energy, and the standard deviation is clearly temperature dependant? "
   ]
  },
  {
   "cell_type": "code",
   "execution_count": null,
   "metadata": {},
   "outputs": [],
   "source": [
    "# 2f\n",
    "\n",
    "T = 70 #K\n",
    "N_s = 2000\n",
    "\n",
    "def EnergyConstantT(T, N, N_s, V):\n",
    "    iArr = np.arange(0, N_s)\n",
    "    plt.figure(figsize=(24, 12))\n",
    "    plt.xticks(fontsize=20)\n",
    "    plt.yticks(fontsize=20)\n",
    "    plt.xlabel(\"Number of rotations [t]\", fontsize=25)\n",
    "    plt.ylabel(\"Energi per step [E(t)]\", fontsize=25)\n",
    "    plt.grid(color='black', linestyle=':', linewidth=1, alpha=0.2)\n",
    "    plt.title(f\"\"\"Figure 9\n",
    "              Energy of 10 metropolissimulations with constant temperature {T} K\"\"\", fontsize=30)\n",
    "    for i in range(1, 11):\n",
    "        polymer = createPolymer(N)\n",
    "        metro = metropolis(polymer, N_s, V, T)\n",
    "        plt.plot(iArr, metro[1], label = f\"Simulation nr {i}\")\n",
    "    plt.legend(fontsize=20)\n",
    "\n",
    "EnergyConstantT(T, N, N_s, V)"
   ]
  },
  {
   "cell_type": "markdown",
   "metadata": {},
   "source": [
    "### 2f)\n",
    "The plot illustrates that polymers at lower temperatures swiftly converge to a rotation that positions them within a local energy minimum. Notably, the majority of polymers reach their initial local minima within the first 0-100 rotations. Subsequently, once situated within an energy minimum, the polymer's available energy-efficient rotation possibilities become limited. Consequently, the polymer refrains from executing rotations until an energy-efficient option is identified. However, occasional deviations from this behavior occur, characterized by energy-inefficient rotations, primarily attributed to thermal fluctuations as discussed in \\ref{2b}."
   ]
  },
  {
   "cell_type": "markdown",
   "metadata": {},
   "source": [
    "### 2g)\n",
    "Here we ..."
   ]
  },
  {
   "cell_type": "code",
   "execution_count": null,
   "metadata": {},
   "outputs": [],
   "source": [
    "# 2g\n",
    "\n",
    "def getEuclideanDistance(polymer):\n",
    "    return np.max(cdist(polymer, polymer, 'euclid'))\n",
    "\n",
    "def metropolisWithD(polymer, N_s, V, T):\n",
    "    beta = 1/(k_B*T)\n",
    "    N = len(polymer)\n",
    "    energyArray = np.zeros(N_s)\n",
    "    dArr = np.zeros(N_s)\n",
    "    E = calculateEnergy(polymer, V)\n",
    "    energyArray[0] = E\n",
    "    i = 0\n",
    "    while i < N_s:\n",
    "        xRand = np.random.randint(1, len(polymer))\n",
    "        rotationOrigin = polymer[xRand]\n",
    "        clockwise = bool(np.random.randint(0,2))\n",
    "        twistedPolymer = rotatePolymer(polymer,rotationOrigin, clockwise)\n",
    "        if isIntact(twistedPolymer, N):\n",
    "            newE = calculateEnergy(twistedPolymer, V)\n",
    "            if newE < E or np.random.uniform() < np.exp(-beta*(newE - E)):\n",
    "                polymer = np.copy(twistedPolymer)\n",
    "                E = newE\n",
    "            energyArray[i] = E\n",
    "            dArr[i] = getEuclideanDistance(polymer)\n",
    "            i += 1\n",
    "\n",
    "    return polymer, energyArray, dArr"
   ]
  },
  {
   "cell_type": "markdown",
   "metadata": {},
   "source": [
    "To create the random symmetrical matrix, we..."
   ]
  },
  {
   "cell_type": "code",
   "execution_count": null,
   "metadata": {},
   "outputs": [],
   "source": [
    "# Define the interval\n",
    "lowerBound = -6e-21\n",
    "upperBound = -2e-21\n",
    "\n",
    "# Generate a random upper triangular matrix within the specified interval\n",
    "randomMatrix = (upperBound - lowerBound) * np.random.rand(25, 25) + lowerBound\n",
    "upperTriangular = np.triu(randomMatrix, 1)\n",
    "\n",
    "# Construct the symmetrical matrix by copying the upper triangular part to the lower triangular part\n",
    "symmetricalMatrix = upperTriangular + upperTriangular.T\n",
    "\n",
    "# Set the diagonal elements and the diagonals on each side of the main diagonal to zero\n",
    "for i in range(25):\n",
    "    symmetricalMatrix[i, i] = 0\n",
    "    if i > 0:\n",
    "        symmetricalMatrix[i, i-1] = 0\n",
    "        symmetricalMatrix[i-1, i] = 0\n"
   ]
  },
  {
   "cell_type": "markdown",
   "metadata": {},
   "source": [
    "Plotting the mean diameter as a funtion of the temperature changes."
   ]
  },
  {
   "cell_type": "code",
   "execution_count": null,
   "metadata": {},
   "outputs": [],
   "source": [
    "dArray = np.zeros([33, 1000])\n",
    "eArray = np.zeros([33, 1000])\n",
    "\n",
    "for i in range(len(Temperature)):\n",
    "    dArray[i] = metropolisWithD(polymer, 10000, symmetricalMatrix, Temperature[i])[2][1000:]\n",
    "    eArray[i] = metropolisWithD(polymer, 10000, symmetricalMatrix, Temperature[i])[1][1000:]\n",

    "\n",
    "\n",
    "meansDArray = np.array([np.mean(subarray) for subarray in dArray])\n",
    "meansEArray = np.array([np.mean(subarray) for subarray in eArray])"
   ]
  },
  {
   "cell_type": "code",
   "execution_count": null,
   "metadata": {},
   "outputs": [],
   "source": [
    "plt.plot(Temperature, meansDArray, '-', label='Mean diameter', color=\"darkslateblue\")\n",
    "plt.grid(color='black', linestyle=':', linewidth=1, alpha=0.2)\n",
    "plt.ylabel('$\\\\langle d \\\\rangle (T)$', fontsize=13, color='darkslateblue')\n",
    "plt.xlabel('Temperature', fontsize=13)\n",
    "plt.tick_params(axis='y', labelcolor='darkslateblue')\n",
    "plt.legend(loc='center right')\n",
    "plt.title('Figure 10', fontsize=15)\n",
    "\n",
    "plt.show()"
   ]
  },
  {
   "cell_type": "markdown",
   "metadata": {},
   "source": [
    "*Explaining the figure...*\n",
    "The more interactions between the polymers, the smaller the mean diameter is. This is because when we have many interactions between the monomers, the polymer lays itself in a curled-up-snake-shape, as seen in figure1."
   ]
  },
  {
   "cell_type": "code",
   "execution_count": null,
   "metadata": {},
   "outputs": [],
   "source": [
    "# Create figure and axes\n",
    "fig, ax1 = plt.subplots()\n",
    "\n",
    "# Plot on the first axes\n",
    "ax1.plot(Temperature, np.abs(meansEArray), '-', label='Mean energy', color=\"crimson\")\n",
    "ax1.grid(color='black', linestyle=':', linewidth=1, alpha=0.2)\n",
    "ax1.set_xlabel('Temperature', fontsize=13)\n",
    "ax1.set_ylabel('$|\\\\langle E \\\\rangle| [J]$', color='crimson', fontsize=13)\n",
    "ax1.tick_params(axis='y', labelcolor='crimson')\n",
    "ax1.legend(loc='upper center')\n",
    "ax1.set_title('Figure 11', fontsize=15)\n",
    "\n",
    "# Create a second axes that shares the same x-axis\n",
    "ax2 = ax1.twinx()\n",
    "ax2.plot(Temperature, meansDArray, '-', label='Mean diameter', color=\"darkslateblue\")\n",
    "ax2.set_ylabel('$\\\\langle d \\\\rangle (T)$', color='darkslateblue', fontsize=13)\n",
    "ax2.tick_params(axis='y', labelcolor='darkslateblue')\n",
    "ax2.legend(loc='center right')\n",
    "\n",
    "plt.show()"
   ]
  },
  {
   "cell_type": "markdown",
   "metadata": {},
   "source": [
    "In this visualization, we have depicted the magnitude of the mean energy and the mean diameter on a shared plot, employing distinct scales on the y-axes to effectively present both variables. This approach facilitates a comprehensive comparison of the trends exhibited by the mean energy and mean diameter, despite their potentially disparate numerical ranges.  It is observed that the energy tends to increase as the diameter decreases. This correlation aligns with the understanding that more interactions between the monomers lead to a smaller mean diameter and a larger mean energy."
   ]
  },
  {
   "cell_type": "code",
   "execution_count": null,
   "metadata": {},
   "outputs": [],
   "source": [
    "def metropolisWithDReverseT(V, N_s, T, polymer):\n",
    "    Temperature = np.arange(T, 10, -30)\n",
    "    polymer = np.copy(polymer)\n",
    "    dArr = np.zeros(len(Temperature))\n",
    "    for i in range(len(Temperature)):\n",
    "        polymer, E, d = metropolisWithD(polymer, N_s, V, Temperature[i])\n",
    "        dArr[i] = np.mean(d)\n",
    "    return dArr, Temperature\n",
    "\n",
    "dArr, T = metropolisWithDReverseT(V, N_s, 1000, polymer)"
   ]
  },
  {
   "cell_type": "markdown",
   "metadata": {},
   "source": []
  },
  {
   "cell_type": "code",
   "execution_count": null,
   "metadata": {},
   "outputs": [],
   "source": [
    "def func2(x,a,b,c):\n",
    "    return 1-a*np.exp(-b*x)+c\n",
    "#scatter eller lineplot? Spør på veiledning\n",
    "initialGuess = (1, 0.01, 1)\n",
    "\n",
    "popt3, pcov3 = curve_fit(func2, T, dArr, p0=initialGuess)\n",
    "aFit, bFit, cFit = popt3\n",
    "predictedY = func2(T, aFit,bFit,cFit)\n",
    "\n",
    "plt.plot(T, dArr, alpha=0.7, color=\"darkorange\", label=\"Original Data\")\n",
    "plt.plot(T, predictedY, '-', color=\"seagreen\", label=\"Fitted Curve\")\n",
    "plt.grid(color='black', linestyle=':', linewidth=1, alpha=0.2)\n",
    "plt.xlabel('Temperature [K]')\n",
    "plt.ylabel('$\\\\langle d \\\\rangle (T)$')\n",
    "plt.title(\"Figure 12\", fontsize=15)\n",
    "plt.legend()\n",
    "plt.show()"
   ]
  },
  {
   "cell_type": "markdown",
   "metadata": {},
   "source": [
    "### 2h)\n"
   ]
  },
  {
   "cell_type": "code",
   "execution_count": null,
   "metadata": {},
   "outputs": [],
   "source": []
  }
 ],
 "metadata": {
  "kernelspec": {
   "display_name": "Python 3",
   "language": "python",
   "name": "python3"
  },
  "language_info": {
   "codemirror_mode": {
    "name": "ipython",
    "version": 3
   },
   "file_extension": ".py",
   "mimetype": "text/x-python",
   "name": "python",
   "nbconvert_exporter": "python",
   "pygments_lexer": "ipython3",
   "version": "3.10.9"
  }
 },
 "nbformat": 4,
 "nbformat_minor": 2
}
