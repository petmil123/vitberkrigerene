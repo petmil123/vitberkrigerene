{
 "cells": [
  {
   "cell_type": "markdown",
   "metadata": {},
   "source": [
    "# Polymers"
   ]
  },
  {
   "cell_type": "markdown",
   "metadata": {},
   "source": [
    "1 a)"
   ]
  },
  {
   "cell_type": "markdown",
   "metadata": {},
   "source": [
    "Ved å lagre informasjonen i et N x 2 array, vil kjøretiden minke betraktelig. Siden vi bare er interresert i posisjonen til de N monomerene, og ikke hele gitteret, vil dette være den beste framgangsmåten. Vi oppretter et array med dimensjon N x 2, der hver rad inneholder informasjon om posisjonen til en monomer i polymeren. Den første kolonnen inneholder x-koordinaten til polymeren, og den andre y-koordinaten. "
   ]
  },
  {
   "cell_type": "code",
   "execution_count": 44,
   "metadata": {},
   "outputs": [],
   "source": [
    "# Importing libraries\n",
    "import numpy as np\n",
    "import matplotlib.pyplot as plt"
   ]
  },
  {
   "cell_type": "code",
   "execution_count": 45,
   "metadata": {},
   "outputs": [],
   "source": [
    "# 1b)Petar lukter\n",
    "\n",
    "def createPolymer(n):\n",
    "    \"\"\"Inputs a number n and returns a horizontal polymer\"\"\"\n",
    "    polymer = np.zeros((n,2))\n",
    "    polymer[:,0] = np.linspace(0,n-1,n)\n",
    "    polymer[:,1] = n//2\n",
    "    return polymer"
   ]
  },
  {
   "cell_type": "markdown",
   "metadata": {},
   "source": [
    "1c)\n",
    "En rotatsjon om endepunktene vil ikke gi energiendring. Energiendring kommer av vekselvirkninger mellom monomerer som ligger inntil hverandre, men ikke er nabo-monomerer i selve polynomet.\n",
    "Altså er det kun energiendring om enten som monomerer ligger i en avstand 1 unna hverandre flyttes fra hverandre, eller motsatt, hele tiden uten å være naboer i polynomet."
   ]
  },
  {
   "cell_type": "code",
   "execution_count": null,
   "metadata": {},
   "outputs": [],
   "source": []
  },
  {
   "cell_type": "code",
   "execution_count": 46,
   "metadata": {},
   "outputs": [
    {
     "ename": "SyntaxError",
     "evalue": "invalid syntax (631435060.py, line 5)",
     "output_type": "error",
     "traceback": [
      "\u001b[0;36m  Input \u001b[0;32mIn [46]\u001b[0;36m\u001b[0m\n\u001b[0;31m    if np.array_equal(monomer,polymer)\u001b[0m\n\u001b[0m                                      ^\u001b[0m\n\u001b[0;31mSyntaxError\u001b[0m\u001b[0;31m:\u001b[0m invalid syntax\n"
     ]
    }
   ],
   "source": [
    "def rotatePolymer(polymer, coord, clockwise=True):\n",
    "    \"\"\"Inputs a polymer, a point, and an optional boolean, and rotates the polymer around that point\n",
    "    Rotates clockwise if clockwise is true or not given, counterclockwise if false.\"\"\"\n",
    "    for monomer in polymer:\n",
    "        if np.array_equal(monomer,polymer)\n",
    "\n",
    "p = createPolymer(10)\n",
    "coord = np.array([3,5])\n",
    "print(coord)\n",
    "rotatePolymer(p,coord)"
   ]
  },
  {
   "cell_type": "markdown",
   "metadata": {},
   "source": [
    "1d)"
   ]
  },
  {
   "cell_type": "code",
   "execution_count": 82,
   "metadata": {},
   "outputs": [
    {
     "data": {
      "image/png": "[encoded data removed]",
      "text/plain": [
       "<Figure size 576x576 with 2 Axes>"
      ]
     },
     "metadata": {
      "needs_background": "light"
     },
     "output_type": "display_data"
    }
   ],
   "source": [
    "from matplotlib.colors import ListedColormap\n",
    "\n",
    "def visualize_polymer(polymer):\n",
    "    # Polymer dimentions\n",
    "    M = int(np.max(polymer[:, 0]) + 1)\n",
    "\n",
    "    # Empty grid\n",
    "    grid = np.zeros((M, M))\n",
    "\n",
    "    # putting the monomers into the grid\n",
    "    for i, (x, y) in enumerate(polymer):\n",
    "        grid[int(y), int(x)] = i + 1  \n",
    "\n",
    "    cmap = ListedColormap(['white'] + plt.cm.viridis.colors)\n",
    "\n",
    "    # Visualizing\n",
    "    plt.figure(figsize=(8, 8))\n",
    "    plt.pcolormesh(grid,  edgecolors='black', linewidth=0.5, cmap=cmap)\n",
    "    plt.colorbar(label='Monomer ID')\n",
    "    plt.xlabel('x-axis')\n",
    "    plt.ylabel('y-axis')\n",
    "    plt.show()\n",
    "\n",
    "polymer = createPolymer(12)\n",
    "visualize_polymer(polymer)"
   ]
  },
  {
   "cell_type": "code",
   "execution_count": 85,
   "metadata": {},
   "outputs": [
    {
     "data": {
      "text/plain": [
       "True"
      ]
     },
     "execution_count": 85,
     "metadata": {},
     "output_type": "execute_result"
    }
   ],
   "source": [
    "# 1e)\n",
    "\n",
    "def isIntact(polymer, N):\n",
    "    \"\"\"Checks if a polymer is intact\"\"\"\n",
    "    \n",
    "    #Finner lengden av polymeret\n",
    "    length = len(polymer)\n",
    "\n",
    "    #Finner lengden av uni_length som fjerner eventuelle duplikater i polymeret\n",
    "    uni_length = len(np.unique(polymer, axis=1)) \n",
    "\n",
    "    #Sjekker om avstanden mellom hvert av monomerene er 1\n",
    "    for i in range(N-1): \n",
    "        x_dist = np.abs(polymer[i+1][0]-polymer[i][0])\n",
    "        y_dist = np.abs(polymer[i+1][1]-polymer[i][1])\n",
    "        distance = x_dist + y_dist\n",
    "        if distance != 1 or length != N or uni_length != length:\n",
    "\n",
    "            #Returnerer false dersom set_length er ulik length (duplikat-verdi i polymeret), length ulik n, eller monomerer er lenger enn 1 i avstand unna hverandre\n",
    "            return False\n",
    "    return True"
   ]
  },
  {
   "cell_type": "code",
   "execution_count": null,
   "metadata": {},
   "outputs": [],
   "source": [
    "# 1j)\n",
    "\n",
    "def energy(matrise, polymer):\n",
    "    "
   ]
  }
 ],
 "metadata": {
  "kernelspec": {
   "display_name": "Python 3",
   "language": "python",
   "name": "python3"
  },
  "language_info": {
   "codemirror_mode": {
    "name": "ipython",
    "version": 3
   },
   "file_extension": ".py",
   "mimetype": "text/x-python",
   "name": "python",
   "nbconvert_exporter": "python",
   "pygments_lexer": "ipython3",
   "version": "3.9.12"
  }
 },
 "nbformat": 4,
 "nbformat_minor": 2
}
