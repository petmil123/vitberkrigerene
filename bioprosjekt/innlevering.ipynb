{
 "cells": [
  {
   "cell_type": "markdown",
   "metadata": {},
   "source": [
    "# Polymers"
   ]
  },
  {
   "cell_type": "markdown",
   "metadata": {},
   "source": [
    "1 a)"
   ]
  },
  {
   "cell_type": "markdown",
   "metadata": {},
   "source": [
    "Ved å lagre informasjonen i et N x 2 array, vil kjøretiden minke betraktelig. Siden vi bare er interresert i posisjonen til de N monomerene, og ikke hele gitteret, vil dette være den beste framgangsmåten. Vi oppretter et array med dimensjon N x 2, der hver rad inneholder informasjon om posisjonen til en monomer i polymeren. Den første kolonnen inneholder x-koordinaten til polymeren, og den andre y-koordinaten. "
   ]
  },
  {
   "cell_type": "code",
   "execution_count": null,
   "metadata": {},
   "outputs": [],
   "source": [
    "# Importing libraries\n",
    "import numpy as np\n",
    "import matplotlib.pyplot as plt\n",
    "from matplotlib.colors import ListedColormap"
   ]
  },
  {
   "cell_type": "code",
   "execution_count": null,
   "metadata": {},
   "outputs": [],
   "source": [
    "# 1b)Petar lukter\n",
    "\n",
    "def createPolymer(n):\n",
    "    \"\"\"Inputs a number n and returns a horizontal polymer\"\"\"\n",
    "    polymer = np.zeros((n,2))\n",
    "    polymer[:,0] = np.linspace(0,n-1,n)\n",
    "    polymer[:,1] = n//2\n",
    "    return polymer"
   ]
  },
  {
   "cell_type": "markdown",
   "metadata": {},
   "source": [
    "1c)\n",
    "En rotatsjon om endepunktene vil ikke gi energiendring. Energiendring kommer av vekselvirkninger mellom monomerer som ligger inntil hverandre, men ikke er nabo-monomerer i selve polynomet.\n",
    "Altså er det kun energiendring om enten som monomerer ligger i en avstand 1 unna hverandre flyttes fra hverandre, eller motsatt, hele tiden uten å være naboer i polynomet."
   ]
  },
  {
   "cell_type": "code",
   "execution_count": null,
   "metadata": {},
   "outputs": [],
   "source": [
    "def createDirectionList(polymerPart):\n",
    "    dir = np.zeros(len(polymerPart-1))\n",
    "    for i in range(len(polymerPart)-1):\n",
    "        d = polymerPart[i+1] - polymerPart[i]\n",
    "        # Right\n",
    "        if d[0] == 1 and d[1] == 0:\n",
    "            dir[i] = 0\n",
    "        # Up\n",
    "        elif d[0] == 0 and d[1] == 1:\n",
    "            dir[i] = 1\n",
    "        # Left\n",
    "        elif d[0] == -1 and d[1] == 0:\n",
    "            dir[i] = 2\n",
    "        # Down\n",
    "        elif d[0] == 0 and d[1] == -1:\n",
    "            dir[i] = 3\n",
    "        else:\n",
    "            raise ValueError(\"Not valid distance\")\n",
    "    return dir\n"
   ]
  },
  {
   "cell_type": "code",
   "execution_count": null,
   "metadata": {},
   "outputs": [],
   "source": [
    "def rotatePolymer(p, coord, clockwise=True):\n",
    "    \"\"\"Inputs a polymer, a point, and an optional boolean, and rotates the polymer around that point\n",
    "    Rotates clockwise if clockwise is true or not given, counterclockwise if false.\"\"\"\n",
    "    rotatingBase = -1\n",
    "    polymer = np.copy(p)\n",
    "    N = len(polymer)\n",
    "    # finds index of monomer to rotate around\n",
    "    for i in range(len(polymer)):\n",
    "        if np.array_equal(polymer[i],coord):\n",
    "            rotatingBase = i\n",
    "            break\n",
    "    rotatingLeft = rotatingBase <= len(polymer)//2\n",
    "\n",
    "    directionList = createDirectionList(polymer)\n",
    "    if rotatingLeft:\n",
    "        if clockwise:\n",
    "            directionList[:rotatingBase] = (directionList[:rotatingBase] -1) % 4\n",
    "        else:\n",
    "            directionList[:rotatingBase] = (directionList[:rotatingBase] +1) % 4\n",
    "    else:\n",
    "        if clockwise:\n",
    "            directionList[rotatingBase:] = (directionList[rotatingBase:] +1) % 4\n",
    "        else:\n",
    "            directionList[rotatingBase:] = (directionList[rotatingBase:] -1) % 4\n",
    "\n",
    "    #IDEA: Calculate direction change for every polymer to be rotated. Then use this info to recalculate the position based of the rotation base.\n",
    "    #print(directionList)\n",
    "\n",
    "    if rotatingLeft:\n",
    "        for i in range(rotatingBase - 1, -1, -1):\n",
    "            polymer[i] = polymer[i+1]\n",
    "            if directionList[i] == 0: # Right\n",
    "                polymer[i][0] -= 1\n",
    "            if directionList[i] == 1: # up\n",
    "                polymer[i][1] -= 1\n",
    "            if directionList[i] == 2: # left\n",
    "                polymer[i][0] += 1\n",
    "            if directionList[i] == 3: # down\n",
    "                polymer[i][1] += 1\n",
    "    else:\n",
    "        for i in range(rotatingBase + 1, len(polymer)):\n",
    "            polymer[i] = polymer[i - 1]\n",
    "            if directionList[i - 1] == 0: # Right\n",
    "                polymer[i][0] += 1\n",
    "            if directionList[i - 1] == 1: # up\n",
    "                polymer[i][1] += 1\n",
    "            if directionList[i - 1] == 2: # left\n",
    "                polymer[i][0] -= 1\n",
    "            if directionList[i - 1] == 3: # down\n",
    "                polymer[i][1] -= 1\n",
    "    return polymer"
   ]
  },
  {
   "cell_type": "markdown",
   "metadata": {},
   "source": [
    "1d)"
   ]
  },
  {
   "cell_type": "code",
   "execution_count": null,
   "metadata": {},
   "outputs": [],
   "source": [
    "def visualize_polymer(polymer):\n",
    "    # Calculate the minimum and maximum coordinates of the polymer\n",
    "    min_x = int(np.min(polymer[:, 0]))\n",
    "    max_x = int(np.max(polymer[:, 0]))\n",
    "    min_y = int(np.min(polymer[:, 1]))\n",
    "    max_y = int(np.max(polymer[:, 1]))\n",
    "\n",
    "    # Calculate grid dimensions based on the polymer coordinates\n",
    "    grid_width = max_x - min_x + 1\n",
    "    grid_height = max_y - min_y + 1\n",
    "    cmap = ListedColormap(['white'] + plt.cm.viridis.colors)\n",
    "\n",
    "    # Initialize the grid with zeros\n",
    "    grid = np.zeros((grid_height, grid_width))\n",
    "\n",
    "    # Plot the polymer on the grid\n",
    "    for i, (x, y) in enumerate(polymer):\n",
    "        grid[int(y - min_y), int(x - min_x)] = i + 1\n",
    "\n",
    "    # Visualize the grid\n",
    "    plt.figure(figsize=(8, 8))\n",
    "    plt.pcolormesh(grid,  edgecolors='black', linewidth=0.5, cmap=cmap)\n",
    "    plt.colorbar(label='Monomer ID')\n",
    "    plt.xlabel('x-axis')\n",
    "    plt.ylabel('y-axis')\n",
    "    plt.show()"
   ]
  },
  {
   "cell_type": "code",
   "execution_count": null,
   "metadata": {},
   "outputs": [],
   "source": [
    "# 1e)\n",
    "\n",
    "def isIntact(polymer, N):\n",
    "    \"\"\"Checks if a polymer is intact\"\"\"\n",
    "    \n",
    "    #Finner lengden av polymeret\n",
    "    length = len(polymer)\n",
    "\n",
    "    # Hvis lengden av monomeret er kortere enn n har vi \"mistet\" et monomer\n",
    "    if length != N:\n",
    "        return False\n",
    "\n",
    "    #Finner lengden av uni_length som fjerner eventuelle duplikater i polymeret\n",
    "    uni_length = len(np.unique(polymer, axis=0)) \n",
    "\n",
    "    if uni_length != length:\n",
    "        return False\n",
    "\n",
    "    #Sjekker om avstanden mellom hvert av monomerene er 1\n",
    "    for i in range(N-1): \n",
    "        x_dist = np.abs(polymer[i+1][0]-polymer[i][0])\n",
    "        y_dist = np.abs(polymer[i+1][1]-polymer[i][1])\n",
    "        distance = x_dist + y_dist\n",
    "        if distance != 1 or length != N or uni_length != length:\n",
    "\n",
    "            #Returnerer false dersom set_length er ulik length (duplikat-verdi i polymeret),\n",
    "            #length ulik n, eller monomerer er lenger enn 1 i avstand unna hverandre\n",
    "            return False\n",
    "    return True"
   ]
  },
  {
   "cell_type": "code",
   "execution_count": null,
   "metadata": {},
   "outputs": [],
   "source": [
    "# 1j)\n",
    "\n",
    "def energy(matrise, polymer):\n",
    "    "
   ]
  },
  {
   "cell_type": "code",
   "execution_count": null,
   "metadata": {},
   "outputs": [],
   "source": [
    "# 1g\n",
    "# Calculate the minimum and maximum coordinates of the polymer\n",
    "def testRotate(N, N_s):\n",
    "    polymer = createPolymer(N)\n",
    "    twisted_polymer = np.array([])\n",
    "    succesRotations = 0\n",
    "\n",
    "    for i in range(N_s):\n",
    "        rotateMonomer = np.random.randint(1, N+1)\n",
    "        rotateMonomer = polymer[rotateMonomer - 1]\n",
    "        rotateDirection = np.random.randint(1,3)\n",
    "        if rotateDirection == 1:\n",
    "            twisted_polymer = rotatePolymer(polymer, rotateMonomer, clockwise = True)\n",
    "            if isIntact(twisted_polymer, N) == True:\n",
    "                succesRotations += 1 \n",
    "                polymer = np.copy(twisted_polymer)\n",
    "        if rotateDirection == 2:\n",
    "             twisted_polymer = rotatePolymer(polymer, rotateMonomer, clockwise = False)\n",
    "             if isIntact(twisted_polymer, N) == True:\n",
    "                succesRotations += 1 \n",
    "                polymer = np.copy(twisted_polymer)\n",
    "        # visualize_polymer(polymer)\n",
    "\n",
    "    \n",
    "    return polymer, succesRotations\n",
    "\n",
    "t = testRotate(200, 500)\n",
    "t1 = t[0]\n",
    "t2 = t[1]\n",
    "print(t2)\n",
    "visualize_polymer(t1)\n"
   ]
  },
  {
   "cell_type": "code",
   "execution_count": null,
   "metadata": {},
   "outputs": [],
   "source": [
    "#2a)\n",
    "\n",
    "def metropolis(polymer, N_s, V, T):\n",
    "    E_arr = np.zeros(N_s)\n",
    "    E = calculateEnergy(polymer, V)\n",
    "    i = 1\n",
    "    while i < N_s:\n",
    "        xRand = np.random.random_integers(0, len(polymer)-1)\n",
    "        twist_coords = polymer[xRand]\n",
    "        clockwise = bool(np.random.random_integers(0,1))\n",
    "        twisted_polymer = np.copy(polymer)\n",
    "        twisted_polymer = rotatePolymer(twisted_polymer,twist_coords, clockwise)\n",
    "        if isIntact(twisted_polymer):\n",
    "            i += 1\n",
    "            E_new = calculateEnergy(twisted_polymer, V)\n",
    "            if E_new > E or np.random.uniform() < np.exp(-beta*(E_new - E)):\n",
    "                polymer = np.copy(twisted_polymer)\n",
    "                E = E_new\n",
    "            E_arr[i] = E\n",
    "    return polymer, E_array\n",
    "            \n"
   ]
  },
  {
   "cell_type": "code",
   "execution_count": null,
   "metadata": {},
   "outputs": [],
   "source": []
  }
 ],
 "metadata": {
  "kernelspec": {
   "display_name": "Python 3",
   "language": "python",
   "name": "python3"
  },
  "language_info": {
   "codemirror_mode": {
    "name": "ipython",
    "version": 3
   },
   "file_extension": ".py",
   "mimetype": "text/x-python",
   "name": "python",
   "nbconvert_exporter": "python",
   "pygments_lexer": "ipython3",
   "version": "3.10.9"
  }
 },
 "nbformat": 4,
 "nbformat_minor": 2
}
