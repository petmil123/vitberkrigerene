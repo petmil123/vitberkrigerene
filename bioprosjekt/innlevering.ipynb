{
 "cells": [
  {
   "cell_type": "markdown",
   "metadata": {},
   "source": [
    "# Polymers"
   ]
  },
  {
   "cell_type": "markdown",
   "metadata": {},
   "source": [
    "## Fancy fuckings innledning goes here"
   ]
  },
  {
   "cell_type": "markdown",
   "metadata": {},
   "source": [
    "1 a)"
   ]
  },
  {
   "cell_type": "markdown",
   "metadata": {},
   "source": [
    "Ved å lagre informasjonen i et N x 2 array, vil kjøretiden minke betraktelig. Siden vi bare er interresert i posisjonen til de N monomerene, og ikke hele gitteret, vil dette være den beste framgangsmåten. Vi oppretter et array med dimensjon N x 2, der hver rad inneholder informasjon om posisjonen til en monomer i polymeren. Den første kolonnen inneholder x-koordinaten til polymeren, og den andre y-koordinaten. \n",
    "\n",
    "TODO: Skriv akademisk"
   ]
  },
  {
   "cell_type": "code",
   "execution_count": 48,
   "metadata": {},
   "outputs": [],
   "source": [
    "# Importing libraries\n",
    "import numpy as np\n",
    "import matplotlib.pyplot as plt\n",
    "from matplotlib.colors import ListedColormap\n",
    "from scipy.optimize import curve_fit\n",
    "from scipy.spatial.distance import cdist"
   ]
  },
  {
   "cell_type": "markdown",
   "metadata": {},
   "source": []
  },
  {
   "cell_type": "code",
   "execution_count": 49,
   "metadata": {},
   "outputs": [],
   "source": [
    "# 1b)\n",
    "def createPolymer(n):\n",
    "    \"\"\"Inputs a number n and returns a horizontal polymer\"\"\"\n",
    "    polymer = np.zeros((n,2))\n",
    "    polymer[:,0] = np.linspace(0,n-1,n)\n",
    "    polymer[:,1] = n//2\n",
    "    return polymer"
   ]
  },
  {
   "cell_type": "markdown",
   "metadata": {},
   "source": [
    "1c)\n",
    "En rotatsjon om endepunktene vil ikke gi energiendring. Energiendring kommer av vekselvirkninger mellom monomerer som ligger inntil hverandre, men ikke er nabo-monomerer i selve polynomet.\n",
    "Altså er det kun energiendring om enten som monomerer ligger i en avstand 1 unna hverandre flyttes fra hverandre, eller motsatt, hele tiden uten å være naboer i polynomet.\n",
    "\n",
    "TODO: Skriv akademisk"
   ]
  },
  {
   "cell_type": "code",
   "execution_count": 50,
   "metadata": {},
   "outputs": [],
   "source": [
    "def visualize_polymer(polymer, title=\"\"):\n",
    "    # Calculate the minimum and maximum coordinates of the polymer\n",
    "    min_x = int(np.min(polymer[:, 0]))\n",
    "    max_x = int(np.max(polymer[:, 0]))\n",
    "    min_y = int(np.min(polymer[:, 1]))\n",
    "    max_y = int(np.max(polymer[:, 1]))\n",
    "\n",
    "    # Calculate grid dimensions based on the polymer coordinates\n",
    "    grid_width = max_x - min_x + 1\n",
    "    grid_height = max_y - min_y + 1\n",
    "    grid_size = int(np.max([grid_height, grid_width]))\n",
    "    cmap = ListedColormap(['white'] + plt.cm.viridis.colors)\n",
    "\n",
    "    # Initialize the grid with zeros\n",
    "    grid = np.zeros((grid_size, grid_size))\n",
    "\n",
    "    # Plot the polymer on the grid\n",
    "    # TODO: Vurder å prøve å kaste forløkka på sjøen\n",
    "    for i, (x, y) in enumerate(polymer):\n",
    "        grid[int(y - min_y), int(x - min_x)] = i + 1\n",
    "\n",
    "    # Visualize the grid\n",
    "    plt.figure(figsize=(8, 8))\n",
    "    plt.pcolormesh(grid,  edgecolors='black', linewidth=0.5, cmap=cmap)\n",
    "    plt.colorbar(label='Monomer ID')\n",
    "    plt.xlabel('x-axis')\n",
    "    plt.ylabel('y-axis')\n",
    "    if title != \"\":\n",
    "        plt.title(title)\n",
    "    plt.show()"
   ]
  },
  {
   "cell_type": "markdown",
   "metadata": {},
   "source": []
  },
  {
   "cell_type": "code",
   "execution_count": 51,
   "metadata": {},
   "outputs": [],
   "source": [
    "# 1e)\n",
    "\n",
    "def isIntact(polymer, N):\n",
    "    \"\"\"Checks if a polymer is intact\"\"\"\n",
    "    \n",
    "    length = len(polymer)\n",
    "\n",
    "    # Check if the length of the polymer is the same as when it was initialized. If it´s shorter, return false.\n",
    "    if length != N:\n",
    "        return False\n",
    "\n",
    "    # Remove potential monomers in identical positions, and check if this shortens the polymer. If so, return false.\n",
    "    uni_length = len(np.unique(polymer, axis=0))\n",
    "\n",
    "    if uni_length != N:\n",
    "        return False\n",
    "\n",
    "    # Check if the distance between each adjacent monomer is 1, i.e. that the polymer chain is continous. If not, return false.\n",
    "    # TODO: Vurder å prøve å fjerne for\n",
    "    for i in range(N-1): \n",
    "        x_dist = np.abs(polymer[i+1][0]-polymer[i][0])\n",
    "        y_dist = np.abs(polymer[i+1][1]-polymer[i][1])\n",
    "        distance = x_dist + y_dist\n",
    "        if distance != 1:\n",
    "            return False\n",
    "    return True"
   ]
  },
  {
   "cell_type": "markdown",
   "metadata": {},
   "source": []
  },
  {
   "cell_type": "code",
   "execution_count": 52,
   "metadata": {},
   "outputs": [],
   "source": [
    "#TODO: Skriv om vha. rotasjonsmatrise. Bruk (blant annet) dette som svar i 1h)\n",
    "def createDirectionList(polymerPart):\n",
    "    \"\"\"Input the part of a polymer that you want to rotate, and find what direction it rotates\"\"\"\n",
    "    \n",
    "    # Create a zero-array that is the length of the polymer part that you want to rotate (minus 1)\n",
    "    dir = np.zeros(len(polymerPart)-1)\n",
    "    \n",
    "    for i in range(len(polymerPart)-1):\n",
    "        d = polymerPart[i+1] - polymerPart[i]\n",
    "        # Right\n",
    "        if d[0] == 1 and d[1] == 0:\n",
    "            dir[i] = 0\n",
    "        # Up\n",
    "        elif d[0] == 0 and d[1] == 1:\n",
    "            dir[i] = 1\n",
    "        # Left\n",
    "        elif d[0] == -1 and d[1] == 0:\n",
    "            dir[i] = 2\n",
    "        # Down\n",
    "        elif d[0] == 0 and d[1] == -1:\n",
    "            dir[i] = 3\n",
    "        else:\n",
    "            raise ValueError(\"Not valid distance\")\n",
    "    return dir\n"
   ]
  },
  {
   "cell_type": "markdown",
   "metadata": {},
   "source": []
  },
  {
   "cell_type": "code",
   "execution_count": 53,
   "metadata": {},
   "outputs": [],
   "source": [
    "def rotatePolymer(p, coord, clockwise=True):\n",
    "    \"\"\"Inputs a polymer, a point, and an optional boolean, and rotates the polymer around that point\n",
    "    Rotates clockwise if clockwise is true or not given, counterclockwise if false.\"\"\"\n",
    "    \n",
    "    rotatingBase = -1 #Hvorfor er denne -1? for-løkka under sjekker jo hvor det skal roteres om, og hvis det ikke er inni polymeret bør det vel ikke rotere? Og trenger vi break?\n",
    "    polymer = np.copy(p)\n",
    "    N = len(polymer)\n",
    "\n",
    "    # Find index of monomer to rotate around\n",
    "    for i in range(N):\n",
    "        if np.array_equal(polymer[i], coord):\n",
    "            rotatingBase = i\n",
    "            break\n",
    "    rotatingLeft = rotatingBase <= len(polymer)//2\n",
    "\n",
    "    directionList = createDirectionList(polymer)\n",
    "    if rotatingLeft:\n",
    "        if clockwise:\n",
    "            directionList[:rotatingBase] = (directionList[:rotatingBase] -1) % 4\n",
    "        else:\n",
    "            directionList[:rotatingBase] = (directionList[:rotatingBase] +1) % 4\n",
    "    else:\n",
    "        if clockwise:\n",
    "            directionList[rotatingBase:] = (directionList[rotatingBase:] +1) % 4\n",
    "        else:\n",
    "            directionList[rotatingBase:] = (directionList[rotatingBase:] -1) % 4\n",
    "\n",
    "    #IDEA: Calculate direction change for every polymer to be rotated. Then use this info to recalculate the position based of the rotation base.\n",
    "    #print(directionList)\n",
    "\n",
    "    if rotatingLeft:\n",
    "        for i in range(rotatingBase - 1, -1, -1):\n",
    "            polymer[i] = polymer[i+1]\n",
    "            if directionList[i] == 0: # Right\n",
    "                polymer[i][0] -= 1\n",
    "            if directionList[i] == 1: # up\n",
    "                polymer[i][1] -= 1\n",
    "            if directionList[i] == 2: # left\n",
    "                polymer[i][0] += 1\n",
    "            if directionList[i] == 3: # down\n",
    "                polymer[i][1] += 1\n",
    "    else:\n",
    "        for i in range(rotatingBase + 1, len(polymer)):\n",
    "            polymer[i] = polymer[i - 1]\n",
    "            if directionList[i - 1] == 0: # Right\n",
    "                polymer[i][0] += 1\n",
    "            if directionList[i - 1] == 1: # up\n",
    "                polymer[i][1] += 1\n",
    "            if directionList[i - 1] == 2: # left\n",
    "                polymer[i][0] -= 1\n",
    "            if directionList[i - 1] == 3: # down\n",
    "                polymer[i][1] -= 1\n",
    "    return polymer"
   ]
  },
  {
   "cell_type": "markdown",
   "metadata": {},
   "source": []
  },
  {
   "cell_type": "code",
   "execution_count": 54,
   "metadata": {},
   "outputs": [],
   "source": [
    "#Rotate igjen\n",
    "# Bruk i 1 h)\n",
    "\n",
    "def rotatePolymer(polymer, coord, clockwise = True):\n",
    "    \"\"\"Inputs a polymer and rotates the short end in the direction specified around coord.\"\"\"\n",
    "\n",
    "    # Create a clockwise- or counterclockwise-rotation matrix, depending on the input.\n",
    "    rotation_matrix =  np.array([[0, 1], [-1, 0]]) if clockwise else np.array([[0, -1], [1, 0]])\n",
    "\n",
    "    # Find the index of the monomer you want the polymer to rotate about\n",
    "    rotationCenterIdx = np.where((polymer == coord).all(axis=1))[0][0]\n",
    "\n",
    "    # Move the rotation center to the origin before rotating\n",
    "    translatedPolymer = polymer - coord\n",
    "\n",
    "    # Make a copy of translatedPolymer to ensure no loss of data due to pass-by-reference used in np.arrays\n",
    "    rotated_polymer = np.copy(translatedPolymer)\n",
    "\n",
    "    # Check on what side of the polymer the monomer you rotate about is, so the shortest end always is the one that is rotated.\n",
    "    if rotationCenterIdx <= len(polymer)//2:\n",
    "        rotated_polymer[:rotationCenterIdx] = rotated_polymer[:rotationCenterIdx] @ rotation_matrix\n",
    "    else:\n",
    "        rotated_polymer[rotationCenterIdx + 1:] = rotated_polymer[rotationCenterIdx + 1:] @ rotation_matrix\n",
    "    return rotated_polymer + coord"
   ]
  },
  {
   "cell_type": "markdown",
   "metadata": {},
   "source": []
  },
  {
   "cell_type": "code",
   "execution_count": 55,
   "metadata": {},
   "outputs": [
    {
     "data": {
      "image/png": "[encoded data removed]",
      "text/plain": [
       "<Figure size 576x576 with 2 Axes>"
      ]
     },
     "metadata": {
      "needs_background": "light"
     },
     "output_type": "display_data"
    },
    {
     "data": {
      "image/png": "[encoded data removed]",
      "text/plain": [
       "<Figure size 576x576 with 2 Axes>"
      ]
     },
     "metadata": {
      "needs_background": "light"
     },
     "output_type": "display_data"
    }
   ],
   "source": [
    "# 1g)\n",
    "\n",
    "def testRotate(N, N_s):\n",
    "    \"\"\"Inputs a N and N_s and rotates a N long polymer N_s number of times, and outputs the last position and number of successful rotations\"\"\"\n",
    "    \n",
    "    # Create a polymer with given length, aswell as an empty array and a counter for number of succesfull rotations\n",
    "    polymer = createPolymer(N)\n",
    "    twisted_polymer = np.array([])\n",
    "    succesRotations = 0\n",
    "\n",
    "    # Twist the given polymer N_s times\n",
    "    for i in range(N_s):\n",
    "\n",
    "        # Find a random monomer to rotate about, and a random direction, either clockwise or counterclockwise\n",
    "        rotateMonomer = np.random.randint(1, N+1)\n",
    "        rotateMonomer = polymer[rotateMonomer - 1]\n",
    "        clockwise = np.random.randint(1,3) == 1\n",
    "\n",
    "        # Create a new twisted polymer, depending on the random monomer and direction given above\n",
    "        twisted_polymer = rotatePolymer(polymer, rotateMonomer, clockwise)\n",
    "\n",
    "        # Check if the twisted polymer is intact, and if so, this is the new polymer, add 1 to the counter, and use this polymer for the remaining iterations\n",
    "        # If not, the next iteration will use the last valid polymer\n",
    "        if isIntact(twisted_polymer, N) == True:\n",
    "            succesRotations += 1 \n",
    "            polymer = np.copy(twisted_polymer)\n",
    "    \n",
    "    return polymer, succesRotations\n",
    "\n",
    "# Create two test-rotations for a polymer that is N=15 monomers long, one with Ns=4 and the other with Ns=1000\n",
    "polymer4, successes4 = testRotate(15, 4)\n",
    "polymer1000, sucesses1000 = testRotate(15, 1000)\n",
    "# Visualize the end position of the two tests\n",
    "visualize_polymer(polymer4)\n",
    "visualize_polymer(polymer1000)\n"
   ]
  },
  {
   "cell_type": "markdown",
   "metadata": {},
   "source": []
  },
  {
   "cell_type": "code",
   "execution_count": 56,
   "metadata": {},
   "outputs": [],
   "source": [
    "# TODO: Sett inn 1h her"
   ]
  },
  {
   "cell_type": "markdown",
   "metadata": {},
   "source": []
  },
  {
   "cell_type": "code",
   "execution_count": 57,
   "metadata": {},
   "outputs": [],
   "source": [
    "#1i)\n",
    "\n",
    "def successRot(N_s):\n",
    "    \"\"\"Inputs a number of attempted rotations, and returns number of successful rotations\"\"\"\n",
    "\n",
    "    successRate = np.array([])\n",
    "\n",
    "    # Create a for-loop for increasing N-values, where in each iteration the number of successful rotations are returned as a percentage,\n",
    "    # and the percentage is appended to an array, and return this array\n",
    "    for i in range(10, 600, 20):\n",
    "        successes = testRotate(i, N_s)[1]\n",
    "        percentage = successes * 100/N_s\n",
    "        successRate = np.append(successRate, percentage)\n",
    "\n",
    "    return successRate"
   ]
  },
  {
   "cell_type": "markdown",
   "metadata": {},
   "source": []
  },
  {
   "cell_type": "code",
   "execution_count": 58,
   "metadata": {},
   "outputs": [],
   "source": [
    "xVals = np.arange(10, 600, 20)\n",
    "\n",
    "yVals500 = successRot(500)\n",
    "yVals1500 = successRot(1500)\n",
    "yVals4000 = successRot(4000)"
   ]
  },
  {
   "cell_type": "markdown",
   "metadata": {},
   "source": []
  },
  {
   "cell_type": "code",
   "execution_count": 59,
   "metadata": {},
   "outputs": [
    {
     "name": "stderr",
     "output_type": "stream",
     "text": [
      "/var/folders/y3/1w5k7p493sl56cbk6014g7mw0000gn/T/ipykernel_57348/4287871246.py:5: RuntimeWarning: overflow encountered in exp\n",
      "  return a * np.exp(-b * x) + c\n"
     ]
    },
    {
     "data": {
      "image/png": "[encoded data removed]",
      "text/plain": [
       "<Figure size 504x432 with 1 Axes>"
      ]
     },
     "metadata": {
      "needs_background": "light"
     },
     "output_type": "display_data"
    }
   ],
   "source": [
    "# Perform curve fitting\n",
    "initial_guess = (1, 1, 1)\n",
    "\n",
    "def func(x, a, b, c):\n",
    "    return a * np.exp(-b * x) + c\n",
    "\n",
    "popt1, pcov1 = curve_fit(func, xVals, yVals500, p0=initial_guess)\n",
    "popt2, pcov2 = curve_fit(func, xVals, yVals1500, p0=initial_guess)\n",
    "popt3, pcov3 = curve_fit(func, xVals, yVals4000, p0=initial_guess)\n",
    "\n",
    "# Extract optimized parameters\n",
    "a_fit, b_fit, c_fit = popt1\n",
    "d, e, f = popt2\n",
    "g, h, i = popt3\n",
    "\n",
    "# Generate y values using the fitted parameters\n",
    "y_pred500 = func(xVals, a_fit, b_fit, c_fit)\n",
    "y_pred1500 = func(xVals, d, e, f)\n",
    "y_pred4000 = func(xVals, *popt3)\n",
    "\n",
    "# Plot the original data and the fitted curve\n",
    "plt.figure(figsize=(7,6))\n",
    "plt.scatter(xVals, yVals500, marker=\"x\", alpha=0.5, label='Original Data, N_s = 500')\n",
    "plt.scatter(xVals, yVals1500, marker=\"x\", alpha=0.5, label='Original Data, N_s = 1500')\n",
    "plt.scatter(xVals, yVals4000, marker=\"x\", alpha=0.5, label='Original Data, N_s = 4000')\n",
    "plt.plot(xVals, y_pred500, 'r-', label='Fitted Curve, N_s = 500')\n",
    "plt.plot(xVals, y_pred1500, 'b-', label='Fitted Curve, N_s = 1500')\n",
    "plt.plot(xVals, y_pred4000, 'c-', label='Fitted Curve, N_s = 4000')\n",
    "plt.xlabel('Polymer length')\n",
    "plt.ylabel('Rate of successful rotations (%)')\n",
    "plt.title('Nonlinear Regression')\n",
    "plt.legend()\n",
    "plt.show()"
   ]
  },
  {
   "cell_type": "markdown",
   "metadata": {},
   "source": []
  },
  {
   "cell_type": "code",
   "execution_count": 60,
   "metadata": {},
   "outputs": [
    {
     "name": "stdout",
     "output_type": "stream",
     "text": [
      "Energy for polymer with 4 tried rotations: 0.0\n",
      "Energy for polymer with 1000 tried rotations: -1.0\n"
     ]
    }
   ],
   "source": [
    "# 1j)\n",
    "\n",
    "def calculateEnergy(polymer, V):\n",
    "    b = cdist(polymer, polymer, 'cityblock') == 1\n",
    "    energyMatrix = np.multiply(V,b)\n",
    "    return np.sum(energyMatrix)/2\n",
    "\n",
    "V = np.zeros([len(polymer1000),len(polymer1000)])\n",
    "V[np.tril_indices_from(V,-2)] = -1\n",
    "V[np.triu_indices_from(V,2)] = -1\n",
    "\n",
    "print(f'Energy for polymer with 4 attempted rotations: {calculateEnergy(polymer4,V)}')\n",
    "print(f'Energy for polymer with 1000 attempted rotations: {calculateEnergy(polymer1000,V)}') "
   ]
  },
  {
   "cell_type": "markdown",
   "metadata": {},
   "source": []
  },
  {
   "cell_type": "code",
   "execution_count": 61,
   "metadata": {},
   "outputs": [],
   "source": [
    "#2a)\n",
    "# TODO: Kan denne effektiviseres?\n",
    "\n",
    "def metropolis(polymer, N_s, V, T):\n",
    "    beta = 1/(k_B*T)\n",
    "    N = len(polymer)\n",
    "    E_arr = np.zeros(N_s)\n",
    "    E = calculateEnergy(polymer, V)\n",
    "    E_arr[0] = E\n",
    "    i = 0\n",
    "    while i < N_s:\n",
    "        xRand = np.random.randint(1, len(polymer))\n",
    "        twist_coords = polymer[xRand]\n",
    "        clockwise = bool(np.random.randint(0,2))\n",
    "        twisted_polymer = rotatePolymer(polymer,twist_coords, clockwise)\n",
    "        if isIntact(twisted_polymer, N):\n",
    "            E_new = calculateEnergy(twisted_polymer, V)\n",
    "            if E_new < E or np.random.uniform() < np.exp(-beta*(E_new - E)):\n",
    "                polymer = np.copy(twisted_polymer)\n",
    "                E = E_new\n",
    "            E_arr[i] = E\n",
    "            i += 1\n",
    "            \n",
    "    return polymer, E_arr"
   ]
  },
  {
   "cell_type": "markdown",
   "metadata": {},
   "source": []
  },
  {
   "cell_type": "code",
   "execution_count": 62,
   "metadata": {},
   "outputs": [
    {
     "data": {
      "image/png": "[encoded data removed]",
      "text/plain": [
       "<Figure size 576x576 with 1 Axes>"
      ]
     },
     "metadata": {
      "needs_background": "light"
     },
     "output_type": "display_data"
    }
   ],
   "source": [
    "# 2b\n",
    "# TODO: Fjern warnings\n",
    "\n",
    "p1 = createPolymer(30)\n",
    "p2 = np.copy(p1)\n",
    "N_s = 5000\n",
    "nonzero_E = -4e-21\n",
    "k_B = 1.38e-23\n",
    "\n",
    "\n",
    "V = np.zeros([len(p1),len(p1)])\n",
    "V[np.tril_indices_from(V,-2)] = nonzero_E\n",
    "V[np.triu_indices_from(V,2)] = nonzero_E\n",
    "\n",
    "T_low = 75\n",
    "T_high = 343\n",
    "\n",
    "polymer_low, E_arr_low = metropolis(p1, N_s, V, T_low)\n",
    "polymer_high, E_arr_high = metropolis(p2, N_s, V, T_high)\n",
    "\n",
    "t = np.arange(0,len(E_arr_low))\n",
    "\n",
    "plt.figure(figsize=(8,8))\n",
    "plt.xlabel(\"Rotations (N_s)\", fontsize=15)\n",
    "plt.ylabel(\"Energy [J]\", fontsize=15)\n",
    "plt.plot(t[::50],E_arr_low[::50], label=\"Low Temperature\")\n",
    "plt.plot(t[::50],E_arr_high[::50], label=\"High Temperature\")\n",
    "plt.legend(fontsize=13)\n",
    "plt.show()\n",
    "\n"
   ]
  },
  {
   "cell_type": "markdown",
   "metadata": {},
   "source": []
  },
  {
   "cell_type": "code",
   "execution_count": 63,
   "metadata": {},
   "outputs": [
    {
     "data": {
      "image/png": "[encoded data removed]",
      "text/plain": [
       "<Figure size 576x576 with 2 Axes>"
      ]
     },
     "metadata": {
      "needs_background": "light"
     },
     "output_type": "display_data"
    },
    {
     "data": {
      "image/png": "[encoded data removed]",
      "text/plain": [
       "<Figure size 576x576 with 2 Axes>"
      ]
     },
     "metadata": {
      "needs_background": "light"
     },
     "output_type": "display_data"
    }
   ],
   "source": [
    "# 2c\n",
    "visualize_polymer(polymer_low)\n",
    "visualize_polymer(polymer_high)"
   ]
  },
  {
   "cell_type": "markdown",
   "metadata": {},
   "source": []
  },
  {
   "cell_type": "code",
   "execution_count": 64,
   "metadata": {},
   "outputs": [
    {
     "data": {
      "image/png": "[encoded data removed]",
      "text/plain": [
       "<Figure size 576x576 with 2 Axes>"
      ]
     },
     "metadata": {
      "needs_background": "light"
     },
     "output_type": "display_data"
    }
   ],
   "source": [
    "# 2d\n",
    "#TODO: Denne matrisen stemmer ikke, diagonal != 0. Den er også lite interessant.\n",
    "p3 = createPolymer(30)\n",
    "V_d = np.zeros([30,30]) # Use V as a starting point\n",
    "V_d[0][-1] = -100\n",
    "V_d[-1][0] = -100\n",
    "\n",
    "for i in range(1, len(p3//2 + 1)):\n",
    "    V_d[i:-i, i:-i] *=10\n",
    "\n",
    "polymer_d, E_d = metropolis(p3, 10000, V_d, 150)\n",
    "\n",
    "visualize_polymer(polymer_d)"
   ]
  },
  {
   "cell_type": "markdown",
   "metadata": {},
   "source": []
  },
  {
   "cell_type": "code",
   "execution_count": 65,
   "metadata": {},
   "outputs": [],
   "source": [
    "# 2e\n",
    "# Her er vi usikre på om alt er riktig\n",
    "def test(N_s):\n",
    "    pol = createPolymer(30)\n",
    "    Temperature = np.arange(10, 1000, 30)\n",
    "    energyArray = np.zeros([33, N_s - 1000])\n",
    "\n",
    "    for i in range(len(Temperature)):\n",
    "        energyArray[i] = metropolis(pol, N_s, V, Temperature[i])[1][1000:]\n",
    "\n",
    "    return energyArray\n",
    "\n",
    "Temperature = np.arange(10,1000,30)"
   ]
  },
  {
   "cell_type": "markdown",
   "metadata": {},
   "source": []
  },
  {
   "cell_type": "code",
   "execution_count": 66,
   "metadata": {},
   "outputs": [],
   "source": [
    "runNs1500 = test(1500)\n",
    "runNs3000 = test(3000)\n",
    "runNs6000 = test(6000)"
   ]
  },
  {
   "cell_type": "markdown",
   "metadata": {},
   "source": []
  },
  {
   "cell_type": "code",
   "execution_count": null,
   "metadata": {},
   "outputs": [],
   "source": [
    "# TODO: Plott ved siden av hverandre, vurder å plotte ved siden av hverandre\n",
    "\n",
    "meanRunNs1500 = np.mean(runNs1500, axis=1)\n",
    "stdRunNs1500 = np.std(runNs1500, ddof=1, axis=1)\n",
    "\n",
    "meanRunNs3000 = np.mean(runNs3000, axis=1)\n",
    "stdRunNs3000 = np.std(runNs3000, ddof=1, axis=1)\n",
    "\n",
    "meanRunNs6000 = np.mean(runNs6000, axis=1)\n",
    "stdRunNs6000 = np.std(runNs6000, ddof=1, axis=1)\n",
    "\n",
    "# Create figure and axes for subplots\n",
    "fig, axs = plt.subplots(1, 3, figsize=(15, 5))  # 1 row, 3 columns\n",
    "\n",
    "# Plot data on the first subplot\n",
    "axs[0].errorbar(Temperature, meanRunNs1500, yerr=stdRunNs1500, fmt='-', capsize=3)\n",
    "axs[0].plot(Temperature, meanRunNs1500)\n",
    "axs[0].set_xlabel((\"Temperature [K]\"))\n",
    "axs[0].set_ylabel(\"$\\\\langle E \\\\rangle$\")\n",
    "axs[0].set_title('N_s = 1500')\n",
    "\n",
    "# Plot data on the second subplot\n",
    "axs[1].errorbar(Temperature, meanRunNs3000, yerr=stdRunNs3000, fmt='-', capsize=3)\n",
    "axs[1].plot(Temperature, meanRunNs3000)\n",
    "axs[1].set_xlabel((\"Temperature [K]\"))\n",
    "axs[1].set_ylabel(\"$\\\\langle E \\\\rangle$\")\n",
    "axs[1].set_title(\"N_s = 3000\")\n",
    "\n",
    "# Plot data on the third subplot\n",
    "axs[2].errorbar(Temperature, meanRunNs6000, yerr=stdRunNs6000, fmt='-', capsize=3)\n",
    "axs[2].plot(Temperature, meanRunNs6000)\n",
    "axs[2].set_xlabel((\"Temperature [K]\"))\n",
    "axs[2].set_ylabel(\"$\\\\langle E \\\\rangle$\")\n",
    "axs[2].set_title('N_s = 6000')\n",
    "\n",
    "# Adjust layout\n",
    "plt.tight_layout()\n",
    "\n",
    "# Show the plots\n",
    "plt.show()"
   ]
  },
  {
   "cell_type": "markdown",
   "metadata": {},
   "source": []
  },
  {
   "cell_type": "code",
   "execution_count": null,
   "metadata": {},
   "outputs": [],
   "source": [
    "# 2f\n",
    "\n",
    "T = 70 #K\n",
    "N = 30 \n",
    "N_s = 2000\n",
    "\n",
    "def EnergyConstantT(T, N, N_s, V):\n",
    "    i_arr = np.arange(0, N_s)\n",
    "    plt.figure(figsize=(24, 12))\n",
    "    plt.xticks(fontsize=20)\n",
    "    plt.yticks(fontsize=20)\n",
    "    plt.xlabel(\"Number of rotations [t]\", fontsize=25)\n",
    "    plt.ylabel(\"Energi per step [E(t)]\", fontsize=25)\n",
    "    plt.title(f\"Energi ved 10 metropolissimuleringer og konstant temperatur {T} K\", fontsize=20)\n",
    "    for i in range(1, 11):\n",
    "        polymer = createPolymer(N)\n",
    "        metro = metropolis(polymer, N_s, V, T)\n",
    "        plt.plot(i_arr, metro[1], label = f\"Simulation nr {i}\")\n",
    "    plt.legend(fontsize=15)\n",
    "\n",
    "EnergyConstantT(T, N, N_s, V)"
   ]
  },
  {
   "cell_type": "markdown",
   "metadata": {},
   "source": []
  },
  {
   "cell_type": "code",
   "execution_count": null,
   "metadata": {},
   "outputs": [],
   "source": [
    "# 2g\n",
    "\n",
    "def getEuclideanDistance(polymer):\n",
    "    return np.max(cdist(polymer, polymer, 'euclid'))\n",
    "\n",
    "def metropolis_with_d(polymer, N_s, V, T):\n",
    "    beta = 1/(k_B*T)\n",
    "    N = len(polymer)\n",
    "    E_arr = np.zeros(N_s)\n",
    "    d_arr = np.zeros(N_s)\n",
    "    E = calculateEnergy(polymer, V)\n",
    "    E_arr[0] = E\n",
    "    i = 0\n",
    "    while i < N_s:\n",
    "        xRand = np.random.randint(1, len(polymer))\n",
    "        twist_coords = polymer[xRand]\n",
    "        clockwise = bool(np.random.randint(0,2))\n",
    "        twisted_polymer = rotatePolymer(polymer,twist_coords, clockwise)\n",
    "        if isIntact(twisted_polymer, N):\n",
    "            E_new = calculateEnergy(twisted_polymer, V)\n",
    "            if E_new < E or np.random.uniform() < np.exp(-beta*(E_new - E)):\n",
    "                polymer = np.copy(twisted_polymer)\n",
    "                E = E_new\n",
    "            E_arr[i] = E\n",
    "            d_arr[i] = getEuclideanDistance(polymer)\n",
    "            i += 1\n",
    "\n",
    "    return polymer, E_arr, d_arr\n",
    "            \n"
   ]
  },
  {
   "cell_type": "markdown",
   "metadata": {},
   "source": []
  },
  {
   "cell_type": "code",
   "execution_count": null,
   "metadata": {},
   "outputs": [],
   "source": [
    "# Define the interval\n",
    "lower_bound = -6e-21\n",
    "upper_bound = -2e-21\n",
    "\n",
    "# Generate a random upper triangular matrix within the specified interval\n",
    "random_matrix = (upper_bound - lower_bound) * np.random.rand(25, 25) + lower_bound\n",
    "upper_triangular = np.triu(random_matrix, 1)\n",
    "\n",
    "# Construct the symmetrical matrix by copying the upper triangular part to the lower triangular part\n",
    "symmetrical_matrix = upper_triangular + upper_triangular.T\n",
    "\n",
    "# Set the diagonal elements and the diagonals on each side of the main diagonal to zero\n",
    "for i in range(25):\n",
    "    symmetrical_matrix[i, i] = 0\n",
    "    if i > 0:\n",
    "        symmetrical_matrix[i, i-1] = 0\n",
    "        symmetrical_matrix[i-1, i] = 0\n"
   ]
  },
  {
   "cell_type": "markdown",
   "metadata": {},
   "source": []
  },
  {
   "cell_type": "code",
   "execution_count": null,
   "metadata": {},
   "outputs": [],
   "source": [
    "polly = createPolymer(25)\n",
    "dArray = np.zeros([33, 1000])\n",
    "eArray = np.zeros([33, 1000])\n",
    "Temperature = np.arange(10, 1000, 30)\n",
    "\n",
    "for i in range(len(Temperature)):\n",
    "    dArray[i] = metropolis_with_d(polly, 2000, symmetrical_matrix, Temperature[i])[2][1000:]\n",
    "    eArray[i] = metropolis_with_d(polly, 2000, symmetrical_matrix, Temperature[i])[1][1000:]\n",
    "\n",
    "\n",
    "meansDArray = np.array([np.mean(subarray) for subarray in dArray])\n",
    "meansEArray = np.array([np.mean(subarray) for subarray in eArray])\n",
    "\n",
    "\n",
    "# Create figure and axes\n",
    "fig, ax1 = plt.subplots()\n",
    "\n",
    "# Plot on the first axes\n",
    "ax1.plot(Temperature, np.abs(meansEArray), '-', label='Mean energy', color=\"crimson\")\n",
    "ax1.set_xlabel('Temperature')\n",
    "ax1.set_ylabel('$\\\\langle E \\\\rangle$', color='crimson')\n",
    "ax1.tick_params(axis='y', labelcolor='crimson')\n",
    "ax1.legend(loc='upper left')\n",
    "\n",
    "# Create a second axes that shares the same x-axis\n",
    "ax2 = ax1.twinx()\n",
    "ax2.plot(Temperature, meansDArray, '-', label='Mean diameter', color=\"darkslateblue\")\n",
    "ax2.set_ylabel('$\\\\langle d \\\\rangle (T)$', color='darkslateblue')\n",
    "ax2.tick_params(axis='y', labelcolor='darkslateblue')\n",
    "ax2.legend(loc='lower right')\n",
    "\n",
    "plt.show()"
   ]
  },
  {
   "cell_type": "markdown",
   "metadata": {},
   "source": []
  },
  {
   "cell_type": "code",
   "execution_count": null,
   "metadata": {},
   "outputs": [],
   "source": [
    "def vetikkehvakalle(V, N_s, N, T, polymer):\n",
    "    Temperature = np.arange(T, 10, -30)\n",
    "    p = np.copy(polymer)\n",
    "    d_arr = np.zeros(len(Temperature))\n",
    "    for i in range(len(Temperature)):\n",
    "        p, E, d = metropolis_with_d(p, N_s, V, Temperature[i])\n",
    "        d_arr[i] = np.mean(d)\n",
    "    visualize_polymer(p)\n",
    "    return d_arr, Temperature\n",
    "\n",
    "d_arr, T = vetikkehvakalle(V, N_s, 30, 1000, createPolymer(30))\n"
   ]
  },
  {
   "cell_type": "markdown",
   "metadata": {},
   "source": []
  },
  {
   "cell_type": "code",
   "execution_count": null,
   "metadata": {},
   "outputs": [],
   "source": [
    "def func2(x,a,b,c):\n",
    "    return 1-a*np.exp(-b*x)+c\n",
    "#scatter eller lineplot? Spør på veiledning\n",
    "initial_guess = (1, 0.01, 1)\n",
    "\n",
    "popt3, pcov3 = curve_fit(func2, T, d_arr, p0=initial_guess)\n",
    "a_fit, b_fit, c_fit = popt3\n",
    "predictedY = func2(T, a_fit,b_fit,c_fit)\n",
    "\n",
    "plt.scatter(T, d_arr, marker=\"x\", alpha=0.7, color=\"darkorange\", label=\"Original Data\")\n",
    "plt.plot(T, predictedY, '-', color=\"seagreen\", label=\"Fitted Curve\")\n",
    "plt.xlabel('x')\n",
    "plt.ylabel('y')\n",
    "plt.title(\"Nonlinear Regression\")\n",
    "plt.legend()\n",
    "plt.show()"
   ]
  },
  {
   "cell_type": "markdown",
   "metadata": {},
   "source": []
  },
  {
   "cell_type": "code",
   "execution_count": null,
   "metadata": {},
   "outputs": [],
   "source": []
  }
 ],
 "metadata": {
  "kernelspec": {
   "display_name": "Python 3",
   "language": "python",
   "name": "python3"
  },
  "language_info": {
   "codemirror_mode": {
    "name": "ipython",
    "version": 3
   },
   "file_extension": ".py",
   "mimetype": "text/x-python",
   "name": "python",
   "nbconvert_exporter": "python",
   "pygments_lexer": "ipython3",
   "version": "3.10.9"
  }
 },
 "nbformat": 4,
 "nbformat_minor": 2
}
