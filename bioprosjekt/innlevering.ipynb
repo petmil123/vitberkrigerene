{
 "cells": [
  {
   "cell_type": "markdown",
   "metadata": {},
   "source": [
    "# Polymers"
   ]
  },
  {
   "cell_type": "markdown",
   "metadata": {},
   "source": [
    "1 a)"
   ]
  },
  {
   "cell_type": "markdown",
   "metadata": {},
   "source": [
    "Ved å lagre informasjonen i et N x 2 array, vil kjøretiden minke betraktelig. Siden vi bare er interresert i posisjonen til de N monomerene, og ikke hele gitteret, vil dette være den beste framgangsmåten. Vi oppretter et array med dimensjon N x 2, der hver rad inneholder informasjon om posisjonen til en monomer i polymeren. Den første kolonnen inneholder x-koordinaten til polymeren, og den andre y-koordinaten. "
   ]
  },
  {
   "cell_type": "code",
   "execution_count": null,
   "metadata": {},
   "outputs": [],
   "source": [
    "# Importing libraries\n",
    "import numpy as np\n",
    "import matplotlib.pyplot as plt\n",
    "from matplotlib.colors import ListedColormap\n",
    "from scipy.optimize import curve_fit\n",
    "from scipy.spatial.distance import cdist"
   ]
  },
  {
   "cell_type": "code",
   "execution_count": null,
   "metadata": {},
   "outputs": [],
   "source": [
    "# 1b)Petar lukter\n",
    "\n",
    "def createPolymer(n):\n",
    "    \"\"\"Inputs a number n and returns a horizontal polymer\"\"\"\n",
    "    polymer = np.zeros((n,2))\n",
    "    polymer[:,0] = np.linspace(0,n-1,n)\n",
    "    polymer[:,1] = n//2\n",
    "    return polymer"
   ]
  },
  {
   "cell_type": "markdown",
   "metadata": {},
   "source": [
    "1c)\n",
    "En rotatsjon om endepunktene vil ikke gi energiendring. Energiendring kommer av vekselvirkninger mellom monomerer som ligger inntil hverandre, men ikke er nabo-monomerer i selve polynomet.\n",
    "Altså er det kun energiendring om enten som monomerer ligger i en avstand 1 unna hverandre flyttes fra hverandre, eller motsatt, hele tiden uten å være naboer i polynomet."
   ]
  },
  {
   "cell_type": "code",
   "execution_count": null,
   "metadata": {},
   "outputs": [],
   "source": [
    "def createDirectionList(polymerPart):\n",
    "    dir = np.zeros(len(polymerPart-1))\n",
    "    for i in range(len(polymerPart)-1):\n",
    "        d = polymerPart[i+1] - polymerPart[i]\n",
    "        # Right\n",
    "        if d[0] == 1 and d[1] == 0:\n",
    "            dir[i] = 0\n",
    "        # Up\n",
    "        elif d[0] == 0 and d[1] == 1:\n",
    "            dir[i] = 1\n",
    "        # Left\n",
    "        elif d[0] == -1 and d[1] == 0:\n",
    "            dir[i] = 2\n",
    "        # Down\n",
    "        elif d[0] == 0 and d[1] == -1:\n",
    "            dir[i] = 3\n",
    "        else:\n",
    "            raise ValueError(\"Not valid distance\")\n",
    "    return dir\n"
   ]
  },
  {
   "cell_type": "code",
   "execution_count": null,
   "metadata": {},
   "outputs": [],
   "source": [
    "def rotatePolymer(p, coord, clockwise=True):\n",
    "    \"\"\"Inputs a polymer, a point, and an optional boolean, and rotates the polymer around that point\n",
    "    Rotates clockwise if clockwise is true or not given, counterclockwise if false.\"\"\"\n",
    "    rotatingBase = -1\n",
    "    polymer = np.copy(p)\n",
    "    N = len(polymer)\n",
    "    # finds index of monomer to rotate around\n",
    "    for i in range(len(polymer)):\n",
    "        if np.array_equal(polymer[i],coord):\n",
    "            rotatingBase = i\n",
    "            break\n",
    "    rotatingLeft = rotatingBase <= len(polymer)//2\n",
    "\n",
    "    directionList = createDirectionList(polymer)\n",
    "    if rotatingLeft:\n",
    "        if clockwise:\n",
    "            directionList[:rotatingBase] = (directionList[:rotatingBase] -1) % 4\n",
    "        else:\n",
    "            directionList[:rotatingBase] = (directionList[:rotatingBase] +1) % 4\n",
    "    else:\n",
    "        if clockwise:\n",
    "            directionList[rotatingBase:] = (directionList[rotatingBase:] +1) % 4\n",
    "        else:\n",
    "            directionList[rotatingBase:] = (directionList[rotatingBase:] -1) % 4\n",
    "\n",
    "    #IDEA: Calculate direction change for every polymer to be rotated. Then use this info to recalculate the position based of the rotation base.\n",
    "    #print(directionList)\n",
    "\n",
    "    if rotatingLeft:\n",
    "        for i in range(rotatingBase - 1, -1, -1):\n",
    "            polymer[i] = polymer[i+1]\n",
    "            if directionList[i] == 0: # Right\n",
    "                polymer[i][0] -= 1\n",
    "            if directionList[i] == 1: # up\n",
    "                polymer[i][1] -= 1\n",
    "            if directionList[i] == 2: # left\n",
    "                polymer[i][0] += 1\n",
    "            if directionList[i] == 3: # down\n",
    "                polymer[i][1] += 1\n",
    "    else:\n",
    "        for i in range(rotatingBase + 1, len(polymer)):\n",
    "            polymer[i] = polymer[i - 1]\n",
    "            if directionList[i - 1] == 0: # Right\n",
    "                polymer[i][0] += 1\n",
    "            if directionList[i - 1] == 1: # up\n",
    "                polymer[i][1] += 1\n",
    "            if directionList[i - 1] == 2: # left\n",
    "                polymer[i][0] -= 1\n",
    "            if directionList[i - 1] == 3: # down\n",
    "                polymer[i][1] -= 1\n",
    "    return polymer"
   ]
  },
  {
   "cell_type": "markdown",
   "metadata": {},
   "source": [
    "1d)"
   ]
  },
  {
   "cell_type": "code",
   "execution_count": null,
   "metadata": {},
   "outputs": [],
   "source": [
    "def visualize_polymer(polymer):\n",
    "    # Calculate the minimum and maximum coordinates of the polymer\n",
    "    min_x = int(np.min(polymer[:, 0]))\n",
    "    max_x = int(np.max(polymer[:, 0]))\n",
    "    min_y = int(np.min(polymer[:, 1]))\n",
    "    max_y = int(np.max(polymer[:, 1]))\n",
    "\n",
    "    # Calculate grid dimensions based on the polymer coordinates\n",
    "    grid_width = max_x - min_x + 1\n",
    "    grid_height = max_y - min_y + 1\n",
    "    grid_size = int(np.max([grid_height, grid_width]))\n",
    "    cmap = ListedColormap(['white'] + plt.cm.viridis.colors)\n",
    "\n",
    "    # Initialize the grid with zeros\n",
    "    grid = np.zeros((grid_size, grid_size))\n",
    "\n",
    "    # Plot the polymer on the grid\n",
    "    for i, (x, y) in enumerate(polymer):\n",
    "        grid[int(y - min_y), int(x - min_x)] = i + 1\n",
    "\n",
    "    # Visualize the grid\n",
    "    plt.figure(figsize=(8, 8))\n",
    "    plt.pcolormesh(grid,  edgecolors='black', linewidth=0.5, cmap=cmap)\n",
    "    plt.colorbar(label='Monomer ID')\n",
    "    plt.xlabel('x-axis')\n",
    "    plt.ylabel('y-axis')\n",
    "    plt.show()"
   ]
  },
  {
   "cell_type": "code",
   "execution_count": null,
   "metadata": {},
   "outputs": [],
   "source": [
    "# 1e)\n",
    "\n",
    "def isIntact(polymer, N):\n",
    "    \"\"\"Checks if a polymer is intact\"\"\"\n",
    "    \n",
    "    #Finner lengden av polymeret\n",
    "    length = len(polymer)\n",
    "\n",
    "    # Hvis lengden av monomeret er kortere enn n har vi \"mistet\" et monomer\n",
    "    if length != N:\n",
    "        return False\n",
    "\n",
    "    #Finner lengden av uni_length som fjerner eventuelle duplikater i polymeret\n",
    "    uni_length = len(np.unique(polymer, axis=0)) \n",
    "\n",
    "    if uni_length != length:\n",
    "        return False\n",
    "\n",
    "    #Sjekker om avstanden mellom hvert av monomerene er 1\n",
    "    for i in range(N-1): \n",
    "        x_dist = np.abs(polymer[i+1][0]-polymer[i][0])\n",
    "        y_dist = np.abs(polymer[i+1][1]-polymer[i][1])\n",
    "        distance = x_dist + y_dist\n",
    "        if distance != 1 or length != N or uni_length != length:\n",
    "\n",
    "            #Returnerer false dersom set_length er ulik length (duplikat-verdi i polymeret),\n",
    "            #length ulik n, eller monomerer er lenger enn 1 i avstand unna hverandre\n",
    "            return False\n",
    "    return True"
   ]
  },
  {
   "cell_type": "code",
   "execution_count": null,
   "metadata": {},
   "outputs": [],
   "source": [
    "# 1j)\n",
    "\n",
    "\n",
    "def calculateEnergy(polymer, V):\n",
    "    b = cdist(polymer, polymer, 'cityblock') == 1\n",
    "    energyMatrix = np.multiply(V,b)\n",
    "    return np.sum(energyMatrix)/2\n",
    "\n",
    "V = np.zeros([len(t1),len(t1)])\n",
    "V[np.tril_indices_from(V,-2)] = -1\n",
    "V[np.triu_indices_from(V,2)] = -1\n",
    "\n",
    "print(calculateEnergy(t1,V))\n",
    "    "
   ]
  },
  {
   "cell_type": "code",
   "execution_count": null,
   "metadata": {},
   "outputs": [],
   "source": [
    "# 1g\n",
    "# Calculate the minimum and maximum coordinates of the polymer\n",
    "def testRotate(N, N_s):\n",
    "    polymer = createPolymer(N)\n",
    "    twisted_polymer = np.array([])\n",
    "    succesRotations = 0\n",
    "\n",
    "    for i in range(N_s):\n",
    "        rotateMonomer = np.random.randint(1, N+1)\n",
    "        rotateMonomer = polymer[rotateMonomer - 1]\n",
    "        rotateDirection = np.random.randint(1,3)\n",
    "        if rotateDirection == 1:\n",
    "            twisted_polymer = rotatePolymer(polymer, rotateMonomer, clockwise = True)\n",
    "            if isIntact(twisted_polymer, N) == True:\n",
    "                succesRotations += 1 \n",
    "                polymer = np.copy(twisted_polymer)\n",
    "        if rotateDirection == 2:\n",
    "             twisted_polymer = rotatePolymer(polymer, rotateMonomer, clockwise = False)\n",
    "             if isIntact(twisted_polymer, N) == True:\n",
    "                succesRotations += 1 \n",
    "                polymer = np.copy(twisted_polymer)\n",
    "        # visualize_polymer(polymer)\n",
    "\n",
    "    \n",
    "    return polymer, succesRotations\n",
    "\n",
    "t = testRotate(100, 1000)\n",
    "t1 = t[0]\n",
    "t2 = t[1]\n",
    "print(t2)\n",
    "visualize_polymer(t1)\n"
   ]
  },
  {
   "cell_type": "code",
   "execution_count": null,
   "metadata": {},
   "outputs": [],
   "source": [
    "#1i)\n",
    "def successRot(N_s):\n",
    "\n",
    "    successRate = np.array([])\n",
    "\n",
    "    for i in range(10, 1000, 10):\n",
    "        successes = testRotate(i, N_s)[1]\n",
    "        percentage = (successes / N_s) * 100\n",
    "        successRate = np.append(successRate, percentage)\n",
    "\n",
    "    return successRate\n",
    "\n",
    "xVals = np.arange(10, 1000, 10)\n",
    "\n",
    "yVals1000 = successRot(1000)"
   ]
  },
  {
   "cell_type": "code",
   "execution_count": null,
   "metadata": {},
   "outputs": [],
   "source": [
    "yVals2000 = successRot(2000)"
   ]
  },
  {
   "cell_type": "code",
   "execution_count": null,
   "metadata": {},
   "outputs": [],
   "source": [
    "# Perform curve fitting\n",
    "def func(x, a, b, c):\n",
    "    return a * np.exp(-b * x) + c\n",
    "\n",
    "popt1, pcov1 = curve_fit(func, xVals, yVals1000)\n",
    "popt2, pcov2 = curve_fit(func, xVals, yVals2000)\n",
    "\n",
    "# Extract optimized parameters\n",
    "a_fit, b_fit, c_fit = popt1\n",
    "d, e, f = popt2\n",
    "\n",
    "# Generate y values using the fitted parameters\n",
    "y_pred1000 = func(xVals, a_fit, b_fit, c_fit)\n",
    "y_pred2000 = func(xVals, d, e, f)\n",
    "\n",
    "# Plot the original data and the fitted curve\n",
    "plt.scatter(xVals, yVals1000, marker=\"x\", alpha=0.5, label='Original Data, N_s = 1000')\n",
    "plt.scatter(xVals, yVals2000, marker=\"x\", alpha=0.5, label='Original Data, N_s = 2000')\n",
    "plt.plot(xVals, y_pred1000, 'r-', label='Fitted Curve, N_s = 1000')\n",
    "plt.plot(xVals, y_pred2000, 'b-', label='Fitted Curve, N_s = 2000')\n",
    "plt.xlabel('x')\n",
    "plt.ylabel('y')\n",
    "plt.title('Nonlinear Regression')\n",
    "plt.legend()\n",
    "plt.show()"
   ]
  },
  {
   "cell_type": "code",
   "execution_count": 45,
   "metadata": {},
   "outputs": [],
   "source": [
    "#2a)\n",
    "\n",
    "def metropolis(polymer, N_s, V, T):\n",
    "    beta = 1/(k_B*T)\n",
    "    N = len(polymer)\n",
    "    E_arr = np.zeros(N_s)\n",
    "    E = calculateEnergy(polymer, V)\n",
    "    i = 0\n",
    "    while i < N_s:\n",
    "        xRand = np.random.random_integers(0, len(polymer)-1)\n",
    "        twist_coords = polymer[xRand]\n",
    "        clockwise = bool(np.random.random_integers(0,1))\n",
    "        twisted_polymer = rotatePolymer(polymer,twist_coords, clockwise)\n",
    "        if isIntact(twisted_polymer, N):\n",
    "            E_new = calculateEnergy(twisted_polymer, V)\n",
    "            if E_new > E or np.random.uniform() < np.exp(-beta*(E_new - E)):\n",
    "                polymer = np.copy(twisted_polymer)\n",
    "                E = E_new\n",
    "            E_arr[i] = E\n",
    "            i += 1\n",
    "\n",
    "    return polymer, E_arr\n",
    "            \n"
   ]
  },
  {
   "cell_type": "code",
   "execution_count": null,
   "metadata": {},
   "outputs": [],
   "source": [
    "# 2b\n",
    "\n",
    "p1 = createPolymer(30)\n",
    "p2 = np.copy(p1)\n",
    "N_s = 5000\n",
    "nonzero_E = -4e-21\n",
    "k_B = 1.38e-23\n",
    "\n",
    "\n",
    "V = np.zeros([len(p1),len(p1)])\n",
    "V[np.tril_indices_from(V,-2)] = nonzero_E\n",
    "V[np.triu_indices_from(V,2)] = nonzero_E\n",
    "\n",
    "T_low = 75\n",
    "T_high = 343\n",
    "\n",
    "polymer_low, E_arr_low = metropolis(p1, N_s, V, T_low)\n",
    "polymer_high, E_arr_high = metropolis(p1, N_s, V, T_low)\n",
    "\n",
    "t = np.arange(0,len(E_arr_low))\n",
    "\n",
    "plt.plot(t[::50],E_arr_low[::50])\n",
    "plt.plot(t[::50],E_arr_high[::50])\n",
    "\n"
   ]
  },
  {
   "cell_type": "code",
   "execution_count": null,

   "metadata": {},
   "outputs": [],
   "source": [
    "# 2c\n",
    "visualize_polymer(polymer_low)\n",
    "visualize_polymer(polymer_high)"
   ]
  },
  {
   "cell_type": "code",
   "execution_count": 47,
   "metadata": {},
   "outputs": [
    {
     "name": "stderr",
     "output_type": "stream",
     "text": [
      "C:\\Users\\petar\\AppData\\Local\\Temp\\ipykernel_9532\\4267153368.py:10: DeprecationWarning: This function is deprecated. Please call randint(0, 29 + 1) instead\n",
      "  xRand = np.random.random_integers(0, len(polymer)-1)\n",
      "C:\\Users\\petar\\AppData\\Local\\Temp\\ipykernel_9532\\4267153368.py:12: DeprecationWarning: This function is deprecated. Please call randint(0, 1 + 1) instead\n",
      "  clockwise = bool(np.random.random_integers(0,1))\n",
      "C:\\Users\\petar\\AppData\\Local\\Temp\\ipykernel_9532\\4267153368.py:16: RuntimeWarning: overflow encountered in exp\n",
      "  if E_new > E or np.random.uniform() < np.exp(-beta*(E_new - E)):\n"
     ]
    },
    {
     "data": {
      "image/png": "[encoded data removed]",
      "text/plain": [
       "<Figure size 800x800 with 2 Axes>"
      ]
     },
     "metadata": {},
     "output_type": "display_data"
    }
   ],
   "source": [
    "# 2d\n",
    "p3 = createPolymer(30)\n",
    "V_d = -1*np.ones([len(p3), len(p3)])\n",
    "for i in range(1, len(p3//2 + 1)):\n",
    "    V_d[i:-i, i:-i] *=10\n",
    "\n",
    "polymer_d, E_d = metropolis(p3, 10000, V_d, 150)\n",
    "\n",
    "visualize_polymer(polymer_d)"
   ]
  },
  {
   "cell_type": "code",
   "execution_count": null,
   "metadata": {},
   "outputs": [],
   "source": [
    "pol = createPolymer(30)\n",
    "metropolis(pol, 10000, V, 30)[1]\n",
    "\n",
    "Temperature = np.arange(10, 1000, 30)\n",
    "print(len(Temperature))"
   ]
  },
  {
   "cell_type": "code",
   "execution_count": null,
   "metadata": {},
   "outputs": [],
   "source": [
    "# 2e\n",
    "def test(N_s):\n",
    "    pol = createPolymer(30)\n",
    "    Temperature = np.arange(10, 1000, 30)\n",
    "    energyArray = np.zeros([33, N_s - 1000])\n",
    "    print(energyArray)\n",
    "\n",
    "    for i in range(len(Temperature)):\n",
    "        energyArray[i] = metropolis(pol, N_s, V, Temperature[i])[1][1000:]\n",
    "\n",
    "    return energyArray"
   ]
  },
  {
   "cell_type": "code",
   "execution_count": null,
   "metadata": {},
   "outputs": [],
   "source": [
    "runNs2000 = test(2000)\n",
    "runNs3000 = test(3000)\n",
    "runNs4000 = test(4000)"
   ]
  },
  {
   "cell_type": "code",
   "execution_count": null,
   "metadata": {},
   "outputs": [],
   "source": [
    "meanRunNs2000 = np.mean(runNs2000, axis=1)\n",
    "stdRunNs2000 = np.std(runNs2000, ddof=1, axis=1)\n",
    "\n",
    "meanRunNs3000 = np.mean(runNs3000, axis=1)\n",
    "stdRunNs3000 = np.std(runNs3000, ddof=1, axis=1)\n",
    "\n",
    "meanRunNs4000 = np.mean(runNs4000, axis=1)\n",
    "stdRunNs4000 = np.std(runNs4000, ddof=1, axis=1)\n",
    "\n",
    "plt.figure(figsize=(8, 8))\n",
    "#plt.errorbar(Temperature, meanRunNs2000, yerr=stdRunNs2000, fmt='-', capsize=3)\n",
    "plt.plot(Temperature, meanRunNs2000, label=\"N_s = 2000\")\n",
    "#plt.errorbar(Temperature, meanRunNs3000, yerr=stdRunNs3000, fmt='-', capsize=3)\n",
    "plt.plot(Temperature, meanRunNs3000, label=\"N_s = 3000\")\n",
    "#plt.errorbar(Temperature, meanRunNs4000, yerr=stdRunNs4000, fmt='-', capsize=3)\n",
    "plt.plot(Temperature, meanRunNs4000, label=\"N_s = 4000\")\n",
    "plt.xlabel('Temperature [K]', fontsize=15)\n",
    "plt.ylabel('$\\\\langle E \\\\rangle$ [J]', fontsize=15)\n",
    "plt.legend()\n",
    "plt.show()\n",
    "\n",
    "#print(yolo/len(yolo))"
   ]
  },
  {
   "cell_type": "code",
   "execution_count": null,
   "metadata": {},
   "outputs": [],
   "source": [
    "# 2f"
   ]
  },
  {
   "cell_type": "code",
   "execution_count": null,
   "metadata": {},
   "outputs": [],
   "source": [
    "# 2g\n",
    "\n",
    "def getEuclideanDistance(polymer):\n",
    "    return np.max(cdist(polymer, polymer, 'euclid'))\n",
    "\n",
    "def metropolis_with_d(polymer, N_s, V, T):\n",
    "    beta = 1/(k_B*T)\n",
    "    N = len(polymer)\n",
    "    E_arr = np.zeros(N_s)\n",
    "    d_arr = np.zeros(N_s)\n",
    "    E = calculateEnergy(polymer, V)\n",
    "    i = 0\n",
    "    while i < N_s:\n",
    "        xRand = np.random.random_integers(0, len(polymer)-1)\n",
    "        twist_coords = polymer[xRand]\n",
    "        clockwise = bool(np.random.random_integers(0,1))\n",
    "        twisted_polymer = rotatePolymer(polymer,twist_coords, clockwise)\n",
    "        if isIntact(twisted_polymer, N):\n",
    "            E_new = calculateEnergy(twisted_polymer, V)\n",
    "            if E_new > E or np.random.uniform() < np.exp(-beta*(E_new - E)):\n",
    "                polymer = np.copy(twisted_polymer)\n",
    "                E = E_new\n",
    "            E_arr[i] = E\n",
    "            d_arr[i] = getEuclideanDistance(polymer)\n",
    "            i += 1\n",
    "\n",
    "    return polymer, E_arr, d_arr\n",
    "            \n"
   ]
  },
  {
   "cell_type": "code",
   "execution_count": null,
   "metadata": {},
   "outputs": [],
   "source": [
    "# 2h"
   ]
  }
 ],
 "metadata": {
  "kernelspec": {
   "display_name": "Python 3",
   "language": "python",
   "name": "python3"
  },
  "language_info": {
   "codemirror_mode": {
    "name": "ipython",
    "version": 3
   },
   "file_extension": ".py",
   "mimetype": "text/x-python",
   "name": "python",
   "nbconvert_exporter": "python",
   "pygments_lexer": "ipython3",
   "version": "3.10.9"
  }
 },
 "nbformat": 4,
 "nbformat_minor": 2
}
